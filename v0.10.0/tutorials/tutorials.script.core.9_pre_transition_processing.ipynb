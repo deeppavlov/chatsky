{
 "cells": [
  {
   "cell_type": "markdown",
   "id": "305b04ba",
   "metadata": {
    "cell_marker": "\"\"\""
   },
   "source": [
    "# Core: 9. Pre-transition processing\n",
    "\n",
    "Here, [PRE_TRANSITION](../apiref/chatsky.core.script.rst#chatsky.core.script.PRE_TRANSITION)\n",
    "is demonstrated which can be used for additional context\n",
    "processing before transitioning to the next step."
   ]
  },
  {
   "cell_type": "code",
   "execution_count": 1,
   "id": "abe77652",
   "metadata": {
    "execution": {
     "iopub.execute_input": "2025-02-18T10:37:03.002210Z",
     "iopub.status.busy": "2025-02-18T10:37:03.001955Z",
     "iopub.status.idle": "2025-02-18T10:37:04.248127Z",
     "shell.execute_reply": "2025-02-18T10:37:04.247357Z"
    }
   },
   "outputs": [
    {
     "name": "stdout",
     "output_type": "stream",
     "text": [
      "Note: you may need to restart the kernel to use updated packages.\n"
     ]
    }
   ],
   "source": [
    "# installing dependencies\n",
    "%pip install -q chatsky==0.10.0"
   ]
  },
  {
   "cell_type": "code",
   "execution_count": 2,
   "id": "27d19841",
   "metadata": {
    "execution": {
     "iopub.execute_input": "2025-02-18T10:37:04.250545Z",
     "iopub.status.busy": "2025-02-18T10:37:04.250282Z",
     "iopub.status.idle": "2025-02-18T10:37:05.898462Z",
     "shell.execute_reply": "2025-02-18T10:37:05.897745Z"
    },
    "lines_to_next_cell": 2
   },
   "outputs": [],
   "source": [
    "from chatsky import (\n",
    "    GLOBAL,\n",
    "    RESPONSE,\n",
    "    TRANSITIONS,\n",
    "    PRE_RESPONSE,\n",
    "    PRE_TRANSITION,\n",
    "    Context,\n",
    "    Pipeline,\n",
    "    BaseProcessing,\n",
    "    BaseResponse,\n",
    "    MessageInitTypes,\n",
    "    Transition as Tr,\n",
    "    destinations as dst,\n",
    "    processing as proc,\n",
    ")\n",
    "\n",
    "from chatsky.utils.testing.common import (\n",
    "    check_happy_path,\n",
    "    is_interactive_mode,\n",
    ")"
   ]
  },
  {
   "cell_type": "markdown",
   "id": "0db957b6",
   "metadata": {
    "cell_marker": "\"\"\""
   },
   "source": [
    "Processing functions can be used at two stages:\n",
    "\n",
    "1. Pre-transition. Triggers after response is received but before\n",
    "   the next node is considered.\n",
    "2. Pre-response. Triggers after transition is chosen and current node is\n",
    "   changed but before response of that node is calculated.\n",
    "\n",
    "In this tutorial we'll save the response function of the current node\n",
    "during pre-transition and extract it during pre-response\n",
    "(at which point current node is already changed)."
   ]
  },
  {
   "cell_type": "code",
   "execution_count": 3,
   "id": "baa75af6",
   "metadata": {
    "execution": {
     "iopub.execute_input": "2025-02-18T10:37:05.901546Z",
     "iopub.status.busy": "2025-02-18T10:37:05.900914Z",
     "iopub.status.idle": "2025-02-18T10:37:05.907280Z",
     "shell.execute_reply": "2025-02-18T10:37:05.906686Z"
    }
   },
   "outputs": [],
   "source": [
    "class SavePreviousNodeResponse(BaseProcessing):\n",
    "    async def call(self, ctx: Context) -> None:\n",
    "        if ctx.current_node.response is not None:\n",
    "            ctx.misc[\"previous_node_response\"] = ctx.current_node.response\n",
    "        # This function is called as Pre-transition\n",
    "        # so current node is going to be the previous one\n",
    "        # when we reach the Pre-response step\n",
    "\n",
    "\n",
    "class PrependPreviousNodeResponse(proc.ModifyResponse):\n",
    "    async def modified_response(\n",
    "        self, original_response: BaseResponse, ctx: Context\n",
    "    ) -> MessageInitTypes:\n",
    "        result = await original_response(ctx)\n",
    "\n",
    "        previous_node_response = ctx.misc.get(\"previous_node_response\")\n",
    "        if previous_node_response is None:\n",
    "            return result\n",
    "        else:\n",
    "            previous_result = await previous_node_response(ctx)\n",
    "        return f\"previous={previous_result.text}: current={result.text}\""
   ]
  },
  {
   "cell_type": "markdown",
   "id": "661a9237",
   "metadata": {
    "cell_marker": "\"\"\"",
    "lines_to_next_cell": 2
   },
   "source": [
    "<div class=\"alert alert-info\">\n",
    "\n",
    "Note\n",
    "\n",
    "Previous node can be accessed another way.\n",
    "\n",
    "Instead of storing the node response in misc,\n",
    "one can obtain previous label\n",
    "with `dst.Previous()(ctx)` and then get the node from the\n",
    "[Script](../apiref/chatsky.core.script.rst#chatsky.core.script.Script) object:\n",
    "\n",
    "```python\n",
    "ctx.pipeline.script.get_inherited_node(dst.Previous()(ctx))\n",
    "```\n",
    "\n",
    "</div>"
   ]
  },
  {
   "cell_type": "code",
   "execution_count": 4,
   "id": "08e5bb46",
   "metadata": {
    "execution": {
     "iopub.execute_input": "2025-02-18T10:37:05.909768Z",
     "iopub.status.busy": "2025-02-18T10:37:05.909343Z",
     "iopub.status.idle": "2025-02-18T10:37:05.914838Z",
     "shell.execute_reply": "2025-02-18T10:37:05.914185Z"
    },
    "lines_to_next_cell": 2
   },
   "outputs": [],
   "source": [
    "# a dialog script\n",
    "toy_script = {\n",
    "    \"root\": {\n",
    "        \"start\": {\n",
    "            TRANSITIONS: [Tr(dst=(\"flow\", \"step_0\"))],\n",
    "        },\n",
    "        \"fallback\": {RESPONSE: \"the end\"},\n",
    "    },\n",
    "    GLOBAL: {\n",
    "        PRE_RESPONSE: {\"proc_name_1\": PrependPreviousNodeResponse()},\n",
    "        PRE_TRANSITION: {\"proc_name_1\": SavePreviousNodeResponse()},\n",
    "        TRANSITIONS: [Tr(dst=dst.Forward(loop=True))],\n",
    "    },\n",
    "    \"flow\": {\n",
    "        \"step_0\": {RESPONSE: \"first\"},\n",
    "        \"step_1\": {RESPONSE: \"second\"},\n",
    "        \"step_2\": {RESPONSE: \"third\"},\n",
    "        \"step_3\": {RESPONSE: \"fourth\"},\n",
    "        \"step_4\": {RESPONSE: \"fifth\"},\n",
    "    },\n",
    "}\n",
    "\n",
    "\n",
    "# testing\n",
    "happy_path = (\n",
    "    (\"1\", \"first\"),\n",
    "    (\"2\", \"previous=first: current=second\"),\n",
    "    (\"3\", \"previous=second: current=third\"),\n",
    "    (\"4\", \"previous=third: current=fourth\"),\n",
    "    (\"5\", \"previous=fourth: current=fifth\"),\n",
    ")"
   ]
  },
  {
   "cell_type": "code",
   "execution_count": 5,
   "id": "649b21b7",
   "metadata": {
    "execution": {
     "iopub.execute_input": "2025-02-18T10:37:05.916939Z",
     "iopub.status.busy": "2025-02-18T10:37:05.916723Z",
     "iopub.status.idle": "2025-02-18T10:37:05.940357Z",
     "shell.execute_reply": "2025-02-18T10:37:05.939708Z"
    }
   },
   "outputs": [
    {
     "name": "stdout",
     "output_type": "stream",
     "text": [
      "USER: text='1'\n",
      "BOT : text='first'\n",
      "USER: text='2'\n",
      "BOT : text='previous=first: current=second'\n",
      "USER: text='3'\n",
      "BOT : text='previous=second: current=third'\n",
      "USER: text='4'\n",
      "BOT : text='previous=third: current=fourth'\n",
      "USER: text='5'\n",
      "BOT : text='previous=fourth: current=fifth'\n"
     ]
    }
   ],
   "source": [
    "pipeline = Pipeline(\n",
    "    script=toy_script,\n",
    "    start_label=(\"root\", \"start\"),\n",
    "    fallback_label=(\"root\", \"fallback\"),\n",
    ")\n",
    "\n",
    "if __name__ == \"__main__\":\n",
    "    check_happy_path(pipeline, happy_path, printout=True)\n",
    "    if is_interactive_mode():\n",
    "        pipeline.run()"
   ]
  }
 ],
 "metadata": {
  "jupytext": {
   "cell_metadata_filter": "-all",
   "main_language": "python",
   "notebook_metadata_filter": "-all",
   "text_representation": {
    "extension": ".py",
    "format_name": "percent"
   }
  },
  "language_info": {
   "codemirror_mode": {
    "name": "ipython",
    "version": 3
   },
   "file_extension": ".py",
   "mimetype": "text/x-python",
   "name": "python",
   "nbconvert_exporter": "python",
   "pygments_lexer": "ipython3",
   "version": "3.9.21"
  }
 },
 "nbformat": 4,
 "nbformat_minor": 5
}
