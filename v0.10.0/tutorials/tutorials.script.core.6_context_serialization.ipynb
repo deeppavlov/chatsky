{
 "cells": [
  {
   "cell_type": "markdown",
   "id": "3fffc983",
   "metadata": {
    "cell_marker": "\"\"\""
   },
   "source": [
    "# Core: 6. Context serialization"
   ]
  },
  {
   "cell_type": "code",
   "execution_count": 1,
   "id": "43b5c6c2",
   "metadata": {
    "execution": {
     "iopub.execute_input": "2025-02-18T10:36:48.827505Z",
     "iopub.status.busy": "2025-02-18T10:36:48.827264Z",
     "iopub.status.idle": "2025-02-18T10:36:50.020188Z",
     "shell.execute_reply": "2025-02-18T10:36:50.019344Z"
    }
   },
   "outputs": [
    {
     "name": "stdout",
     "output_type": "stream",
     "text": [
      "Note: you may need to restart the kernel to use updated packages.\n"
     ]
    }
   ],
   "source": [
    "# installing dependencies\n",
    "%pip install -q chatsky==0.10.0"
   ]
  },
  {
   "cell_type": "code",
   "execution_count": 2,
   "id": "ea81273e",
   "metadata": {
    "execution": {
     "iopub.execute_input": "2025-02-18T10:36:50.022905Z",
     "iopub.status.busy": "2025-02-18T10:36:50.022275Z",
     "iopub.status.idle": "2025-02-18T10:36:51.623537Z",
     "shell.execute_reply": "2025-02-18T10:36:51.622871Z"
    }
   },
   "outputs": [],
   "source": [
    "import logging\n",
    "\n",
    "from chatsky import (\n",
    "    TRANSITIONS,\n",
    "    RESPONSE,\n",
    "    Context,\n",
    "    Pipeline,\n",
    "    Transition as Tr,\n",
    "    BaseResponse,\n",
    "    MessageInitTypes,\n",
    ")\n",
    "\n",
    "from chatsky.utils.testing.common import (\n",
    "    check_happy_path,\n",
    "    is_interactive_mode,\n",
    ")"
   ]
  },
  {
   "cell_type": "code",
   "execution_count": 3,
   "id": "53a40c31",
   "metadata": {
    "execution": {
     "iopub.execute_input": "2025-02-18T10:36:51.626371Z",
     "iopub.status.busy": "2025-02-18T10:36:51.625792Z",
     "iopub.status.idle": "2025-02-18T10:36:51.630104Z",
     "shell.execute_reply": "2025-02-18T10:36:51.629473Z"
    }
   },
   "outputs": [],
   "source": [
    "class RequestCounter(BaseResponse):\n",
    "    async def call(self, ctx: Context) -> MessageInitTypes:\n",
    "        return f\"answer {len(ctx.requests)}\""
   ]
  },
  {
   "cell_type": "code",
   "execution_count": 4,
   "id": "0a32d878",
   "metadata": {
    "execution": {
     "iopub.execute_input": "2025-02-18T10:36:51.632400Z",
     "iopub.status.busy": "2025-02-18T10:36:51.631972Z",
     "iopub.status.idle": "2025-02-18T10:36:51.635882Z",
     "shell.execute_reply": "2025-02-18T10:36:51.635165Z"
    }
   },
   "outputs": [],
   "source": [
    "toy_script = {\n",
    "    \"flow_start\": {\n",
    "        \"node_start\": {\n",
    "            RESPONSE: RequestCounter(),\n",
    "            TRANSITIONS: [Tr(dst=(\"flow_start\", \"node_start\"))],\n",
    "        }\n",
    "    }\n",
    "}\n",
    "\n",
    "# testing\n",
    "happy_path = (\n",
    "    (\"hi\", \"answer 1\"),\n",
    "    (\"how are you?\", \"answer 2\"),\n",
    "    (\"ok\", \"answer 3\"),\n",
    "    (\"good\", \"answer 4\"),\n",
    ")"
   ]
  },
  {
   "cell_type": "markdown",
   "id": "802e2805",
   "metadata": {
    "cell_marker": "\"\"\""
   },
   "source": [
    "Draft function that performs serialization."
   ]
  },
  {
   "cell_type": "code",
   "execution_count": 5,
   "id": "a204b503",
   "metadata": {
    "execution": {
     "iopub.execute_input": "2025-02-18T10:36:51.637995Z",
     "iopub.status.busy": "2025-02-18T10:36:51.637624Z",
     "iopub.status.idle": "2025-02-18T10:36:51.642069Z",
     "shell.execute_reply": "2025-02-18T10:36:51.641519Z"
    }
   },
   "outputs": [],
   "source": [
    "def process_response(ctx: Context):\n",
    "    ctx_json = ctx.model_dump_json()\n",
    "    if isinstance(ctx_json, str):\n",
    "        logging.info(\"context serialized to json str\")\n",
    "    else:\n",
    "        raise Exception(f\"ctx={ctx_json} has to be serialized to json string\")\n",
    "\n",
    "    ctx_dict = ctx.model_dump()\n",
    "    if isinstance(ctx_dict, dict):\n",
    "        logging.info(\"context serialized to dict\")\n",
    "    else:\n",
    "        raise Exception(f\"ctx={ctx_dict} has to be serialized to dict\")\n",
    "\n",
    "    if not isinstance(ctx, Context):\n",
    "        raise Exception(f\"ctx={ctx} has to have Context type\")"
   ]
  },
  {
   "cell_type": "code",
   "execution_count": 6,
   "id": "3d1c3a2b",
   "metadata": {
    "execution": {
     "iopub.execute_input": "2025-02-18T10:36:51.644171Z",
     "iopub.status.busy": "2025-02-18T10:36:51.643762Z",
     "iopub.status.idle": "2025-02-18T10:36:51.661349Z",
     "shell.execute_reply": "2025-02-18T10:36:51.660738Z"
    }
   },
   "outputs": [
    {
     "name": "stdout",
     "output_type": "stream",
     "text": [
      "USER: text='hi'\n",
      "BOT : text='answer 1'\n",
      "USER: text='how are you?'\n",
      "BOT : text='answer 2'\n",
      "USER: text='ok'\n",
      "BOT : text='answer 3'\n",
      "USER: text='good'\n",
      "BOT : text='answer 4'\n"
     ]
    }
   ],
   "source": [
    "pipeline = Pipeline(\n",
    "    script=toy_script,\n",
    "    start_label=(\"flow_start\", \"node_start\"),\n",
    "    post_services=[process_response],\n",
    ")\n",
    "\n",
    "if __name__ == \"__main__\":\n",
    "    check_happy_path(pipeline, happy_path, printout=True)\n",
    "    if is_interactive_mode():\n",
    "        pipeline.run()"
   ]
  }
 ],
 "metadata": {
  "jupytext": {
   "cell_metadata_filter": "-all",
   "main_language": "python",
   "notebook_metadata_filter": "-all",
   "text_representation": {
    "extension": ".py",
    "format_name": "percent"
   }
  },
  "language_info": {
   "codemirror_mode": {
    "name": "ipython",
    "version": 3
   },
   "file_extension": ".py",
   "mimetype": "text/x-python",
   "name": "python",
   "nbconvert_exporter": "python",
   "pygments_lexer": "ipython3",
   "version": "3.9.21"
  }
 },
 "nbformat": 4,
 "nbformat_minor": 5
}
