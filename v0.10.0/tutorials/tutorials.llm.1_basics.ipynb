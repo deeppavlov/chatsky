{
 "cells": [
  {
   "cell_type": "markdown",
   "id": "c4082261",
   "metadata": {
    "cell_marker": "\"\"\""
   },
   "source": [
    "# LLM: 1. Basics\n",
    "\n",
    "With Chatsky, you can easily integrate LLM (Large Language Model)\n",
    "invocations into your scripts.\n",
    "This tutorial demonstrates how to use LLMs for generating responses and handling\n",
    "conditional logic in your conversational flows.\n",
    "\n",
    "Chatsky leverages LangChain internally to interface with remote LLM providers."
   ]
  },
  {
   "cell_type": "code",
   "execution_count": 1,
   "id": "8213d3c0",
   "metadata": {
    "execution": {
     "iopub.execute_input": "2025-02-18T10:35:25.679014Z",
     "iopub.status.busy": "2025-02-18T10:35:25.678571Z",
     "iopub.status.idle": "2025-02-18T10:35:27.009067Z",
     "shell.execute_reply": "2025-02-18T10:35:27.008236Z"
    }
   },
   "outputs": [
    {
     "name": "stdout",
     "output_type": "stream",
     "text": [
      "Note: you may need to restart the kernel to use updated packages.\n"
     ]
    }
   ],
   "source": [
    "# installing dependencies\n",
    "%pip install -q chatsky[llm]==0.10.0 langchain-openai==0.2.8"
   ]
  },
  {
   "cell_type": "code",
   "execution_count": 2,
   "id": "5e1fb6a9",
   "metadata": {
    "execution": {
     "iopub.execute_input": "2025-02-18T10:35:27.011860Z",
     "iopub.status.busy": "2025-02-18T10:35:27.011632Z",
     "iopub.status.idle": "2025-02-18T10:35:29.279521Z",
     "shell.execute_reply": "2025-02-18T10:35:29.278839Z"
    }
   },
   "outputs": [],
   "source": [
    "import os\n",
    "\n",
    "from chatsky.core.message import Message\n",
    "from chatsky import (\n",
    "    TRANSITIONS,\n",
    "    RESPONSE,\n",
    "    Pipeline,\n",
    "    Transition as Tr,\n",
    "    conditions as cnd,\n",
    "    destinations as dst,\n",
    ")\n",
    "from chatsky.utils.testing import (\n",
    "    is_interactive_mode,\n",
    ")\n",
    "from chatsky.llm import LLM_API\n",
    "from chatsky.responses.llm import LLMResponse\n",
    "from chatsky.conditions.llm import LLMCondition\n",
    "from chatsky.llm.methods import Contains\n",
    "from langchain_openai import ChatOpenAI"
   ]
  },
  {
   "cell_type": "markdown",
   "id": "628dd30d",
   "metadata": {
    "cell_marker": "\"\"\""
   },
   "source": [
    "## Model Configuration\n",
    "\n",
    "First, we need to create a model object.\n",
    "\n",
    "LangChain automatically reads environment variables for model configurations,\n",
    "so explicit API key settings aren't always necessary."
   ]
  },
  {
   "cell_type": "code",
   "execution_count": 3,
   "id": "86621bea",
   "metadata": {
    "execution": {
     "iopub.execute_input": "2025-02-18T10:35:29.282213Z",
     "iopub.status.busy": "2025-02-18T10:35:29.281861Z",
     "iopub.status.idle": "2025-02-18T10:35:29.347028Z",
     "shell.execute_reply": "2025-02-18T10:35:29.346382Z"
    },
    "lines_to_next_cell": 0
   },
   "outputs": [],
   "source": [
    "openai_api_key = os.getenv(\"OPENAI_API_KEY\")\n",
    "\n",
    "model = LLM_API(\n",
    "    ChatOpenAI(model=\"gpt-4o-mini\", api_key=openai_api_key),\n",
    "    system_prompt=\"You are an experienced barista in a local coffe shop. \"\n",
    "    \"Answer your customer's questions about coffee and barista work.\",\n",
    ")"
   ]
  },
  {
   "cell_type": "markdown",
   "id": "1d4c4f9b",
   "metadata": {
    "cell_marker": "\"\"\""
   },
   "source": [
    "The initiated model then needs to be passed to `Pipeline` as such:\n",
    "```python\n",
    "pipeline = Pipeline(\n",
    "    ...\n",
    "    models={\n",
    "        \"my_model_name\": model\n",
    "    }\n",
    ")\n",
    "```\n",
    "Model name is used to reference the model config in the LLM script functions.\n",
    "\n",
    "You can also make multiple models and pass them together in the `models`\n",
    "dictionary. This allows using different system prompts and/or\n",
    "model configs in the same script."
   ]
  },
  {
   "cell_type": "markdown",
   "id": "50106b41",
   "metadata": {
    "cell_marker": "\"\"\""
   },
   "source": [
    "As you can see in this script, you can pass an additional prompt to the LLM.\n",
    "We will cover that more thoroughly in the\n",
    "[next tutorial](../tutorials/tutorials.llm.2_prompt_usage.py)."
   ]
  },
  {
   "cell_type": "code",
   "execution_count": 4,
   "id": "3f32114f",
   "metadata": {
    "execution": {
     "iopub.execute_input": "2025-02-18T10:35:29.349748Z",
     "iopub.status.busy": "2025-02-18T10:35:29.349412Z",
     "iopub.status.idle": "2025-02-18T10:35:29.356830Z",
     "shell.execute_reply": "2025-02-18T10:35:29.356231Z"
    }
   },
   "outputs": [],
   "source": [
    "toy_script = {\n",
    "    \"main_flow\": {\n",
    "        \"start_node\": {\n",
    "            RESPONSE: \"\",\n",
    "            TRANSITIONS: [Tr(dst=\"greeting_node\", cnd=cnd.ExactMatch(\"Hi\"))],\n",
    "        },\n",
    "        \"greeting_node\": {\n",
    "            RESPONSE: LLMResponse(llm_model_name=\"barista_model\", history=0),\n",
    "            TRANSITIONS: [\n",
    "                Tr(dst=\"main_node\", cnd=cnd.ExactMatch(\"Who are you?\"))\n",
    "            ],\n",
    "        },\n",
    "        \"main_node\": {\n",
    "            RESPONSE: LLMResponse(llm_model_name=\"barista_model\"),\n",
    "            TRANSITIONS: [\n",
    "                Tr(\n",
    "                    dst=\"latte_art_node\",\n",
    "                    cnd=cnd.ExactMatch(\"I want to tell you about latte art.\"),\n",
    "                ),\n",
    "                Tr(\n",
    "                    dst=\"boss_node\",\n",
    "                    cnd=LLMCondition(\n",
    "                        llm_model_name=\"barista_model\",\n",
    "                        prompt=\"Return TRUE if the customer insists \"\n",
    "                        \"they are your boss, and FALSE otherwise. \"\n",
    "                        \"Only ONE word must be in the output.\",\n",
    "                        method=Contains(pattern=\"TRUE\"),\n",
    "                    ),\n",
    "                ),\n",
    "                Tr(dst=dst.Current()),\n",
    "            ],\n",
    "        },\n",
    "        \"boss_node\": {\n",
    "            RESPONSE: Message(\"You are my boss.\"),\n",
    "            TRANSITIONS: [\n",
    "                Tr(dst=\"main_node\"),\n",
    "            ],\n",
    "        },\n",
    "        \"latte_art_node\": {\n",
    "            RESPONSE: LLMResponse(\n",
    "                llm_model_name=\"barista_model\",\n",
    "                prompt=\"PROMPT: pretend that you have never heard about latte \"\n",
    "                \"art before and DO NOT answer the following questions. \"\n",
    "                \"Instead ask a person about it.\",\n",
    "            ),\n",
    "            TRANSITIONS: [\n",
    "                Tr(dst=\"main_node\", cnd=cnd.ExactMatch(\"Ok, goodbye.\")),\n",
    "                Tr(dst=dst.Current()),\n",
    "            ],\n",
    "        },\n",
    "        \"fallback_node\": {\n",
    "            RESPONSE: Message(\"I didn't quite understand you...\"),\n",
    "            TRANSITIONS: [Tr(dst=\"main_node\")],\n",
    "        },\n",
    "    }\n",
    "}"
   ]
  },
  {
   "cell_type": "code",
   "execution_count": 5,
   "id": "43d72b5e",
   "metadata": {
    "execution": {
     "iopub.execute_input": "2025-02-18T10:35:29.359044Z",
     "iopub.status.busy": "2025-02-18T10:35:29.358616Z",
     "iopub.status.idle": "2025-02-18T10:35:29.363211Z",
     "shell.execute_reply": "2025-02-18T10:35:29.362637Z"
    }
   },
   "outputs": [],
   "source": [
    "# Register your model in the pipeline's `models` field using the same key\n",
    "# referenced as `llm_model_name` in your script nodes\n",
    "pipeline = Pipeline(\n",
    "    toy_script,\n",
    "    start_label=(\"main_flow\", \"start_node\"),\n",
    "    fallback_label=(\"main_flow\", \"fallback_node\"),\n",
    "    models={\"barista_model\": model},\n",
    ")\n",
    "\n",
    "if __name__ == \"__main__\":\n",
    "    if is_interactive_mode():\n",
    "        pipeline.run()"
   ]
  }
 ],
 "metadata": {
  "jupytext": {
   "cell_metadata_filter": "-all",
   "main_language": "python",
   "notebook_metadata_filter": "-all",
   "text_representation": {
    "extension": ".py",
    "format_name": "percent"
   }
  },
  "language_info": {
   "codemirror_mode": {
    "name": "ipython",
    "version": 3
   },
   "file_extension": ".py",
   "mimetype": "text/x-python",
   "name": "python",
   "nbconvert_exporter": "python",
   "pygments_lexer": "ipython3",
   "version": "3.9.21"
  }
 },
 "nbformat": 4,
 "nbformat_minor": 5
}
