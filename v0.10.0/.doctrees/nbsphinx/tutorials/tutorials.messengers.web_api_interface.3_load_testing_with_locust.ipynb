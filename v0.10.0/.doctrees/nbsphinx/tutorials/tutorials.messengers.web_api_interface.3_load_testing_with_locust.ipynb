{
 "cells": [
  {
   "cell_type": "markdown",
   "id": "30742426",
   "metadata": {
    "cell_marker": "\"\"\""
   },
   "source": [
    "# Web API: 3. Load testing with Locust\n",
    "\n",
    "This tutorial shows how to use an API endpoint\n",
    "created in the FastAPI tutorial in load testing."
   ]
  },
  {
   "cell_type": "code",
   "execution_count": 1,
   "id": "5b12d9e7",
   "metadata": {
    "execution": {
     "iopub.execute_input": "2025-02-18T10:36:13.424743Z",
     "iopub.status.busy": "2025-02-18T10:36:13.424522Z",
     "iopub.status.idle": "2025-02-18T10:36:14.679129Z",
     "shell.execute_reply": "2025-02-18T10:36:14.678126Z"
    }
   },
   "outputs": [
    {
     "name": "stdout",
     "output_type": "stream",
     "text": [
      "Note: you may need to restart the kernel to use updated packages.\n"
     ]
    }
   ],
   "source": [
    "# installing dependencies\n",
    "%pip install -q chatsky==0.10.0 locust==2.32.2"
   ]
  },
  {
   "cell_type": "markdown",
   "id": "fd21f70e",
   "metadata": {
    "cell_marker": "\"\"\"",
    "lines_to_next_cell": 2
   },
   "source": [
    "## Running Locust\n",
    "\n",
    "1. Run this file directly:\n",
    "   ```bash\n",
    "   python {file_name}\n",
    "   ```\n",
    "2. Run locust targeting this file:\n",
    "   ```bash\n",
    "   locust -f {file_name}\n",
    "   ```\n",
    "3. Run from python:\n",
    "   ```python\n",
    "   import sys\n",
    "   from locust import main\n",
    "\n",
    "   sys.argv = [\"locust\", \"-f\", {file_name}]\n",
    "   main.main()\n",
    "   ```\n",
    "\n",
    "You should see the result at http://127.0.0.1:8089.\n",
    "\n",
    "Make sure that your POST endpoint is also running (run the FastAPI tutorial).\n",
    "\n",
    "If using the FastAPI tutorial, set \"Host\" to `http://127.0.0.1:8000`,\n",
    "when prompted by Locust."
   ]
  },
  {
   "cell_type": "code",
   "execution_count": 2,
   "id": "b4afa20d",
   "metadata": {
    "execution": {
     "iopub.execute_input": "2025-02-18T10:36:14.682278Z",
     "iopub.status.busy": "2025-02-18T10:36:14.682057Z",
     "iopub.status.idle": "2025-02-18T10:36:15.164475Z",
     "shell.execute_reply": "2025-02-18T10:36:15.156940Z"
    },
    "lines_to_next_cell": 2
   },
   "outputs": [
    {
     "data": {
      "text/plain": [
       "True"
      ]
     },
     "execution_count": 2,
     "metadata": {},
     "output_type": "execute_result"
    }
   ],
   "source": [
    "################################################################################\n",
    "# this patch is only needed to run this file in IPython kernel\n",
    "# and can be safely removed\n",
    "import gevent.monkey\n",
    "\n",
    "gevent.monkey.patch_all()\n",
    "################################################################################"
   ]
  },
  {
   "cell_type": "code",
   "execution_count": 3,
   "id": "0fba7d93",
   "metadata": {
    "execution": {
     "iopub.execute_input": "2025-02-18T10:36:15.166902Z",
     "iopub.status.busy": "2025-02-18T10:36:15.166465Z",
     "iopub.status.idle": "2025-02-18T10:36:17.271844Z",
     "shell.execute_reply": "2025-02-18T10:36:17.220279Z"
    }
   },
   "outputs": [],
   "source": [
    "import uuid\n",
    "import time\n",
    "import sys\n",
    "\n",
    "from locust import FastHttpUser, task, constant, main\n",
    "\n",
    "from chatsky import Message\n",
    "from chatsky.utils.testing import HAPPY_PATH, is_interactive_mode"
   ]
  },
  {
   "cell_type": "code",
   "execution_count": 4,
   "id": "19f53364",
   "metadata": {
    "execution": {
     "iopub.execute_input": "2025-02-18T10:36:17.274731Z",
     "iopub.status.busy": "2025-02-18T10:36:17.274364Z",
     "iopub.status.idle": "2025-02-18T10:36:17.369520Z",
     "shell.execute_reply": "2025-02-18T10:36:17.310232Z"
    }
   },
   "outputs": [],
   "source": [
    "class ChatskyUser(FastHttpUser):\n",
    "    wait_time = constant(1)\n",
    "\n",
    "    def check_happy_path(self, happy_path):\n",
    "        \"\"\"\n",
    "        Check a happy path.\n",
    "        For each `(request, response)` pair in `happy_path`:\n",
    "        1. Send request to the API endpoint and catch its response.\n",
    "        2. Compare API response with the `response`.\n",
    "           If they do not match, fail the request.\n",
    "\n",
    "        :param happy_path:\n",
    "            An iterable of tuples of\n",
    "            `(Message, Message | Callable(Message->str|None) | None)`.\n",
    "\n",
    "            If the second element is `Message`,\n",
    "            check that API response matches it.\n",
    "\n",
    "            If the second element is `None`,\n",
    "            do not check the API response.\n",
    "\n",
    "            If the second element is a `Callable`,\n",
    "            call it with the API response as its argument.\n",
    "            If the function returns a string,\n",
    "            that string is considered an error message.\n",
    "            If the function returns `None`,\n",
    "            the API response is considered correct.\n",
    "        \"\"\"\n",
    "        user_id = str(uuid.uuid4())\n",
    "\n",
    "        for request, response in happy_path:\n",
    "            request = Message.model_validate(request)\n",
    "            with self.client.post(\n",
    "                f\"/chat?user_id={user_id}\",\n",
    "                headers={\n",
    "                    \"accept\": \"application/json\",\n",
    "                    \"Content-Type\": \"application/json\",\n",
    "                },\n",
    "                # Name is the displayed name of the request.\n",
    "                name=f\"/chat?user_message={request.model_dump_json()}\",\n",
    "                data=request.model_dump_json(),\n",
    "                catch_response=True,\n",
    "            ) as candidate_response:\n",
    "                candidate_response.raise_for_status()\n",
    "                text_response = Message.model_validate(\n",
    "                    candidate_response.json()\n",
    "                )\n",
    "\n",
    "                if response is not None:\n",
    "                    if callable(response):\n",
    "                        error_message = response(text_response)\n",
    "                        if error_message is not None:\n",
    "                            candidate_response.failure(error_message)\n",
    "                    elif text_response != Message.model_validate(response):\n",
    "                        candidate_response.failure(\n",
    "                            f\"Expected: {response.model_dump_json()}\\n\"\n",
    "                            f\"Got: {text_response.model_dump_json()}\"\n",
    "                        )\n",
    "\n",
    "            time.sleep(self.wait_time())\n",
    "\n",
    "    @task(3)  # <- this task is 3 times more likely than the other\n",
    "    def dialog_1(self):\n",
    "        self.check_happy_path(HAPPY_PATH)\n",
    "\n",
    "    @task\n",
    "    def dialog_2(self):\n",
    "        def check_first_message(msg: Message) -> str | None:\n",
    "            if msg.text is None:\n",
    "                return f\"Message does not contain text: {msg.model_dump_json()}\"\n",
    "            if \"Hi\" not in msg.text:\n",
    "                return (\n",
    "                    f'\"Hi\" is not in the response message: '\n",
    "                    f\"{msg.model_dump_json()}\"\n",
    "                )\n",
    "            return None\n",
    "\n",
    "        self.check_happy_path(\n",
    "            [\n",
    "                # a function can be used to check the return message\n",
    "                (\"Hi\", check_first_message),\n",
    "                # a None is used if return message should not be checked\n",
    "                (\"i'm fine, how are you?\", None),\n",
    "                # this should fail\n",
    "                (\"Hi\", check_first_message),\n",
    "            ]\n",
    "        )"
   ]
  },
  {
   "cell_type": "code",
   "execution_count": 5,
   "id": "a7d1c7b3",
   "metadata": {
    "execution": {
     "iopub.execute_input": "2025-02-18T10:36:17.372390Z",
     "iopub.status.busy": "2025-02-18T10:36:17.371890Z",
     "iopub.status.idle": "2025-02-18T10:36:17.483800Z",
     "shell.execute_reply": "2025-02-18T10:36:17.422970Z"
    }
   },
   "outputs": [],
   "source": [
    "if __name__ == \"__main__\":\n",
    "    if is_interactive_mode():\n",
    "        sys.argv = [\"locust\", \"-f\", __file__]\n",
    "        main.main()"
   ]
  }
 ],
 "metadata": {
  "jupytext": {
   "cell_metadata_filter": "-all",
   "main_language": "python",
   "notebook_metadata_filter": "-all",
   "text_representation": {
    "extension": ".py",
    "format_name": "percent"
   }
  },
  "language_info": {
   "codemirror_mode": {
    "name": "ipython",
    "version": 3
   },
   "file_extension": ".py",
   "mimetype": "text/x-python",
   "name": "python",
   "nbconvert_exporter": "python",
   "pygments_lexer": "ipython3",
   "version": "3.9.21"
  }
 },
 "nbformat": 4,
 "nbformat_minor": 5
}
