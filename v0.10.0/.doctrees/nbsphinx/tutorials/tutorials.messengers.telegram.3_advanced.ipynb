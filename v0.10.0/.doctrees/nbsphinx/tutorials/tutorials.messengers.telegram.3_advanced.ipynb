{
 "cells": [
  {
   "cell_type": "markdown",
   "id": "58cbcee9",
   "metadata": {
    "cell_marker": "\"\"\""
   },
   "source": [
    "# Telegram: 3. Advanced\n",
    "\n",
    "The following tutorial shows several advanced cases of user-to-bot interaction.\n",
    "\n",
    "Here, [LongpollingInterface](../apiref/chatsky.messengers.telegram.interface.rst#chatsky.messengers.telegram.interface.LongpollingInterface)\n",
    "class and [python-telegram-bot](https://docs.python-telegram-bot.org/)\n",
    "library are used for accessing telegram API in polling mode.\n",
    "\n",
    "Telegram API token is required to access telegram API."
   ]
  },
  {
   "cell_type": "code",
   "execution_count": 1,
   "id": "ac4fdfd9",
   "metadata": {
    "execution": {
     "iopub.execute_input": "2025-02-18T10:35:57.947666Z",
     "iopub.status.busy": "2025-02-18T10:35:57.947446Z",
     "iopub.status.idle": "2025-02-18T10:35:59.223776Z",
     "shell.execute_reply": "2025-02-18T10:35:59.223035Z"
    }
   },
   "outputs": [
    {
     "name": "stdout",
     "output_type": "stream",
     "text": [
      "Note: you may need to restart the kernel to use updated packages.\n"
     ]
    }
   ],
   "source": [
    "# installing dependencies\n",
    "%pip install -q chatsky[telegram]==0.10.0"
   ]
  },
  {
   "cell_type": "code",
   "execution_count": 2,
   "id": "11179b6e",
   "metadata": {
    "execution": {
     "iopub.execute_input": "2025-02-18T10:35:59.226353Z",
     "iopub.status.busy": "2025-02-18T10:35:59.225911Z",
     "iopub.status.idle": "2025-02-18T10:36:00.877982Z",
     "shell.execute_reply": "2025-02-18T10:36:00.876180Z"
    },
    "lines_to_next_cell": 2
   },
   "outputs": [],
   "source": [
    "import os\n",
    "from hashlib import sha256\n",
    "from urllib.request import urlopen\n",
    "\n",
    "from pydantic import HttpUrl\n",
    "from telegram import InlineKeyboardButton, InlineKeyboardMarkup\n",
    "from telegram.constants import ParseMode\n",
    "\n",
    "from chatsky import (\n",
    "    RESPONSE,\n",
    "    TRANSITIONS,\n",
    "    LOCAL,\n",
    "    Message,\n",
    "    Pipeline,\n",
    "    BaseResponse,\n",
    "    Context,\n",
    "    Transition as Tr,\n",
    "    conditions as cnd,\n",
    ")\n",
    "from chatsky.messengers.telegram import LongpollingInterface\n",
    "from chatsky.core.message import (\n",
    "    DataAttachment,\n",
    "    Document,\n",
    "    Image,\n",
    "    Location,\n",
    "    Sticker,\n",
    "    MessageInitTypes,\n",
    ")\n",
    "from chatsky.utils.testing.common import is_interactive_mode"
   ]
  },
  {
   "cell_type": "markdown",
   "id": "8f92fd9f",
   "metadata": {
    "cell_marker": "\"\"\""
   },
   "source": [
    "This bot shows different special telegram messenger interface use cases,\n",
    "such as:\n",
    "\n",
    "1. Interactive keyboard with buttons.\n",
    "2. Text formatted with Markdown V2.\n",
    "3. Multiple attachments of different kind handling.\n",
    "4. Image with a spoiler.\n",
    "5. Document with a thumbnail.\n",
    "6. Attachment bytes hash.\n",
    "\n",
    "Last option (\"Raw attachments!\") button might be especially interesting,\n",
    "because it shows how bot percepts different telegram attachments sent by user\n",
    "in terms and datastructures of Chatsky.\n",
    "\n",
    "<div class=\"alert alert-info\">\n",
    "\n",
    "Tip\n",
    "\n",
    "Check out\n",
    "[this](https://docs.python-telegram-bot.org/en/v21.3/telegram.bot.html#telegram.Bot)\n",
    "class for information about different arguments\n",
    "for sending attachments, `send_...` methods.\n",
    "\n",
    "For example, documentation for `Image` extra fields can be found in the\n",
    "[send_photo](https://docs.python-telegram-bot.org/en/v21.3/telegram.bot.html#telegram.Bot.send_photo)\n",
    "method.\n",
    "\n",
    "The `Message` class also supports extra keywords as described in\n",
    "[send_message](https://docs.python-telegram-bot.org/en/v21.3/telegram.bot.html#telegram.Bot.send_message).\n",
    "\n",
    "</div>"
   ]
  },
  {
   "cell_type": "code",
   "execution_count": 3,
   "id": "433f1790",
   "metadata": {
    "execution": {
     "iopub.execute_input": "2025-02-18T10:36:00.882264Z",
     "iopub.status.busy": "2025-02-18T10:36:00.881432Z",
     "iopub.status.idle": "2025-02-18T10:36:01.365951Z",
     "shell.execute_reply": "2025-02-18T10:36:01.365248Z"
    }
   },
   "outputs": [],
   "source": [
    "\n",
    "EXAMPLE_ATTACHMENT_SOURCE = (\n",
    "    \"https://github.com/deeppavlov/chatsky/wiki/example_attachments\"\n",
    ")\n",
    "\n",
    "image_url = HttpUrl(f\"{EXAMPLE_ATTACHMENT_SOURCE}/deeppavlov.png\")\n",
    "\n",
    "formatted_text = \"\"\"\n",
    "Visit [this link](https://core.telegram.org/bots/api#formatting-options)\n",
    "for more information about formatting options in telegram\\\\.\n",
    "\"\"\"  # noqa: W605\n",
    "\n",
    "location_data = {\"latitude\": 59.9386, \"longitude\": 30.3141}\n",
    "\n",
    "sticker_data = {\n",
    "    \"id\": (\n",
    "        \"CAACAgIAAxkBAAErBZ1mKAbZvEOmhscojaIL5q0u8v\"\n",
    "        + \"gp1wACRygAAiSjCUtLa7RHZy76ezQE\"\n",
    "    ),\n",
    "}\n",
    "\n",
    "image_data = {\n",
    "    \"source\": image_url,\n",
    "    \"caption\": \"DeepPavlov logo\",\n",
    "    \"has_spoiler\": True,\n",
    "    \"filename\": \"deeppavlov_logo.png\",\n",
    "}\n",
    "# last 3 fields are extra keywords passed directly to the\n",
    "# telegram.Bot.send_photo method\n",
    "\n",
    "document_data = {\n",
    "    \"source\": HttpUrl(f\"{EXAMPLE_ATTACHMENT_SOURCE}/deeppavlov-article.pdf\"),\n",
    "    \"caption\": \"DeepPavlov article\",\n",
    "    \"filename\": \"deeppavlov_article.pdf\",\n",
    "    \"thumbnail\": urlopen(str(image_url)).read(),\n",
    "}"
   ]
  },
  {
   "cell_type": "code",
   "execution_count": 4,
   "id": "e79fb976",
   "metadata": {
    "execution": {
     "iopub.execute_input": "2025-02-18T10:36:01.368535Z",
     "iopub.status.busy": "2025-02-18T10:36:01.368124Z",
     "iopub.status.idle": "2025-02-18T10:36:01.373981Z",
     "shell.execute_reply": "2025-02-18T10:36:01.373392Z"
    }
   },
   "outputs": [],
   "source": [
    "class DataAttachmentHash(BaseResponse):\n",
    "    async def call(self, ctx: Context) -> MessageInitTypes:\n",
    "        attachment = [\n",
    "            a\n",
    "            for a in ctx.last_request.attachments\n",
    "            if isinstance(a, DataAttachment)\n",
    "        ]\n",
    "        if len(attachment) > 0:\n",
    "            attachment_bytes = await attachment[0].get_bytes(\n",
    "                ctx.pipeline.messenger_interface\n",
    "            )\n",
    "            attachment_hash = sha256(attachment_bytes).hexdigest()\n",
    "            response = (\n",
    "                \"Here's your previous request first attachment sha256 hash:\\n\"\n",
    "                f\"```\\n{attachment_hash}\\n```\"\n",
    "            )\n",
    "            return Message(text=response, parse_mode=ParseMode.MARKDOWN_V2)\n",
    "        else:\n",
    "            return \"Last request did not contain any data attachment!\""
   ]
  },
  {
   "cell_type": "code",
   "execution_count": 5,
   "id": "e62015cf",
   "metadata": {
    "execution": {
     "iopub.execute_input": "2025-02-18T10:36:01.376111Z",
     "iopub.status.busy": "2025-02-18T10:36:01.375702Z",
     "iopub.status.idle": "2025-02-18T10:36:01.387966Z",
     "shell.execute_reply": "2025-02-18T10:36:01.387404Z"
    },
    "lines_to_next_cell": 2
   },
   "outputs": [],
   "source": [
    "script = {\n",
    "    \"main_flow\": {\n",
    "        LOCAL: {\n",
    "            TRANSITIONS: [\n",
    "                Tr(dst=\"main_node\", cnd=cnd.ExactMatch(\"/start\")),\n",
    "                Tr(dst=\"formatted_node\", cnd=cnd.HasCallbackQuery(\"formatted\")),\n",
    "                Tr(\n",
    "                    dst=\"attachments_node\",\n",
    "                    cnd=cnd.HasCallbackQuery(\"attachments\"),\n",
    "                ),\n",
    "                Tr(dst=\"secret_node\", cnd=cnd.HasCallbackQuery(\"secret\")),\n",
    "                Tr(dst=\"thumbnail_node\", cnd=cnd.HasCallbackQuery(\"thumbnail\")),\n",
    "                Tr(dst=\"hash_init_node\", cnd=cnd.HasCallbackQuery(\"hash\")),\n",
    "                Tr(dst=\"main_node\", cnd=cnd.HasCallbackQuery(\"restart\")),\n",
    "            ]\n",
    "        },\n",
    "        \"start_node\": {},\n",
    "        \"main_node\": {\n",
    "            RESPONSE: Message(\n",
    "                text=\"Welcome! Choose what you want to receive.\",\n",
    "                reply_markup=InlineKeyboardMarkup(\n",
    "                    [\n",
    "                        [\n",
    "                            InlineKeyboardButton(\n",
    "                                \"Cute formatted text!\",\n",
    "                                callback_data=\"formatted\",\n",
    "                            ),\n",
    "                        ],\n",
    "                        [\n",
    "                            InlineKeyboardButton(\n",
    "                                \"Multiple attachments!\",\n",
    "                                callback_data=\"attachments\",\n",
    "                            ),\n",
    "                            InlineKeyboardButton(\n",
    "                                \"Secret image!\", callback_data=\"secret\"\n",
    "                            ),\n",
    "                            InlineKeyboardButton(\n",
    "                                \"Document with thumbnail!\",\n",
    "                                callback_data=\"thumbnail\",\n",
    "                            ),\n",
    "                        ],\n",
    "                        [\n",
    "                            InlineKeyboardButton(\n",
    "                                \"First attachment bytes hash!\",\n",
    "                                callback_data=\"hash\",\n",
    "                            ),\n",
    "                        ],\n",
    "                        [\n",
    "                            InlineKeyboardButton(\n",
    "                                \"Restart!\", callback_data=\"restart\"\n",
    "                            ),\n",
    "                        ],\n",
    "                    ],\n",
    "                ),\n",
    "                # you can add extra fields to the message itself;\n",
    "                # they are passed to telegram.Bot.send_message\n",
    "            ),\n",
    "        },\n",
    "        \"formatted_node\": {\n",
    "            RESPONSE: Message(\n",
    "                text=formatted_text, parse_mode=ParseMode.MARKDOWN_V2\n",
    "            ),\n",
    "        },\n",
    "        \"attachments_node\": {\n",
    "            RESPONSE: Message(\n",
    "                text=\"Here's your message with multiple attachments \"\n",
    "                + \"(a location and a sticker)!\",\n",
    "                attachments=[\n",
    "                    Location(**location_data),\n",
    "                    Sticker(**sticker_data),\n",
    "                ],\n",
    "            ),\n",
    "        },\n",
    "        \"secret_node\": {\n",
    "            RESPONSE: Message(\n",
    "                text=\"Here's your secret image!\",\n",
    "                attachments=[Image(**image_data)],\n",
    "            ),\n",
    "        },\n",
    "        \"thumbnail_node\": {\n",
    "            RESPONSE: Message(\n",
    "                text=\"Here's your document with thumbnail!\",\n",
    "                attachments=[Document(**document_data)],\n",
    "            ),\n",
    "        },\n",
    "        \"hash_init_node\": {\n",
    "            RESPONSE: Message(\n",
    "                text=\"Alright! Now send me a message with data attachment \"\n",
    "                + \"(audio, video, animation, image, sticker or document)!\"\n",
    "            ),\n",
    "            TRANSITIONS: [Tr(dst=\"hash_request_node\")],\n",
    "        },\n",
    "        \"hash_request_node\": {\n",
    "            RESPONSE: DataAttachmentHash(),\n",
    "        },\n",
    "        \"fallback_node\": {\n",
    "            RESPONSE: Message(\n",
    "                text=\"Bot has entered unrecoverable state:\"\n",
    "                + \"\\nRun /start command again to restart.\"\n",
    "            ),\n",
    "        },\n",
    "    },\n",
    "}"
   ]
  },
  {
   "cell_type": "code",
   "execution_count": 6,
   "id": "13e25639",
   "metadata": {
    "execution": {
     "iopub.execute_input": "2025-02-18T10:36:01.390221Z",
     "iopub.status.busy": "2025-02-18T10:36:01.389804Z",
     "iopub.status.idle": "2025-02-18T10:36:01.441669Z",
     "shell.execute_reply": "2025-02-18T10:36:01.440933Z"
    },
    "lines_to_next_cell": 2
   },
   "outputs": [],
   "source": [
    "interface = LongpollingInterface(token=os.environ[\"TG_BOT_TOKEN\"])"
   ]
  },
  {
   "cell_type": "code",
   "execution_count": 7,
   "id": "ae710496",
   "metadata": {
    "execution": {
     "iopub.execute_input": "2025-02-18T10:36:01.444046Z",
     "iopub.status.busy": "2025-02-18T10:36:01.443569Z",
     "iopub.status.idle": "2025-02-18T10:36:01.448631Z",
     "shell.execute_reply": "2025-02-18T10:36:01.447970Z"
    }
   },
   "outputs": [],
   "source": [
    "pipeline = Pipeline(\n",
    "    script=script,\n",
    "    start_label=(\"main_flow\", \"start_node\"),\n",
    "    fallback_label=(\"main_flow\", \"fallback_node\"),\n",
    "    messenger_interface=interface,\n",
    "    # The interface can be passed as a pipeline argument.\n",
    ")\n",
    "\n",
    "\n",
    "if __name__ == \"__main__\":\n",
    "    if is_interactive_mode():\n",
    "        # prevent run during doc building\n",
    "        pipeline.run()"
   ]
  }
 ],
 "metadata": {
  "jupytext": {
   "cell_metadata_filter": "-all",
   "main_language": "python",
   "notebook_metadata_filter": "-all",
   "text_representation": {
    "extension": ".py",
    "format_name": "percent"
   }
  },
  "language_info": {
   "codemirror_mode": {
    "name": "ipython",
    "version": 3
   },
   "file_extension": ".py",
   "mimetype": "text/x-python",
   "name": "python",
   "nbconvert_exporter": "python",
   "pygments_lexer": "ipython3",
   "version": "3.9.21"
  }
 },
 "nbformat": 4,
 "nbformat_minor": 5
}
