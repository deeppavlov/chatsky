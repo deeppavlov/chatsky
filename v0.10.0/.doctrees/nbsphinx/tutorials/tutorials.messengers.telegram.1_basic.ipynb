{
 "cells": [
  {
   "cell_type": "markdown",
   "id": "482ed998",
   "metadata": {
    "cell_marker": "\"\"\""
   },
   "source": [
    "# Telegram: 1. Basic\n",
    "\n",
    "The following tutorial shows how to run a regular Chatsky script in Telegram.\n",
    "It asks users for the '/start' command and then loops in one place.\n",
    "\n",
    "Here, [LongpollingInterface](../apiref/chatsky.messengers.telegram.interface.rst#chatsky.messengers.telegram.interface.LongpollingInterface)\n",
    "class and [python-telegram-bot](https://docs.python-telegram-bot.org/)\n",
    "library are used for accessing telegram API in polling mode.\n",
    "\n",
    "Telegram API token is required to access telegram API."
   ]
  },
  {
   "cell_type": "code",
   "execution_count": 1,
   "id": "572c84d3",
   "metadata": {
    "execution": {
     "iopub.execute_input": "2025-02-18T10:35:48.307071Z",
     "iopub.status.busy": "2025-02-18T10:35:48.306650Z",
     "iopub.status.idle": "2025-02-18T10:35:49.545282Z",
     "shell.execute_reply": "2025-02-18T10:35:49.544475Z"
    }
   },
   "outputs": [
    {
     "name": "stdout",
     "output_type": "stream",
     "text": [
      "Note: you may need to restart the kernel to use updated packages.\n"
     ]
    }
   ],
   "source": [
    "# installing dependencies\n",
    "%pip install -q chatsky[telegram]==0.10.0"
   ]
  },
  {
   "cell_type": "code",
   "execution_count": 2,
   "id": "449c267e",
   "metadata": {
    "execution": {
     "iopub.execute_input": "2025-02-18T10:35:49.547961Z",
     "iopub.status.busy": "2025-02-18T10:35:49.547454Z",
     "iopub.status.idle": "2025-02-18T10:35:51.271399Z",
     "shell.execute_reply": "2025-02-18T10:35:51.270735Z"
    },
    "lines_to_next_cell": 2
   },
   "outputs": [],
   "source": [
    "import os\n",
    "\n",
    "from chatsky import (\n",
    "    RESPONSE,\n",
    "    TRANSITIONS,\n",
    "    Pipeline,\n",
    "    Transition as Tr,\n",
    "    conditions as cnd,\n",
    "    destinations as dst,\n",
    ")\n",
    "from chatsky.messengers.telegram import LongpollingInterface\n",
    "from chatsky.utils.testing.common import is_interactive_mode"
   ]
  },
  {
   "cell_type": "markdown",
   "id": "642b077d",
   "metadata": {
    "cell_marker": "\"\"\"",
    "lines_to_next_cell": 2
   },
   "source": [
    "In order to integrate your script with Telegram, you need an instance of the\n",
    "[_AbstractTelegramInterface](../apiref/chatsky.messengers.telegram.abstract.rst#chatsky.messengers.telegram.abstract._AbstractTelegramInterface) class.\n",
    "Two of its child subclasses that can be instantiated\n",
    "are [LongpollingInterface](../apiref/chatsky.messengers.telegram.interface.rst#chatsky.messengers.telegram.interface.LongpollingInterface) and\n",
    "[WebhookInterface](../apiref/chatsky.messengers.telegram.interface.rst#chatsky.messengers.telegram.interface.WebhookInterface).\n",
    "The latter requires a webserver, so here we use long polling interface.\n",
    "\n",
    "[_AbstractTelegramInterface](../apiref/chatsky.messengers.telegram.abstract.rst#chatsky.messengers.telegram.abstract._AbstractTelegramInterface)\n",
    "encapsulates the bot logic. The only required\n",
    "argument for a bot to run is a token. Some other parameters\n",
    "(such as host, port, interval, etc.) can be passed as keyword arguments\n",
    "(for their specs see [documentations of the child subclasses](\n",
    "../apiref/chatsky.messengers.telegram.interface.rst\n",
    ").\n",
    "\n",
    "Either of the two interfaces connect the bot to Telegram.\n",
    "They can be passed directly to a Chatsky `Pipeline` instance.\n",
    "\n",
    "\n",
    "<div class=\"alert alert-info\">\n",
    "\n",
    "Note\n",
    "\n",
    "You can also import `LongpollingInterface`\n",
    "under the alias of `TelegramInterface` from `chatsky.messengers`:\n",
    "\n",
    "```python\n",
    "from chatsky.messengers import TelegramInterface\n",
    "```\n",
    "\n",
    "</div>"
   ]
  },
  {
   "cell_type": "code",
   "execution_count": 3,
   "id": "b6bbbac2",
   "metadata": {
    "execution": {
     "iopub.execute_input": "2025-02-18T10:35:51.274502Z",
     "iopub.status.busy": "2025-02-18T10:35:51.273714Z",
     "iopub.status.idle": "2025-02-18T10:35:51.278504Z",
     "shell.execute_reply": "2025-02-18T10:35:51.277933Z"
    },
    "lines_to_next_cell": 2
   },
   "outputs": [],
   "source": [
    "script = {\n",
    "    \"greeting_flow\": {\n",
    "        \"start_node\": {\n",
    "            TRANSITIONS: [\n",
    "                Tr(dst=\"greeting_node\", cnd=cnd.ExactMatch(\"/start\"))\n",
    "            ],\n",
    "        },\n",
    "        \"greeting_node\": {\n",
    "            RESPONSE: \"Hi\",\n",
    "            TRANSITIONS: [Tr(dst=dst.Current())],\n",
    "        },\n",
    "        \"fallback_node\": {\n",
    "            RESPONSE: \"Please, repeat the request\",\n",
    "            TRANSITIONS: [\n",
    "                Tr(dst=\"greeting_node\", cnd=cnd.ExactMatch(\"/start\"))\n",
    "            ],\n",
    "        },\n",
    "    }\n",
    "}"
   ]
  },
  {
   "cell_type": "code",
   "execution_count": 4,
   "id": "d0359b71",
   "metadata": {
    "execution": {
     "iopub.execute_input": "2025-02-18T10:35:51.280851Z",
     "iopub.status.busy": "2025-02-18T10:35:51.280297Z",
     "iopub.status.idle": "2025-02-18T10:35:51.334413Z",
     "shell.execute_reply": "2025-02-18T10:35:51.333662Z"
    },
    "lines_to_next_cell": 2
   },
   "outputs": [],
   "source": [
    "interface = LongpollingInterface(token=os.environ[\"TG_BOT_TOKEN\"])"
   ]
  },
  {
   "cell_type": "code",
   "execution_count": 5,
   "id": "14fc88c1",
   "metadata": {
    "execution": {
     "iopub.execute_input": "2025-02-18T10:35:51.337093Z",
     "iopub.status.busy": "2025-02-18T10:35:51.336688Z",
     "iopub.status.idle": "2025-02-18T10:35:51.341307Z",
     "shell.execute_reply": "2025-02-18T10:35:51.340663Z"
    }
   },
   "outputs": [],
   "source": [
    "pipeline = Pipeline(\n",
    "    script=script,\n",
    "    start_label=(\"greeting_flow\", \"start_node\"),\n",
    "    fallback_label=(\"greeting_flow\", \"fallback_node\"),\n",
    "    messenger_interface=interface,\n",
    "    # The interface can be passed as a pipeline argument.\n",
    ")\n",
    "\n",
    "\n",
    "if __name__ == \"__main__\":\n",
    "    if is_interactive_mode():\n",
    "        # prevent run during doc building\n",
    "        pipeline.run()"
   ]
  }
 ],
 "metadata": {
  "jupytext": {
   "cell_metadata_filter": "-all",
   "main_language": "python",
   "notebook_metadata_filter": "-all",
   "text_representation": {
    "extension": ".py",
    "format_name": "percent"
   }
  },
  "language_info": {
   "codemirror_mode": {
    "name": "ipython",
    "version": 3
   },
   "file_extension": ".py",
   "mimetype": "text/x-python",
   "name": "python",
   "nbconvert_exporter": "python",
   "pygments_lexer": "ipython3",
   "version": "3.9.21"
  }
 },
 "nbformat": 4,
 "nbformat_minor": 5
}
