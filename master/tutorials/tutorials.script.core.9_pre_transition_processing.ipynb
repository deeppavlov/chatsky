{
 "cells": [
  {
   "cell_type": "markdown",
   "id": "51dc1c84",
   "metadata": {
    "cell_marker": "\"\"\""
   },
   "source": [
    "# Core: 9. Pre-transition processing\n",
    "\n",
    "Here, [PRE_TRANSITION](../apiref/chatsky.core.script.rst#chatsky.core.script.PRE_TRANSITION)\n",
    "is demonstrated which can be used for additional context\n",
    "processing before transitioning to the next step."
   ]
  },
  {
   "cell_type": "code",
   "execution_count": 1,
   "id": "af8dfcb5",
   "metadata": {
    "execution": {
     "iopub.execute_input": "2025-02-18T10:22:05.514303Z",
     "iopub.status.busy": "2025-02-18T10:22:05.513838Z",
     "iopub.status.idle": "2025-02-18T10:22:06.709864Z",
     "shell.execute_reply": "2025-02-18T10:22:06.709064Z"
    }
   },
   "outputs": [
    {
     "name": "stdout",
     "output_type": "stream",
     "text": [
      "Note: you may need to restart the kernel to use updated packages.\n"
     ]
    }
   ],
   "source": [
    "# installing dependencies\n",
    "%pip install -q chatsky==0.10.0"
   ]
  },
  {
   "cell_type": "code",
   "execution_count": 2,
   "id": "2173ecfd",
   "metadata": {
    "execution": {
     "iopub.execute_input": "2025-02-18T10:22:06.712489Z",
     "iopub.status.busy": "2025-02-18T10:22:06.712067Z",
     "iopub.status.idle": "2025-02-18T10:22:08.345430Z",
     "shell.execute_reply": "2025-02-18T10:22:08.344797Z"
    },
    "lines_to_next_cell": 2
   },
   "outputs": [],
   "source": [
    "from chatsky import (\n",
    "    GLOBAL,\n",
    "    RESPONSE,\n",
    "    TRANSITIONS,\n",
    "    PRE_RESPONSE,\n",
    "    PRE_TRANSITION,\n",
    "    Context,\n",
    "    Pipeline,\n",
    "    BaseProcessing,\n",
    "    BaseResponse,\n",
    "    MessageInitTypes,\n",
    "    Transition as Tr,\n",
    "    destinations as dst,\n",
    "    processing as proc,\n",
    ")\n",
    "\n",
    "from chatsky.utils.testing.common import (\n",
    "    check_happy_path,\n",
    "    is_interactive_mode,\n",
    ")"
   ]
  },
  {
   "cell_type": "markdown",
   "id": "118e1b31",
   "metadata": {
    "cell_marker": "\"\"\""
   },
   "source": [
    "Processing functions can be used at two stages:\n",
    "\n",
    "1. Pre-transition. Triggers after response is received but before\n",
    "   the next node is considered.\n",
    "2. Pre-response. Triggers after transition is chosen and current node is\n",
    "   changed but before response of that node is calculated.\n",
    "\n",
    "In this tutorial we'll save the response function of the current node\n",
    "during pre-transition and extract it during pre-response\n",
    "(at which point current node is already changed)."
   ]
  },
  {
   "cell_type": "code",
   "execution_count": 3,
   "id": "3d019005",
   "metadata": {
    "execution": {
     "iopub.execute_input": "2025-02-18T10:22:08.348396Z",
     "iopub.status.busy": "2025-02-18T10:22:08.347773Z",
     "iopub.status.idle": "2025-02-18T10:22:08.354362Z",
     "shell.execute_reply": "2025-02-18T10:22:08.353819Z"
    }
   },
   "outputs": [],
   "source": [
    "class SavePreviousNodeResponse(BaseProcessing):\n",
    "    async def call(self, ctx: Context) -> None:\n",
    "        if ctx.current_node.response is not None:\n",
    "            ctx.misc[\"previous_node_response\"] = ctx.current_node.response\n",
    "        # This function is called as Pre-transition\n",
    "        # so current node is going to be the previous one\n",
    "        # when we reach the Pre-response step\n",
    "\n",
    "\n",
    "class PrependPreviousNodeResponse(proc.ModifyResponse):\n",
    "    async def modified_response(\n",
    "        self, original_response: BaseResponse, ctx: Context\n",
    "    ) -> MessageInitTypes:\n",
    "        result = await original_response(ctx)\n",
    "\n",
    "        previous_node_response = ctx.misc.get(\"previous_node_response\")\n",
    "        if previous_node_response is None:\n",
    "            return result\n",
    "        else:\n",
    "            previous_result = await previous_node_response(ctx)\n",
    "        return f\"previous={previous_result.text}: current={result.text}\""
   ]
  },
  {
   "cell_type": "markdown",
   "id": "7d8be343",
   "metadata": {
    "cell_marker": "\"\"\"",
    "lines_to_next_cell": 2
   },
   "source": [
    "<div class=\"alert alert-info\">\n",
    "\n",
    "Note\n",
    "\n",
    "Previous node can be accessed another way.\n",
    "\n",
    "Instead of storing the node response in misc,\n",
    "one can obtain previous label\n",
    "with `dst.Previous()(ctx)` and then get the node from the\n",
    "[Script](../apiref/chatsky.core.script.rst#chatsky.core.script.Script) object:\n",
    "\n",
    "```python\n",
    "ctx.pipeline.script.get_inherited_node(dst.Previous()(ctx))\n",
    "```\n",
    "\n",
    "</div>"
   ]
  },
  {
   "cell_type": "code",
   "execution_count": 4,
   "id": "de3cd50a",
   "metadata": {
    "execution": {
     "iopub.execute_input": "2025-02-18T10:22:08.356495Z",
     "iopub.status.busy": "2025-02-18T10:22:08.356293Z",
     "iopub.status.idle": "2025-02-18T10:22:08.361592Z",
     "shell.execute_reply": "2025-02-18T10:22:08.361007Z"
    },
    "lines_to_next_cell": 2
   },
   "outputs": [],
   "source": [
    "# a dialog script\n",
    "toy_script = {\n",
    "    \"root\": {\n",
    "        \"start\": {\n",
    "            TRANSITIONS: [Tr(dst=(\"flow\", \"step_0\"))],\n",
    "        },\n",
    "        \"fallback\": {RESPONSE: \"the end\"},\n",
    "    },\n",
    "    GLOBAL: {\n",
    "        PRE_RESPONSE: {\"proc_name_1\": PrependPreviousNodeResponse()},\n",
    "        PRE_TRANSITION: {\"proc_name_1\": SavePreviousNodeResponse()},\n",
    "        TRANSITIONS: [Tr(dst=dst.Forward(loop=True))],\n",
    "    },\n",
    "    \"flow\": {\n",
    "        \"step_0\": {RESPONSE: \"first\"},\n",
    "        \"step_1\": {RESPONSE: \"second\"},\n",
    "        \"step_2\": {RESPONSE: \"third\"},\n",
    "        \"step_3\": {RESPONSE: \"fourth\"},\n",
    "        \"step_4\": {RESPONSE: \"fifth\"},\n",
    "    },\n",
    "}\n",
    "\n",
    "\n",
    "# testing\n",
    "happy_path = (\n",
    "    (\"1\", \"first\"),\n",
    "    (\"2\", \"previous=first: current=second\"),\n",
    "    (\"3\", \"previous=second: current=third\"),\n",
    "    (\"4\", \"previous=third: current=fourth\"),\n",
    "    (\"5\", \"previous=fourth: current=fifth\"),\n",
    ")"
   ]
  },
  {
   "cell_type": "code",
   "execution_count": 5,
   "id": "ad293b67",
   "metadata": {
    "execution": {
     "iopub.execute_input": "2025-02-18T10:22:08.363462Z",
     "iopub.status.busy": "2025-02-18T10:22:08.363263Z",
     "iopub.status.idle": "2025-02-18T10:22:08.386861Z",
     "shell.execute_reply": "2025-02-18T10:22:08.386261Z"
    }
   },
   "outputs": [
    {
     "name": "stdout",
     "output_type": "stream",
     "text": [
      "USER: text='1'\n",
      "BOT : text='first'\n",
      "USER: text='2'\n",
      "BOT : text='previous=first: current=second'\n",
      "USER: text='3'\n",
      "BOT : text='previous=second: current=third'\n",
      "USER: text='4'\n",
      "BOT : text='previous=third: current=fourth'\n",
      "USER: text='5'\n",
      "BOT : text='previous=fourth: current=fifth'\n"
     ]
    }
   ],
   "source": [
    "pipeline = Pipeline(\n",
    "    script=toy_script,\n",
    "    start_label=(\"root\", \"start\"),\n",
    "    fallback_label=(\"root\", \"fallback\"),\n",
    ")\n",
    "\n",
    "if __name__ == \"__main__\":\n",
    "    check_happy_path(pipeline, happy_path, printout=True)\n",
    "    if is_interactive_mode():\n",
    "        pipeline.run()"
   ]
  }
 ],
 "metadata": {
  "jupytext": {
   "cell_metadata_filter": "-all",
   "main_language": "python",
   "notebook_metadata_filter": "-all",
   "text_representation": {
    "extension": ".py",
    "format_name": "percent"
   }
  },
  "language_info": {
   "codemirror_mode": {
    "name": "ipython",
    "version": 3
   },
   "file_extension": ".py",
   "mimetype": "text/x-python",
   "name": "python",
   "nbconvert_exporter": "python",
   "pygments_lexer": "ipython3",
   "version": "3.9.21"
  }
 },
 "nbformat": 4,
 "nbformat_minor": 5
}
