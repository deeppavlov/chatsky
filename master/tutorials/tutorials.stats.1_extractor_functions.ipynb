{
 "cells": [
  {
   "cell_type": "markdown",
   "id": "c4e92237",
   "metadata": {
    "cell_marker": "\"\"\""
   },
   "source": [
    "# 1. Extractor Functions\n",
    "\n",
    "The following example covers the basics of using the `stats` module.\n",
    "\n",
    "Statistics are collected from pipeline services by extractor functions\n",
    "that report the state of one or more pipeline components. The `stats` module\n",
    "provides several default extractors, but users are free to define their own\n",
    "extractor functions. You can find API reference for default extractors\n",
    "[here](../apiref/chatsky.stats.default_extractors.rst).\n",
    "\n",
    "It is a preferred practice to define extractors as asynchronous functions.\n",
    "Extractors need to have the following uniform signature:\n",
    "the expected arguments are always `Context`, and `ExtraHandlerRuntimeInfo`,\n",
    "while the expected return value is an arbitrary `dict` or a `None`.\n",
    "The returned value gets persisted to Clickhouse as JSON\n",
    "which is why it can contain arbitrarily nested dictionaries,\n",
    "but it cannot contain any complex objects that cannot be trivially serialized.\n",
    "\n",
    "The output of these functions will be captured by an OpenTelemetry\n",
    "instrumentor and directed to the Opentelemetry collector server which\n",
    "in its turn batches and persists data to Clickhouse or other OLAP storages.\n",
    "\n",
    "<div class=\"alert alert-info\">\n",
    "\n",
    "Both the Opentelemetry collector and the Clickhouse instance must be running\n",
    "during statistics collection.\n",
    "If you cloned the Chatsky repo, launch them using `docker compose`:\n",
    "```bash\n",
    "docker compose --profile stats up\n",
    "```\n",
    "\n",
    "</div>\n",
    "\n",
    "For more information on OpenTelemetry instrumentation,\n",
    "refer to the body of this tutorial as well as [OpenTelemetry documentation](\n",
    "https://opentelemetry.io/docs/instrumentation/python/manual/\n",
    ")."
   ]
  },
  {
   "cell_type": "code",
   "execution_count": 1,
   "id": "83c879be",
   "metadata": {
    "execution": {
     "iopub.execute_input": "2025-02-18T10:22:51.933018Z",
     "iopub.status.busy": "2025-02-18T10:22:51.932797Z",
     "iopub.status.idle": "2025-02-18T10:22:53.114153Z",
     "shell.execute_reply": "2025-02-18T10:22:53.113092Z"
    }
   },
   "outputs": [
    {
     "name": "stdout",
     "output_type": "stream",
     "text": [
      "Note: you may need to restart the kernel to use updated packages.\n"
     ]
    }
   ],
   "source": [
    "# installing dependencies\n",
    "%pip install -q chatsky[stats]==0.10.0"
   ]
  },
  {
   "cell_type": "code",
   "execution_count": 2,
   "id": "54b4cc81",
   "metadata": {
    "execution": {
     "iopub.execute_input": "2025-02-18T10:22:53.116988Z",
     "iopub.status.busy": "2025-02-18T10:22:53.116659Z",
     "iopub.status.idle": "2025-02-18T10:22:55.000404Z",
     "shell.execute_reply": "2025-02-18T10:22:54.999652Z"
    }
   },
   "outputs": [],
   "source": [
    "import asyncio\n",
    "\n",
    "from chatsky.core.service import (\n",
    "    ExtraHandlerRuntimeInfo,\n",
    "    ExtraHandlerType,\n",
    "    to_service,\n",
    ")\n",
    "from chatsky import Context, Pipeline\n",
    "from chatsky.stats import OtelInstrumentor, default_extractors\n",
    "from chatsky.utils.testing import is_interactive_mode, check_happy_path\n",
    "from chatsky.utils.testing.toy_script import TOY_SCRIPT_KWARGS, HAPPY_PATH"
   ]
  },
  {
   "cell_type": "markdown",
   "id": "b5e4fc8e",
   "metadata": {
    "cell_marker": "\"\"\"",
    "lines_to_next_cell": 2
   },
   "source": [
    "The cells below configure log export with the help of OTLP instrumentation.\n",
    "\n",
    "* The initial step is to configure the export destination.\n",
    "`from_url` method of the `OtelInstrumentor` class simplifies this task\n",
    "allowing you to only pass the url of the OTLP Collector server.\n",
    "\n",
    "* Alternatively, you can use the utility functions\n",
    "provided by the `stats` module:\n",
    "`set_logger_destination`, `set_tracer_destination`, or `set_meter_destination`.\n",
    "These accept an appropriate Opentelemetry exporter instance\n",
    "and bind it to provider classes.\n",
    "\n",
    "* Nextly, the `OtelInstrumentor` class should be constructed to log the output\n",
    "of extractor functions. Custom extractors need to be decorated\n",
    "with the `OtelInstrumentor` instance. Default extractors are instrumented\n",
    "by calling the `instrument` method.\n",
    "\n",
    "* The entirety of the process is illustrated in the example below."
   ]
  },
  {
   "cell_type": "code",
   "execution_count": 3,
   "id": "cfc1c5ea",
   "metadata": {
    "execution": {
     "iopub.execute_input": "2025-02-18T10:22:55.004235Z",
     "iopub.status.busy": "2025-02-18T10:22:55.003298Z",
     "iopub.status.idle": "2025-02-18T10:22:55.010267Z",
     "shell.execute_reply": "2025-02-18T10:22:55.009660Z"
    }
   },
   "outputs": [],
   "source": [
    "chatsky_instrumentor = OtelInstrumentor.from_url(\"grpc://localhost:4317\")\n",
    "chatsky_instrumentor.instrument()"
   ]
  },
  {
   "cell_type": "markdown",
   "id": "a10fa312",
   "metadata": {
    "cell_marker": "\"\"\"",
    "lines_to_next_cell": 2
   },
   "source": [
    "The following cell shows a custom extractor function. The data obtained from\n",
    "the context and the runtime information gets shaped as a dict and returned\n",
    "from the function body. The `chatsky_instrumentor` decorator then ensures\n",
    "that the output is logged by OpenTelemetry."
   ]
  },
  {
   "cell_type": "code",
   "execution_count": 4,
   "id": "5f3fa0d2",
   "metadata": {
    "execution": {
     "iopub.execute_input": "2025-02-18T10:22:55.012527Z",
     "iopub.status.busy": "2025-02-18T10:22:55.012024Z",
     "iopub.status.idle": "2025-02-18T10:22:55.015590Z",
     "shell.execute_reply": "2025-02-18T10:22:55.014973Z"
    },
    "lines_to_next_cell": 2
   },
   "outputs": [],
   "source": [
    "# decorated by an OTLP Instrumentor instance\n",
    "@chatsky_instrumentor\n",
    "async def get_service_state(ctx: Context, info: ExtraHandlerRuntimeInfo):\n",
    "    # extract the execution state of a target service\n",
    "    data = {\n",
    "        \"execution_state\": info.component.get_state(ctx),\n",
    "    }\n",
    "    # return the state as an arbitrary dict for further logging\n",
    "    return data"
   ]
  },
  {
   "cell_type": "code",
   "execution_count": 5,
   "id": "c27e10a9",
   "metadata": {
    "execution": {
     "iopub.execute_input": "2025-02-18T10:22:55.017753Z",
     "iopub.status.busy": "2025-02-18T10:22:55.017346Z",
     "iopub.status.idle": "2025-02-18T10:22:55.020642Z",
     "shell.execute_reply": "2025-02-18T10:22:55.020097Z"
    },
    "lines_to_next_cell": 2
   },
   "outputs": [],
   "source": [
    "# configure `get_service_state` to run after the `heavy_service`\n",
    "@to_service(after_handler=[get_service_state])\n",
    "async def heavy_service(ctx: Context):\n",
    "    _ = ctx  # get something from ctx if needed\n",
    "    await asyncio.sleep(0.02)"
   ]
  },
  {
   "cell_type": "code",
   "execution_count": 6,
   "id": "2c6faede",
   "metadata": {
    "execution": {
     "iopub.execute_input": "2025-02-18T10:22:55.022775Z",
     "iopub.status.busy": "2025-02-18T10:22:55.022348Z",
     "iopub.status.idle": "2025-02-18T10:22:55.144171Z",
     "shell.execute_reply": "2025-02-18T10:22:55.143453Z"
    }
   },
   "outputs": [
    {
     "name": "stdout",
     "output_type": "stream",
     "text": [
      "USER: text='Hi'\n",
      "BOT : text='Hi, how are you?'\n",
      "USER: text='i'm fine, how are you?'\n",
      "BOT : text='Good. What do you want to talk about?'\n",
      "USER: text='Let's talk about music.'\n",
      "BOT : text='Sorry, I can not talk about music now.'\n",
      "USER: text='Ok, goodbye.'\n",
      "BOT : text='bye'\n",
      "USER: text='Hi'\n",
      "BOT : text='Hi, how are you?'\n"
     ]
    }
   ],
   "source": [
    "pipeline = Pipeline(**TOY_SCRIPT_KWARGS, pre_services=[heavy_service])\n",
    "\n",
    "pipeline.actor.add_extra_handler(\n",
    "    ExtraHandlerType.BEFORE, default_extractors.get_current_label\n",
    ")\n",
    "if __name__ == \"__main__\":\n",
    "    check_happy_path(pipeline, HAPPY_PATH, printout=True)\n",
    "    if is_interactive_mode():\n",
    "        pipeline.run()"
   ]
  }
 ],
 "metadata": {
  "jupytext": {
   "cell_metadata_filter": "-all",
   "main_language": "python",
   "notebook_metadata_filter": "-all",
   "text_representation": {
    "extension": ".py",
    "format_name": "percent"
   }
  },
  "language_info": {
   "codemirror_mode": {
    "name": "ipython",
    "version": 3
   },
   "file_extension": ".py",
   "mimetype": "text/x-python",
   "name": "python",
   "nbconvert_exporter": "python",
   "pygments_lexer": "ipython3",
   "version": "3.9.21"
  }
 },
 "nbformat": 4,
 "nbformat_minor": 5
}
