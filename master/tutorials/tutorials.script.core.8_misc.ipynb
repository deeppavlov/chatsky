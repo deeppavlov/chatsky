{
 "cells": [
  {
   "cell_type": "markdown",
   "id": "430f833f",
   "metadata": {
    "cell_marker": "\"\"\""
   },
   "source": [
    "# Core: 8. Misc\n",
    "\n",
    "This tutorial shows `MISC` (miscellaneous) keyword usage.\n",
    "\n",
    "See [MISC](../apiref/chatsky.core.script.rst#chatsky.core.script.MISC)\n",
    "for more information."
   ]
  },
  {
   "cell_type": "code",
   "execution_count": 1,
   "id": "8feb7dd0",
   "metadata": {
    "execution": {
     "iopub.execute_input": "2025-02-18T10:22:00.734747Z",
     "iopub.status.busy": "2025-02-18T10:22:00.734531Z",
     "iopub.status.idle": "2025-02-18T10:22:01.941203Z",
     "shell.execute_reply": "2025-02-18T10:22:01.940330Z"
    }
   },
   "outputs": [
    {
     "name": "stdout",
     "output_type": "stream",
     "text": [
      "Note: you may need to restart the kernel to use updated packages.\n"
     ]
    }
   ],
   "source": [
    "# installing dependencies\n",
    "%pip install -q chatsky==0.10.0"
   ]
  },
  {
   "cell_type": "code",
   "execution_count": 2,
   "id": "d474ee45",
   "metadata": {
    "execution": {
     "iopub.execute_input": "2025-02-18T10:22:01.944016Z",
     "iopub.status.busy": "2025-02-18T10:22:01.943394Z",
     "iopub.status.idle": "2025-02-18T10:22:03.623929Z",
     "shell.execute_reply": "2025-02-18T10:22:03.623191Z"
    },
    "lines_to_next_cell": 2
   },
   "outputs": [],
   "source": [
    "from chatsky import (\n",
    "    GLOBAL,\n",
    "    LOCAL,\n",
    "    RESPONSE,\n",
    "    TRANSITIONS,\n",
    "    MISC,\n",
    "    Context,\n",
    "    Message,\n",
    "    Pipeline,\n",
    "    MessageInitTypes,\n",
    "    BaseResponse,\n",
    "    Transition as Tr,\n",
    "    destinations as dst,\n",
    ")\n",
    "\n",
    "from chatsky.utils.testing.common import (\n",
    "    check_happy_path,\n",
    "    is_interactive_mode,\n",
    ")"
   ]
  },
  {
   "cell_type": "markdown",
   "id": "667a85d9",
   "metadata": {
    "cell_marker": "\"\"\""
   },
   "source": [
    "`MISC` is used to store custom node data.\n",
    "It can be accessed via `ctx.current_node.misc`."
   ]
  },
  {
   "cell_type": "code",
   "execution_count": 3,
   "id": "63c14e6d",
   "metadata": {
    "execution": {
     "iopub.execute_input": "2025-02-18T10:22:03.626614Z",
     "iopub.status.busy": "2025-02-18T10:22:03.626290Z",
     "iopub.status.idle": "2025-02-18T10:22:03.630526Z",
     "shell.execute_reply": "2025-02-18T10:22:03.629937Z"
    }
   },
   "outputs": [],
   "source": [
    "class CustomResponse(BaseResponse):\n",
    "    async def call(self, ctx: Context) -> MessageInitTypes:\n",
    "        return (\n",
    "            f\"node_name={ctx.last_label.node_name}: \"\n",
    "            f\"current_node.misc={ctx.current_node.misc}\"\n",
    "        )"
   ]
  },
  {
   "cell_type": "code",
   "execution_count": 4,
   "id": "1722325f",
   "metadata": {
    "execution": {
     "iopub.execute_input": "2025-02-18T10:22:03.632720Z",
     "iopub.status.busy": "2025-02-18T10:22:03.632449Z",
     "iopub.status.idle": "2025-02-18T10:22:03.639207Z",
     "shell.execute_reply": "2025-02-18T10:22:03.638514Z"
    },
    "lines_to_next_cell": 2
   },
   "outputs": [],
   "source": [
    "toy_script = {\n",
    "    \"root\": {\n",
    "        \"start\": {\n",
    "            TRANSITIONS: [Tr(dst=(\"flow\", \"step_0\"))],\n",
    "        },\n",
    "        \"fallback\": {RESPONSE: \"the end\"},\n",
    "    },\n",
    "    GLOBAL: {\n",
    "        MISC: {\n",
    "            \"var1\": \"global_data\",\n",
    "            \"var2\": \"global_data\",\n",
    "            \"var3\": \"global_data\",\n",
    "        }\n",
    "    },\n",
    "    \"flow\": {\n",
    "        LOCAL: {\n",
    "            MISC: {\n",
    "                \"var2\": \"global data is overwritten by local\",\n",
    "                \"var3\": \"global data is overwritten by local\",\n",
    "            },\n",
    "            TRANSITIONS: [Tr(dst=dst.Forward(loop=True))],\n",
    "        },\n",
    "        \"step_0\": {\n",
    "            MISC: {\"var3\": \"this overwrites local values - step_0\"},\n",
    "            RESPONSE: CustomResponse(),\n",
    "        },\n",
    "        \"step_1\": {\n",
    "            MISC: {\"var3\": \"this overwrites local values - step_1\"},\n",
    "            RESPONSE: CustomResponse(),\n",
    "        },\n",
    "        \"step_2\": {\n",
    "            MISC: {\"var3\": \"this overwrites local values - step_2\"},\n",
    "            RESPONSE: CustomResponse(),\n",
    "        },\n",
    "    },\n",
    "}\n",
    "\n",
    "\n",
    "# testing\n",
    "happy_path = (\n",
    "    (\n",
    "        Message(),\n",
    "        \"node_name=step_0: current_node.misc=\"\n",
    "        \"{'var3': 'this overwrites local values - step_0', \"\n",
    "        \"'var2': 'global data is overwritten by local', \"\n",
    "        \"'var1': 'global_data'}\",\n",
    "    ),\n",
    "    (\n",
    "        Message(),\n",
    "        \"node_name=step_1: current_node.misc=\"\n",
    "        \"{'var3': 'this overwrites local values - step_1', \"\n",
    "        \"'var2': 'global data is overwritten by local', \"\n",
    "        \"'var1': 'global_data'}\",\n",
    "    ),\n",
    "    (\n",
    "        Message(),\n",
    "        \"node_name=step_2: current_node.misc=\"\n",
    "        \"{'var3': 'this overwrites local values - step_2', \"\n",
    "        \"'var2': 'global data is overwritten by local', \"\n",
    "        \"'var1': 'global_data'}\",\n",
    "    ),\n",
    "    (\n",
    "        Message(),\n",
    "        \"node_name=step_0: current_node.misc=\"\n",
    "        \"{'var3': 'this overwrites local values - step_0', \"\n",
    "        \"'var2': 'global data is overwritten by local', \"\n",
    "        \"'var1': 'global_data'}\",\n",
    "    ),\n",
    ")"
   ]
  },
  {
   "cell_type": "code",
   "execution_count": 5,
   "id": "da475f41",
   "metadata": {
    "execution": {
     "iopub.execute_input": "2025-02-18T10:22:03.641280Z",
     "iopub.status.busy": "2025-02-18T10:22:03.641072Z",
     "iopub.status.idle": "2025-02-18T10:22:03.658236Z",
     "shell.execute_reply": "2025-02-18T10:22:03.657536Z"
    }
   },
   "outputs": [
    {
     "name": "stdout",
     "output_type": "stream",
     "text": [
      "USER: \n",
      "BOT : text='node_name=step_0: current_node.misc={'var3': 'this overwrites local values - step_0', 'var2': 'global data is overwritten by local', 'var1': 'global_data'}'\n",
      "USER: \n",
      "BOT : text='node_name=step_1: current_node.misc={'var3': 'this overwrites local values - step_1', 'var2': 'global data is overwritten by local', 'var1': 'global_data'}'\n",
      "USER: \n",
      "BOT : text='node_name=step_2: current_node.misc={'var3': 'this overwrites local values - step_2', 'var2': 'global data is overwritten by local', 'var1': 'global_data'}'\n",
      "USER: \n",
      "BOT : text='node_name=step_0: current_node.misc={'var3': 'this overwrites local values - step_0', 'var2': 'global data is overwritten by local', 'var1': 'global_data'}'\n"
     ]
    }
   ],
   "source": [
    "pipeline = Pipeline(\n",
    "    script=toy_script,\n",
    "    start_label=(\"root\", \"start\"),\n",
    "    fallback_label=(\"root\", \"fallback\"),\n",
    ")\n",
    "\n",
    "if __name__ == \"__main__\":\n",
    "    check_happy_path(pipeline, happy_path, printout=True)\n",
    "    if is_interactive_mode():\n",
    "        pipeline.run()"
   ]
  }
 ],
 "metadata": {
  "jupytext": {
   "cell_metadata_filter": "-all",
   "main_language": "python",
   "notebook_metadata_filter": "-all",
   "text_representation": {
    "extension": ".py",
    "format_name": "percent"
   }
  },
  "language_info": {
   "codemirror_mode": {
    "name": "ipython",
    "version": 3
   },
   "file_extension": ".py",
   "mimetype": "text/x-python",
   "name": "python",
   "nbconvert_exporter": "python",
   "pygments_lexer": "ipython3",
   "version": "3.9.21"
  }
 },
 "nbformat": 4,
 "nbformat_minor": 5
}
