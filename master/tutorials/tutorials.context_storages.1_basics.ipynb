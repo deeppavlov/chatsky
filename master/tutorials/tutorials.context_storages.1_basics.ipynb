{
 "cells": [
  {
   "cell_type": "markdown",
   "id": "55773d1e",
   "metadata": {
    "cell_marker": "\"\"\""
   },
   "source": [
    "# 1. Basics\n",
    "\n",
    "The following tutorial shows the basic use of the database connection.\n",
    "\n",
    "See [context_storage_factory](../apiref/chatsky.context_storages.database.rst#chatsky.context_storages.database.context_storage_factory) function\n",
    "for creating a context storage by path.\n",
    "\n",
    "In this example JSON file is used as a storage."
   ]
  },
  {
   "cell_type": "code",
   "execution_count": 1,
   "id": "08ca1d77",
   "metadata": {
    "execution": {
     "iopub.execute_input": "2025-02-18T10:19:07.467017Z",
     "iopub.status.busy": "2025-02-18T10:19:07.466808Z",
     "iopub.status.idle": "2025-02-18T10:19:08.770408Z",
     "shell.execute_reply": "2025-02-18T10:19:08.769618Z"
    }
   },
   "outputs": [
    {
     "name": "stdout",
     "output_type": "stream",
     "text": [
      "Note: you may need to restart the kernel to use updated packages.\n"
     ]
    }
   ],
   "source": [
    "# installing dependencies\n",
    "%pip install -q chatsky[json,pickle]==0.10.0"
   ]
  },
  {
   "cell_type": "code",
   "execution_count": 2,
   "id": "d13a55e3",
   "metadata": {
    "execution": {
     "iopub.execute_input": "2025-02-18T10:19:08.772990Z",
     "iopub.status.busy": "2025-02-18T10:19:08.772748Z",
     "iopub.status.idle": "2025-02-18T10:19:10.571269Z",
     "shell.execute_reply": "2025-02-18T10:19:10.570521Z"
    }
   },
   "outputs": [
    {
     "name": "stdout",
     "output_type": "stream",
     "text": [
      "USER: text='Hi'\n",
      "BOT : text='Hi, how are you?'\n",
      "USER: text='i'm fine, how are you?'\n",
      "BOT : text='Good. What do you want to talk about?'\n",
      "USER: text='Let's talk about music.'\n",
      "BOT : text='Sorry, I can not talk about music now.'\n",
      "USER: text='Ok, goodbye.'\n",
      "BOT : text='bye'\n",
      "USER: text='Hi'\n",
      "BOT : text='Hi, how are you?'\n"
     ]
    }
   ],
   "source": [
    "import pathlib\n",
    "\n",
    "from chatsky.context_storages import context_storage_factory\n",
    "\n",
    "from chatsky import Pipeline\n",
    "from chatsky.utils.testing.common import (\n",
    "    check_happy_path,\n",
    "    is_interactive_mode,\n",
    ")\n",
    "from chatsky.utils.testing.toy_script import TOY_SCRIPT_KWARGS, HAPPY_PATH\n",
    "\n",
    "pathlib.Path(\"dbs\").mkdir(exist_ok=True)\n",
    "db = context_storage_factory(\"json://dbs/file.json\")\n",
    "# db = context_storage_factory(\"pickle://dbs/file.pkl\")\n",
    "# db = context_storage_factory(\"shelve://dbs/file.shlv\")\n",
    "\n",
    "pipeline = Pipeline(**TOY_SCRIPT_KWARGS, context_storage=db)\n",
    "\n",
    "if __name__ == \"__main__\":\n",
    "    check_happy_path(pipeline, HAPPY_PATH, printout=True)\n",
    "    # a function for automatic tutorial running (testing) with HAPPY_PATH\n",
    "\n",
    "    if is_interactive_mode():\n",
    "        pipeline.run()"
   ]
  }
 ],
 "metadata": {
  "jupytext": {
   "cell_metadata_filter": "-all",
   "main_language": "python",
   "notebook_metadata_filter": "-all",
   "text_representation": {
    "extension": ".py",
    "format_name": "percent"
   }
  },
  "language_info": {
   "codemirror_mode": {
    "name": "ipython",
    "version": 3
   },
   "file_extension": ".py",
   "mimetype": "text/x-python",
   "name": "python",
   "nbconvert_exporter": "python",
   "pygments_lexer": "ipython3",
   "version": "3.9.21"
  }
 },
 "nbformat": 4,
 "nbformat_minor": 5
}
