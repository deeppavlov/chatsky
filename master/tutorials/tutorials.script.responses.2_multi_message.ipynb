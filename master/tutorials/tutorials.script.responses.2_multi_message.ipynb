{
 "cells": [
  {
   "cell_type": "markdown",
   "id": "e1100a5a",
   "metadata": {
    "cell_marker": "\"\"\""
   },
   "source": [
    "# Responses: 2. Multi Message\n",
    "\n",
    "This tutorial shows how to store several messages inside a single one.\n",
    "This might be useful if you want Chatsky Pipeline to send `response` candidates\n",
    "to the messenger interface instead of a final response."
   ]
  },
  {
   "cell_type": "code",
   "execution_count": 1,
   "id": "4056578f",
   "metadata": {
    "execution": {
     "iopub.execute_input": "2025-02-18T10:22:14.750137Z",
     "iopub.status.busy": "2025-02-18T10:22:14.749939Z",
     "iopub.status.idle": "2025-02-18T10:22:16.042911Z",
     "shell.execute_reply": "2025-02-18T10:22:16.042050Z"
    }
   },
   "outputs": [
    {
     "name": "stdout",
     "output_type": "stream",
     "text": [
      "Note: you may need to restart the kernel to use updated packages.\n"
     ]
    }
   ],
   "source": [
    "# installing dependencies\n",
    "%pip install -q chatsky==0.10.0"
   ]
  },
  {
   "cell_type": "code",
   "execution_count": 2,
   "id": "e7dc228e",
   "metadata": {
    "execution": {
     "iopub.execute_input": "2025-02-18T10:22:16.045533Z",
     "iopub.status.busy": "2025-02-18T10:22:16.045174Z",
     "iopub.status.idle": "2025-02-18T10:22:17.670627Z",
     "shell.execute_reply": "2025-02-18T10:22:17.669900Z"
    }
   },
   "outputs": [],
   "source": [
    "\n",
    "from chatsky import (\n",
    "    TRANSITIONS,\n",
    "    RESPONSE,\n",
    "    Message,\n",
    "    Pipeline,\n",
    "    Transition as Tr,\n",
    "    conditions as cnd,\n",
    ")\n",
    "\n",
    "from chatsky.utils.testing.common import (\n",
    "    check_happy_path,\n",
    "    is_interactive_mode,\n",
    ")"
   ]
  },
  {
   "cell_type": "code",
   "execution_count": 3,
   "id": "fd9f33d8",
   "metadata": {
    "execution": {
     "iopub.execute_input": "2025-02-18T10:22:17.673760Z",
     "iopub.status.busy": "2025-02-18T10:22:17.673189Z",
     "iopub.status.idle": "2025-02-18T10:22:17.683931Z",
     "shell.execute_reply": "2025-02-18T10:22:17.683246Z"
    }
   },
   "outputs": [],
   "source": [
    "toy_script = {\n",
    "    \"greeting_flow\": {\n",
    "        \"start_node\": {\n",
    "            TRANSITIONS: [Tr(dst=\"node1\", cnd=cnd.ExactMatch(\"Hi\"))],\n",
    "        },\n",
    "        \"node1\": {\n",
    "            RESPONSE: Message(\n",
    "                misc={\n",
    "                    \"messages\": [\n",
    "                        Message(\n",
    "                            text=\"Hi, what is up?\", misc={\"confidences\": 0.85}\n",
    "                        ),\n",
    "                        Message(\n",
    "                            text=\"Hello, how are you?\",\n",
    "                            misc={\"confidences\": 0.9},\n",
    "                        ),\n",
    "                    ]\n",
    "                }\n",
    "            ),\n",
    "            TRANSITIONS: [\n",
    "                Tr(dst=\"node2\", cnd=cnd.ExactMatch(\"I'm fine, how are you?\"))\n",
    "            ],\n",
    "        },\n",
    "        \"node2\": {\n",
    "            RESPONSE: \"Good. What do you want to talk about?\",\n",
    "            TRANSITIONS: [\n",
    "                Tr(dst=\"node3\", cnd=cnd.ExactMatch(\"Let's talk about music.\"))\n",
    "            ],\n",
    "        },\n",
    "        \"node3\": {\n",
    "            RESPONSE: \"Sorry, I can not talk about that now.\",\n",
    "            TRANSITIONS: [Tr(dst=\"node4\", cnd=cnd.ExactMatch(\"Ok, goodbye.\"))],\n",
    "        },\n",
    "        \"node4\": {\n",
    "            RESPONSE: \"bye\",\n",
    "            TRANSITIONS: [Tr(dst=\"node1\", cnd=cnd.ExactMatch(\"Hi\"))],\n",
    "        },\n",
    "        \"fallback_node\": {\n",
    "            RESPONSE: \"Ooops\",\n",
    "            TRANSITIONS: [Tr(dst=\"node1\", cnd=cnd.ExactMatch(\"Hi\"))],\n",
    "        },\n",
    "    }\n",
    "}\n",
    "\n",
    "# testing\n",
    "happy_path = (\n",
    "    (\n",
    "        \"Hi\",\n",
    "        Message(\n",
    "            misc={\n",
    "                \"messages\": [\n",
    "                    Message(\"Hi, what is up?\", misc={\"confidences\": 0.85}),\n",
    "                    Message(\"Hello, how are you?\", misc={\"confidences\": 0.9}),\n",
    "                ]\n",
    "            }\n",
    "        ),\n",
    "    ),  # start_node -> node1\n",
    "    (\n",
    "        \"I'm fine, how are you?\",\n",
    "        \"Good. What do you want to talk about?\",\n",
    "    ),  # node1 -> node2\n",
    "    (\n",
    "        \"Let's talk about music.\",\n",
    "        \"Sorry, I can not talk about that now.\",\n",
    "    ),  # node2 -> node3\n",
    "    (\"Ok, goodbye.\", \"bye\"),  # node3 -> node4\n",
    "    (\n",
    "        \"Hi\",\n",
    "        Message(\n",
    "            misc={\n",
    "                \"messages\": [\n",
    "                    Message(\"Hi, what is up?\", misc={\"confidences\": 0.85}),\n",
    "                    Message(\"Hello, how are you?\", misc={\"confidences\": 0.9}),\n",
    "                ]\n",
    "            }\n",
    "        ),\n",
    "    ),  # node4 -> node1\n",
    "    (\n",
    "        \"stop\",\n",
    "        \"Ooops\",\n",
    "    ),\n",
    "    # node1 -> fallback_node\n",
    "    (\n",
    "        \"one\",\n",
    "        \"Ooops\",\n",
    "    ),  # f_n->f_n\n",
    "    (\n",
    "        \"help\",\n",
    "        \"Ooops\",\n",
    "    ),  # f_n->f_n\n",
    "    (\n",
    "        \"nope\",\n",
    "        \"Ooops\",\n",
    "    ),  # f_n->f_n\n",
    "    (\n",
    "        \"Hi\",\n",
    "        Message(\n",
    "            misc={\n",
    "                \"messages\": [\n",
    "                    Message(\"Hi, what is up?\", misc={\"confidences\": 0.85}),\n",
    "                    Message(\"Hello, how are you?\", misc={\"confidences\": 0.9}),\n",
    "                ]\n",
    "            }\n",
    "        ),\n",
    "    ),  # fallback_node -> node1\n",
    "    (\n",
    "        \"I'm fine, how are you?\",\n",
    "        \"Good. What do you want to talk about?\",\n",
    "    ),  # node1 -> node2\n",
    "    (\n",
    "        \"Let's talk about music.\",\n",
    "        \"Sorry, I can not talk about that now.\",\n",
    "    ),  # node2 -> node3\n",
    "    (\"Ok, goodbye.\", \"bye\"),  # node3 -> node4\n",
    ")"
   ]
  },
  {
   "cell_type": "code",
   "execution_count": 4,
   "id": "90271726",
   "metadata": {
    "execution": {
     "iopub.execute_input": "2025-02-18T10:22:17.685878Z",
     "iopub.status.busy": "2025-02-18T10:22:17.685650Z",
     "iopub.status.idle": "2025-02-18T10:22:17.730284Z",
     "shell.execute_reply": "2025-02-18T10:22:17.729593Z"
    }
   },
   "outputs": [
    {
     "name": "stdout",
     "output_type": "stream",
     "text": [
      "USER: text='Hi'\n",
      "BOT : misc='{'messages': [{'text': 'Hi, what is up?', 'misc': {'confidences': 0.85}}, {'text': 'Hello, how are you?', 'misc': {'confidences': 0.9}}]}'\n",
      "USER: text='I'm fine, how are you?'\n",
      "BOT : text='Good. What do you want to talk about?'\n",
      "USER: text='Let's talk about music.'\n",
      "BOT : text='Sorry, I can not talk about that now.'\n",
      "USER: text='Ok, goodbye.'\n",
      "BOT : text='bye'\n",
      "USER: text='Hi'\n",
      "BOT : misc='{'messages': [{'text': 'Hi, what is up?', 'misc': {'confidences': 0.85}}, {'text': 'Hello, how are you?', 'misc': {'confidences': 0.9}}]}'\n",
      "USER: text='stop'\n",
      "BOT : text='Ooops'\n",
      "USER: text='one'\n",
      "BOT : text='Ooops'\n",
      "USER: text='help'\n",
      "BOT : text='Ooops'\n",
      "USER: text='nope'\n",
      "BOT : text='Ooops'\n",
      "USER: text='Hi'\n",
      "BOT : misc='{'messages': [{'text': 'Hi, what is up?', 'misc': {'confidences': 0.85}}, {'text': 'Hello, how are you?', 'misc': {'confidences': 0.9}}]}'\n",
      "USER: text='I'm fine, how are you?'\n",
      "BOT : text='Good. What do you want to talk about?'\n",
      "USER: text='Let's talk about music.'\n",
      "BOT : text='Sorry, I can not talk about that now.'\n",
      "USER: text='Ok, goodbye.'\n",
      "BOT : text='bye'\n"
     ]
    }
   ],
   "source": [
    "\n",
    "pipeline = Pipeline(\n",
    "    script=toy_script,\n",
    "    start_label=(\"greeting_flow\", \"start_node\"),\n",
    "    fallback_label=(\"greeting_flow\", \"fallback_node\"),\n",
    ")\n",
    "\n",
    "if __name__ == \"__main__\":\n",
    "    check_happy_path(pipeline, happy_path, printout=True)\n",
    "    if is_interactive_mode():\n",
    "        pipeline.run()"
   ]
  }
 ],
 "metadata": {
  "jupytext": {
   "cell_metadata_filter": "-all",
   "main_language": "python",
   "notebook_metadata_filter": "-all",
   "text_representation": {
    "extension": ".py",
    "format_name": "percent"
   }
  },
  "language_info": {
   "codemirror_mode": {
    "name": "ipython",
    "version": 3
   },
   "file_extension": ".py",
   "mimetype": "text/x-python",
   "name": "python",
   "nbconvert_exporter": "python",
   "pygments_lexer": "ipython3",
   "version": "3.9.21"
  }
 },
 "nbformat": 4,
 "nbformat_minor": 5
}
