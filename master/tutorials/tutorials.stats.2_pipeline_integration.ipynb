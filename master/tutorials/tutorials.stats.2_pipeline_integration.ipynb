{
 "cells": [
  {
   "cell_type": "markdown",
   "id": "98f98fa0",
   "metadata": {
    "cell_marker": "\"\"\""
   },
   "source": [
    "# 2. Pipeline Integration\n",
    "\n",
    "In the Chatsky ecosystem, extractor functions act as regular extra handlers (\n",
    "[see the extra handlers tutorial](\n",
    "../tutorials/tutorials.service.5_extra_handlers.py\n",
    ")\n",
    ").\n",
    "Hence, you can decorate any part of your pipeline, including services,\n",
    "service groups and the pipeline as a whole, to obtain the statistics\n",
    "specific for that component. Some examples of this functionality\n",
    "are showcased in this tutorial.\n",
    "\n",
    "<div class=\"alert alert-info\">\n",
    "\n",
    "Both the Opentelemetry collector and the Clickhouse instance must be running\n",
    "during statistics collection.\n",
    "If you cloned the Chatsky repo, launch them using `docker compose`:\n",
    "```bash\n",
    "docker compose --profile stats up\n",
    "```\n",
    "\n",
    "</div>"
   ]
  },
  {
   "cell_type": "code",
   "execution_count": 1,
   "id": "d3c836b0",
   "metadata": {
    "execution": {
     "iopub.execute_input": "2025-02-18T10:22:56.861533Z",
     "iopub.status.busy": "2025-02-18T10:22:56.861310Z",
     "iopub.status.idle": "2025-02-18T10:22:58.059609Z",
     "shell.execute_reply": "2025-02-18T10:22:58.058856Z"
    }
   },
   "outputs": [
    {
     "name": "stdout",
     "output_type": "stream",
     "text": [
      "Note: you may need to restart the kernel to use updated packages.\n"
     ]
    }
   ],
   "source": [
    "# installing dependencies\n",
    "%pip install -q chatsky[stats]==0.10.0"
   ]
  },
  {
   "cell_type": "code",
   "execution_count": 2,
   "id": "749df7fc",
   "metadata": {
    "execution": {
     "iopub.execute_input": "2025-02-18T10:22:58.062292Z",
     "iopub.status.busy": "2025-02-18T10:22:58.061821Z",
     "iopub.status.idle": "2025-02-18T10:22:59.924206Z",
     "shell.execute_reply": "2025-02-18T10:22:59.923536Z"
    }
   },
   "outputs": [],
   "source": [
    "import asyncio\n",
    "\n",
    "from chatsky.core.service import (\n",
    "    ExtraHandlerRuntimeInfo,\n",
    "    ServiceGroup,\n",
    "    ExtraHandlerType,\n",
    ")\n",
    "from chatsky import Context, Pipeline\n",
    "from chatsky.stats import OTLPLogExporter, OTLPSpanExporter\n",
    "from chatsky.stats import (\n",
    "    OtelInstrumentor,\n",
    "    set_logger_destination,\n",
    "    set_tracer_destination,\n",
    ")\n",
    "from chatsky.stats import default_extractors\n",
    "from chatsky.utils.testing import is_interactive_mode, check_happy_path\n",
    "from chatsky.utils.testing.toy_script import TOY_SCRIPT_KWARGS, HAPPY_PATH"
   ]
  },
  {
   "cell_type": "code",
   "execution_count": 3,
   "id": "d7943b86",
   "metadata": {
    "execution": {
     "iopub.execute_input": "2025-02-18T10:22:59.927057Z",
     "iopub.status.busy": "2025-02-18T10:22:59.926468Z",
     "iopub.status.idle": "2025-02-18T10:22:59.934159Z",
     "shell.execute_reply": "2025-02-18T10:22:59.933582Z"
    },
    "lines_to_next_cell": 2
   },
   "outputs": [],
   "source": [
    "set_logger_destination(OTLPLogExporter(\"grpc://localhost:4317\", insecure=True))\n",
    "set_tracer_destination(OTLPSpanExporter(\"grpc://localhost:4317\", insecure=True))\n",
    "chatsky_instrumentor = OtelInstrumentor()\n",
    "chatsky_instrumentor.instrument()\n",
    "\n",
    "\n",
    "# example extractor function\n",
    "@chatsky_instrumentor\n",
    "async def get_service_state(ctx: Context, info: ExtraHandlerRuntimeInfo):\n",
    "    # extract execution state of service from info\n",
    "    data = {\n",
    "        \"execution_state\": info.component.get_state(ctx),\n",
    "    }\n",
    "    # return a record to save into connected database\n",
    "    return data"
   ]
  },
  {
   "cell_type": "code",
   "execution_count": 4,
   "id": "35b1322f",
   "metadata": {
    "execution": {
     "iopub.execute_input": "2025-02-18T10:22:59.936073Z",
     "iopub.status.busy": "2025-02-18T10:22:59.935873Z",
     "iopub.status.idle": "2025-02-18T10:22:59.939319Z",
     "shell.execute_reply": "2025-02-18T10:22:59.938758Z"
    },
    "lines_to_next_cell": 2
   },
   "outputs": [],
   "source": [
    "# example service\n",
    "async def heavy_service(ctx: Context):\n",
    "    _ = ctx  # get something from ctx if needed\n",
    "    await asyncio.sleep(0.02)"
   ]
  },
  {
   "cell_type": "markdown",
   "id": "b0a21b27",
   "metadata": {
    "cell_marker": "\"\"\"",
    "lines_to_next_cell": 0
   },
   "source": [
    "\n",
    "The many ways in which you can use extractor functions are shown in\n",
    "the following pipeline definition. The functions are used to obtain\n",
    "statistics from respective components:\n",
    "\n",
    "* A service group of two `heavy_service` instances.\n",
    "* An `Actor` service.\n",
    "* The pipeline as a whole.\n",
    "\n",
    "As is the case with the regular extra handler functions,\n",
    "you can wire the extractors to run either before or after the target service.\n",
    "As a result, you can compare the pre-service and post-service states\n",
    "of the context to measure the performance of various components, etc.\n",
    "\n",
    "Some extractors, like `get_current_label`, have restrictions in terms of their\n",
    "run stage: for instance, `get_current_label` needs to only be used as an\n",
    "`after_handler` to function correctly."
   ]
  },
  {
   "cell_type": "code",
   "execution_count": 5,
   "id": "aaa132d3",
   "metadata": {
    "execution": {
     "iopub.execute_input": "2025-02-18T10:22:59.941354Z",
     "iopub.status.busy": "2025-02-18T10:22:59.941151Z",
     "iopub.status.idle": "2025-02-18T10:23:00.171506Z",
     "shell.execute_reply": "2025-02-18T10:23:00.170895Z"
    }
   },
   "outputs": [
    {
     "name": "stdout",
     "output_type": "stream",
     "text": [
      "USER: text='Hi'\n",
      "BOT : text='Hi, how are you?'\n",
      "USER: text='i'm fine, how are you?'\n",
      "BOT : text='Good. What do you want to talk about?'\n",
      "USER: text='Let's talk about music.'\n",
      "BOT : text='Sorry, I can not talk about music now.'\n",
      "USER: text='Ok, goodbye.'\n",
      "BOT : text='bye'\n",
      "USER: text='Hi'\n"
     ]
    },
    {
     "name": "stdout",
     "output_type": "stream",
     "text": [
      "BOT : text='Hi, how are you?'\n"
     ]
    }
   ],
   "source": [
    "pipeline = Pipeline(\n",
    "    **TOY_SCRIPT_KWARGS,\n",
    "    pre_services=ServiceGroup(\n",
    "        before_handler=[default_extractors.get_timing_before],\n",
    "        after_handler=[\n",
    "            get_service_state,\n",
    "            default_extractors.get_timing_after,\n",
    "        ],\n",
    "        components=[\n",
    "            heavy_service,\n",
    "            heavy_service,\n",
    "        ],\n",
    "    ),\n",
    ")\n",
    "# These are Extra Handlers for Actor.\n",
    "pipeline.actor.add_extra_handler(\n",
    "    ExtraHandlerType.BEFORE, default_extractors.get_timing_before\n",
    ")\n",
    "pipeline.actor.add_extra_handler(ExtraHandlerType.AFTER, get_service_state)\n",
    "pipeline.actor.add_extra_handler(\n",
    "    ExtraHandlerType.AFTER, default_extractors.get_current_label\n",
    ")\n",
    "pipeline.actor.add_extra_handler(\n",
    "    ExtraHandlerType.AFTER, default_extractors.get_timing_after\n",
    ")\n",
    "\n",
    "# These are global Extra Handlers for Pipeline service\n",
    "pipeline.services_pipeline.add_extra_handler(\n",
    "    ExtraHandlerType.BEFORE, default_extractors.get_timing_before\n",
    ")\n",
    "pipeline.services_pipeline.add_extra_handler(\n",
    "    ExtraHandlerType.AFTER, default_extractors.get_timing_after\n",
    ")\n",
    "pipeline.services_pipeline.add_extra_handler(\n",
    "    ExtraHandlerType.AFTER, get_service_state\n",
    ")\n",
    "\n",
    "if __name__ == \"__main__\":\n",
    "    check_happy_path(pipeline, HAPPY_PATH, printout=True)\n",
    "    if is_interactive_mode():\n",
    "        pipeline.run()"
   ]
  }
 ],
 "metadata": {
  "jupytext": {
   "cell_metadata_filter": "-all",
   "main_language": "python",
   "notebook_metadata_filter": "-all",
   "text_representation": {
    "extension": ".py",
    "format_name": "percent"
   }
  },
  "language_info": {
   "codemirror_mode": {
    "name": "ipython",
    "version": 3
   },
   "file_extension": ".py",
   "mimetype": "text/x-python",
   "name": "python",
   "nbconvert_exporter": "python",
   "pygments_lexer": "ipython3",
   "version": "3.9.21"
  }
 },
 "nbformat": 4,
 "nbformat_minor": 5
}
