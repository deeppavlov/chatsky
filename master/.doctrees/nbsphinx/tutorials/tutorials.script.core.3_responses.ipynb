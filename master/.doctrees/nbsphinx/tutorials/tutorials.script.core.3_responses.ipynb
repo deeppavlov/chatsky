{
 "cells": [
  {
   "cell_type": "markdown",
   "id": "6af28167",
   "metadata": {
    "cell_marker": "\"\"\""
   },
   "source": [
    "# Core: 3. Responses\n",
    "\n",
    "This tutorial shows different options for setting responses.\n",
    "\n",
    "Here, [responses](../apiref/chatsky.responses.standard.rst)\n",
    "that allow giving custom answers to users are shown."
   ]
  },
  {
   "cell_type": "code",
   "execution_count": 1,
   "id": "a69ed559",
   "metadata": {
    "execution": {
     "iopub.execute_input": "2025-02-18T10:21:36.671711Z",
     "iopub.status.busy": "2025-02-18T10:21:36.671483Z",
     "iopub.status.idle": "2025-02-18T10:21:38.009975Z",
     "shell.execute_reply": "2025-02-18T10:21:38.009206Z"
    }
   },
   "outputs": [
    {
     "name": "stdout",
     "output_type": "stream",
     "text": [
      "Note: you may need to restart the kernel to use updated packages.\n"
     ]
    }
   ],
   "source": [
    "# installing dependencies\n",
    "%pip install -q chatsky==0.10.0"
   ]
  },
  {
   "cell_type": "code",
   "execution_count": 2,
   "id": "cb872485",
   "metadata": {
    "execution": {
     "iopub.execute_input": "2025-02-18T10:21:38.012628Z",
     "iopub.status.busy": "2025-02-18T10:21:38.012134Z",
     "iopub.status.idle": "2025-02-18T10:21:39.682888Z",
     "shell.execute_reply": "2025-02-18T10:21:39.682129Z"
    },
    "lines_to_next_cell": 2
   },
   "outputs": [],
   "source": [
    "import re\n",
    "import random\n",
    "from typing import Union\n",
    "\n",
    "from chatsky import (\n",
    "    TRANSITIONS,\n",
    "    RESPONSE,\n",
    "    Context,\n",
    "    Message,\n",
    "    Pipeline,\n",
    "    Transition as Tr,\n",
    "    conditions as cnd,\n",
    "    responses as rsp,\n",
    "    destinations as dst,\n",
    "    BaseResponse,\n",
    "    MessageInitTypes,\n",
    "    AnyResponse,\n",
    "    AbsoluteNodeLabel,\n",
    ")\n",
    "\n",
    "from chatsky.utils.testing.common import (\n",
    "    check_happy_path,\n",
    "    is_interactive_mode,\n",
    ")"
   ]
  },
  {
   "cell_type": "markdown",
   "id": "a224f38e",
   "metadata": {
    "cell_marker": "\"\"\""
   },
   "source": [
    "Response of a node is determined by\n",
    "[BaseResponse](../apiref/chatsky.core.script_function.rst#chatsky.core.script_function.BaseResponse).\n",
    "\n",
    "Response can be constant in which case it is an instance\n",
    "of [Message](../apiref/chatsky.core.message.rst#chatsky.core.message.Message).\n",
    "\n",
    "`Message` has an option to be instantiated from a string\n",
    "which is what we've been using so far.\n",
    "Under the hood `RESPONSE: \"text\"` is converted into\n",
    "`RESPONSE: Message(text=\"text\")`.\n",
    "This class should be used over simple strings when\n",
    "some additional information needs to be sent such as images/metadata.\n",
    "\n",
    "More information on that can be found in the [media tutorial](\n",
    "../tutorials/tutorials.script.responses.1_media.py\n",
    ").\n",
    "\n",
    "Instances of this class are returned by\n",
    "[last_request](../apiref/chatsky.core.context.rst#chatsky.core.context.Context.last_request) and\n",
    "[last_response](../apiref/chatsky.core.context.rst#chatsky.core.context.Context.last_response).\n",
    "In the previous tutorial we showed how to access fields of messages\n",
    "to build custom conditions.\n",
    "\n",
    "Node `RESPONSE` can also be set to a custom function.\n",
    "This is demonstrated below:"
   ]
  },
  {
   "cell_type": "code",
   "execution_count": 3,
   "id": "eaf30e23",
   "metadata": {
    "execution": {
     "iopub.execute_input": "2025-02-18T10:21:39.686028Z",
     "iopub.status.busy": "2025-02-18T10:21:39.685359Z",
     "iopub.status.idle": "2025-02-18T10:21:39.699909Z",
     "shell.execute_reply": "2025-02-18T10:21:39.699289Z"
    }
   },
   "outputs": [],
   "source": [
    "class CannotTalkAboutTopic(BaseResponse):\n",
    "    async def call(self, ctx: Context) -> MessageInitTypes:\n",
    "        request = ctx.last_request\n",
    "        if request.text is None:\n",
    "            topic = None\n",
    "        else:\n",
    "            topic_pattern = re.compile(r\"(.*talk about )(.*)\\.\")\n",
    "            topic = topic_pattern.findall(request.text)\n",
    "            topic = topic and topic[0] and topic[0][-1]\n",
    "        if topic:\n",
    "            return f\"Sorry, I can not talk about {topic} now.\"\n",
    "        else:\n",
    "            return \"Sorry, I can not talk about that now.\"\n",
    "\n",
    "\n",
    "class UpperCase(BaseResponse):\n",
    "    response: AnyResponse  # either const response or another BaseResponse\n",
    "\n",
    "    def __init__(self, response: Union[MessageInitTypes, BaseResponse]):\n",
    "        # defining this allows passing response as a positional argument\n",
    "        # and allows to make a more detailed type annotation:\n",
    "        # AnyResponse cannot be a string but can be initialized from it,\n",
    "        # so MessageInitTypes annotates that we can init from a string\n",
    "        super().__init__(response=response)\n",
    "\n",
    "    async def call(self, ctx: Context) -> MessageInitTypes:\n",
    "        response = await self.response(ctx)\n",
    "        # const response is converted to BaseResponse,\n",
    "        # so we call it regardless of the response type\n",
    "\n",
    "        if response.text is not None:\n",
    "            response.text = response.text.upper()\n",
    "        return response\n",
    "\n",
    "\n",
    "class FallbackTrace(BaseResponse):\n",
    "    async def call(self, ctx: Context) -> MessageInitTypes:\n",
    "        return Message(\n",
    "            misc={\n",
    "                \"previous_node\": await dst.Previous()(ctx),\n",
    "                \"last_request\": ctx.last_request,\n",
    "            }\n",
    "        )"
   ]
  },
  {
   "cell_type": "markdown",
   "id": "982a8847",
   "metadata": {
    "cell_marker": "\"\"\"",
    "lines_to_next_cell": 2
   },
   "source": [
    "Chatsky provides one basic response as part of\n",
    "the [standard](../apiref/chatsky.responses.standard.rst) module:\n",
    "\n",
    "- `RandomChoice` randomly chooses a message out of the ones passed to it."
   ]
  },
  {
   "cell_type": "code",
   "execution_count": 4,
   "id": "fe8dbdbb",
   "metadata": {
    "execution": {
     "iopub.execute_input": "2025-02-18T10:21:39.702251Z",
     "iopub.status.busy": "2025-02-18T10:21:39.701820Z",
     "iopub.status.idle": "2025-02-18T10:21:39.711384Z",
     "shell.execute_reply": "2025-02-18T10:21:39.710860Z"
    }
   },
   "outputs": [],
   "source": [
    "toy_script = {\n",
    "    \"greeting_flow\": {\n",
    "        \"start_node\": {\n",
    "            TRANSITIONS: [Tr(dst=\"node1\", cnd=cnd.ExactMatch(\"Hi\"))],\n",
    "        },\n",
    "        \"node1\": {\n",
    "            RESPONSE: rsp.RandomChoice(\n",
    "                \"Hi, what is up?\",\n",
    "                \"Hello, how are you?\",\n",
    "            ),\n",
    "            # Random choice from candidate list.\n",
    "            TRANSITIONS: [\n",
    "                Tr(dst=\"node2\", cnd=cnd.ExactMatch(\"I'm fine, how are you?\"))\n",
    "            ],\n",
    "        },\n",
    "        \"node2\": {\n",
    "            RESPONSE: \"Good. What do you want to talk about?\",\n",
    "            TRANSITIONS: [\n",
    "                Tr(dst=\"node3\", cnd=cnd.ExactMatch(\"Let's talk about music.\"))\n",
    "            ],\n",
    "        },\n",
    "        \"node3\": {\n",
    "            RESPONSE: CannotTalkAboutTopic(),\n",
    "            TRANSITIONS: [Tr(dst=\"node4\", cnd=cnd.ExactMatch(\"Ok, goodbye.\"))],\n",
    "        },\n",
    "        \"node4\": {\n",
    "            RESPONSE: UpperCase(\"bye\"),\n",
    "            TRANSITIONS: [Tr(dst=\"node1\", cnd=cnd.ExactMatch(\"Hi\"))],\n",
    "        },\n",
    "        \"fallback_node\": {\n",
    "            RESPONSE: FallbackTrace(),\n",
    "            TRANSITIONS: [Tr(dst=\"node1\", cnd=cnd.ExactMatch(\"Hi\"))],\n",
    "        },\n",
    "    }\n",
    "}\n",
    "\n",
    "# testing\n",
    "happy_path = (\n",
    "    (\n",
    "        \"Hi\",\n",
    "        \"Hello, how are you?\",\n",
    "    ),  # start_node -> node1\n",
    "    (\n",
    "        \"I'm fine, how are you?\",\n",
    "        \"Good. What do you want to talk about?\",\n",
    "    ),  # node1 -> node2\n",
    "    (\n",
    "        \"Let's talk about music.\",\n",
    "        \"Sorry, I can not talk about music now.\",\n",
    "    ),  # node2 -> node3\n",
    "    (\"Ok, goodbye.\", \"BYE\"),  # node3 -> node4\n",
    "    (\"Hi\", \"Hello, how are you?\"),  # node4 -> node1\n",
    "    (\n",
    "        \"stop\",\n",
    "        Message(\n",
    "            misc={\n",
    "                \"previous_node\": AbsoluteNodeLabel(\n",
    "                    flow_name=\"greeting_flow\", node_name=\"node1\"\n",
    "                ),\n",
    "                \"last_request\": Message(\"stop\"),\n",
    "            }\n",
    "        ),\n",
    "    ),\n",
    "    # node1 -> fallback_node\n",
    "    (\n",
    "        \"one\",\n",
    "        Message(\n",
    "            misc={\n",
    "                \"previous_node\": AbsoluteNodeLabel(\n",
    "                    flow_name=\"greeting_flow\", node_name=\"fallback_node\"\n",
    "                ),\n",
    "                \"last_request\": Message(\"one\"),\n",
    "            }\n",
    "        ),\n",
    "    ),  # f_n->f_n\n",
    "    (\n",
    "        \"help\",\n",
    "        Message(\n",
    "            misc={\n",
    "                \"previous_node\": AbsoluteNodeLabel(\n",
    "                    flow_name=\"greeting_flow\", node_name=\"fallback_node\"\n",
    "                ),\n",
    "                \"last_request\": Message(\"help\"),\n",
    "            }\n",
    "        ),\n",
    "    ),  # f_n->f_n\n",
    "    (\n",
    "        \"nope\",\n",
    "        Message(\n",
    "            misc={\n",
    "                \"previous_node\": AbsoluteNodeLabel(\n",
    "                    flow_name=\"greeting_flow\", node_name=\"fallback_node\"\n",
    "                ),\n",
    "                \"last_request\": Message(\"nope\"),\n",
    "            }\n",
    "        ),\n",
    "    ),  # f_n->f_n\n",
    "    (\n",
    "        \"Hi\",\n",
    "        \"Hi, what is up?\",\n",
    "    ),  # fallback_node -> node1\n",
    "    (\n",
    "        \"I'm fine, how are you?\",\n",
    "        \"Good. What do you want to talk about?\",\n",
    "    ),  # node1 -> node2\n",
    "    (\n",
    "        \"Let's talk about music.\",\n",
    "        \"Sorry, I can not talk about music now.\",\n",
    "    ),  # node2 -> node3\n",
    "    (\"Ok, goodbye.\", \"BYE\"),  # node3 -> node4\n",
    ")"
   ]
  },
  {
   "cell_type": "code",
   "execution_count": 5,
   "id": "cf87618b",
   "metadata": {
    "execution": {
     "iopub.execute_input": "2025-02-18T10:21:39.713651Z",
     "iopub.status.busy": "2025-02-18T10:21:39.713268Z",
     "iopub.status.idle": "2025-02-18T10:21:39.757353Z",
     "shell.execute_reply": "2025-02-18T10:21:39.756607Z"
    }
   },
   "outputs": [
    {
     "name": "stdout",
     "output_type": "stream",
     "text": [
      "USER: text='Hi'\n",
      "BOT : text='Hello, how are you?'\n",
      "USER: text='I'm fine, how are you?'\n",
      "BOT : text='Good. What do you want to talk about?'\n",
      "USER: text='Let's talk about music.'\n",
      "BOT : text='Sorry, I can not talk about music now.'\n",
      "USER: text='Ok, goodbye.'\n",
      "BOT : text='BYE'\n",
      "USER: text='Hi'\n",
      "BOT : text='Hello, how are you?'\n",
      "USER: text='stop'\n",
      "BOT : misc='{'previous_node': {'flow_name': 'greeting_flow', 'node_name': 'node1'}, 'last_request': {'text': 'stop'}}'\n",
      "USER: text='one'\n",
      "BOT : misc='{'previous_node': {'flow_name': 'greeting_flow', 'node_name': 'fallback_node'}, 'last_request': {'text': 'one'}}'\n",
      "USER: text='help'\n",
      "BOT : misc='{'previous_node': {'flow_name': 'greeting_flow', 'node_name': 'fallback_node'}, 'last_request': {'text': 'help'}}'\n",
      "USER: text='nope'\n",
      "BOT : misc='{'previous_node': {'flow_name': 'greeting_flow', 'node_name': 'fallback_node'}, 'last_request': {'text': 'nope'}}'\n",
      "USER: text='Hi'\n",
      "BOT : text='Hi, what is up?'\n",
      "USER: text='I'm fine, how are you?'\n",
      "BOT : text='Good. What do you want to talk about?'\n",
      "USER: text='Let's talk about music.'\n",
      "BOT : text='Sorry, I can not talk about music now.'\n",
      "USER: text='Ok, goodbye.'\n",
      "BOT : text='BYE'\n"
     ]
    }
   ],
   "source": [
    "random.seed(31415)  # predestination of choice\n",
    "\n",
    "\n",
    "pipeline = Pipeline(\n",
    "    script=toy_script,\n",
    "    start_label=(\"greeting_flow\", \"start_node\"),\n",
    "    fallback_label=(\"greeting_flow\", \"fallback_node\"),\n",
    ")\n",
    "\n",
    "if __name__ == \"__main__\":\n",
    "    check_happy_path(pipeline, happy_path, printout=True)\n",
    "    if is_interactive_mode():\n",
    "        pipeline.run()"
   ]
  }
 ],
 "metadata": {
  "jupytext": {
   "cell_metadata_filter": "-all",
   "main_language": "python",
   "notebook_metadata_filter": "-all",
   "text_representation": {
    "extension": ".py",
    "format_name": "percent"
   }
  },
  "language_info": {
   "codemirror_mode": {
    "name": "ipython",
    "version": 3
   },
   "file_extension": ".py",
   "mimetype": "text/x-python",
   "name": "python",
   "nbconvert_exporter": "python",
   "pygments_lexer": "ipython3",
   "version": "3.9.21"
  }
 },
 "nbformat": 4,
 "nbformat_minor": 5
}
