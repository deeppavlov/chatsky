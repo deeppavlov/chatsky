{
 "cells": [
  {
   "cell_type": "markdown",
   "id": "3bdbee38",
   "metadata": {
    "cell_marker": "\"\"\""
   },
   "source": [
    "# 8. Partial context updates\n",
    "\n",
    "The following tutorial shows the advanced usage\n",
    "of context storage and context storage schema."
   ]
  },
  {
   "cell_type": "code",
   "execution_count": 1,
   "id": "80c43bdd",
   "metadata": {
    "execution": {
     "iopub.execute_input": "2025-02-18T10:19:41.353768Z",
     "iopub.status.busy": "2025-02-18T10:19:41.353304Z",
     "iopub.status.idle": "2025-02-18T10:19:42.520471Z",
     "shell.execute_reply": "2025-02-18T10:19:42.519632Z"
    }
   },
   "outputs": [
    {
     "name": "stdout",
     "output_type": "stream",
     "text": [
      "Note: you may need to restart the kernel to use updated packages.\n"
     ]
    }
   ],
   "source": [
    "# installing dependencies\n",
    "%pip install -q chatsky==0.10.0"
   ]
  },
  {
   "cell_type": "code",
   "execution_count": 2,
   "id": "363ef2e1",
   "metadata": {
    "execution": {
     "iopub.execute_input": "2025-02-18T10:19:42.522997Z",
     "iopub.status.busy": "2025-02-18T10:19:42.522753Z",
     "iopub.status.idle": "2025-02-18T10:19:44.193375Z",
     "shell.execute_reply": "2025-02-18T10:19:44.192759Z"
    }
   },
   "outputs": [],
   "source": [
    "from pathlib import Path\n",
    "\n",
    "from chatsky import Pipeline\n",
    "from chatsky.context_storages import context_storage_factory\n",
    "from chatsky.context_storages.database import NameConfig\n",
    "from chatsky.utils.testing.common import check_happy_path, is_interactive_mode\n",
    "from chatsky.utils.testing.toy_script import TOY_SCRIPT_KWARGS, HAPPY_PATH"
   ]
  },
  {
   "cell_type": "code",
   "execution_count": 3,
   "id": "25b31576",
   "metadata": {
    "execution": {
     "iopub.execute_input": "2025-02-18T10:19:44.196185Z",
     "iopub.status.busy": "2025-02-18T10:19:44.195662Z",
     "iopub.status.idle": "2025-02-18T10:19:44.200001Z",
     "shell.execute_reply": "2025-02-18T10:19:44.199409Z"
    }
   },
   "outputs": [],
   "source": [
    "Path(\"dbs\").mkdir(exist_ok=True)\n",
    "db = context_storage_factory(\"shelve://dbs/partly.shlv\")\n",
    "\n",
    "pipeline = Pipeline(**TOY_SCRIPT_KWARGS, context_storage=db)"
   ]
  },
  {
   "cell_type": "markdown",
   "id": "d8fabb8b",
   "metadata": {
    "cell_marker": "\"\"\""
   },
   "source": [
    "Most of the `Context` fields, that might grow in size uncontrollably,\n",
    "are stored in a special structure, `ContextDict`.\n",
    "This structure can be used for fine-grained access to the underlying\n",
    "database, partial and asynchronous element loading.\n",
    "In particular, this is relevant for `labels`, `requests` and `responses`\n",
    "fields, while `misc` and `framework_data` are always loaded fully.\n",
    "\n",
    "How does that partial field writing work?\n",
    "\n",
    "In most cases, every context storage\n",
    "operates two \"tables\", \"dictionaries\", \"files\", etc.\n",
    "\n",
    "One of them is called `MAIN` and contains all the \"primitive\" `Context`\n",
    "data (and also the data that will be read and written completely every time) -\n",
    "that includes context `id`, `current_turn_id`, `_created_at`,\n",
    "`_updated_at`, `misc` and `framework_data` fields.\n",
    "\n",
    "The other one is called `TURNS` and contains triplets of the data generated on\n",
    "each conversation step: `label`, `request` and `response`.\n",
    "\n",
    "Whenever a context is loaded, all of its information from `MAIN` table\n",
    "and one to few items from `TURNS` table are loaded.\n",
    "More items from `TURNS` table can be loaded later on demand\n",
    "(via the `get` or `__getitem__` methods of corresponding fields)."
   ]
  },
  {
   "cell_type": "markdown",
   "id": "24122fdc",
   "metadata": {
    "cell_marker": "\"\"\""
   },
   "source": [
    "Database table layout and default behavior are controlled by\n",
    "some special fields of the `DBContextStorage` class.\n",
    "\n",
    "All the table and field names are stored in a special `NameConfig`\n",
    "static class."
   ]
  },
  {
   "cell_type": "markdown",
   "id": "40a59c3d",
   "metadata": {
    "cell_marker": "\"\"\""
   },
   "source": [
    "One of the important configuration options is `_subscripts`:\n",
    "this property controls the number of *last* dictionary items\n",
    "that will be read and written\n",
    "(the items are ordered by keys, ascending) - default value is 3.\n",
    "In order to read *all* items at once, the property\n",
    "can also be set to \"__all__\" literal.\n",
    "In order to read only a specific subset of keys, the property\n",
    "can be set to a set of desired integers."
   ]
  },
  {
   "cell_type": "code",
   "execution_count": 4,
   "id": "2c57a4fe",
   "metadata": {
    "execution": {
     "iopub.execute_input": "2025-02-18T10:19:44.202334Z",
     "iopub.status.busy": "2025-02-18T10:19:44.201954Z",
     "iopub.status.idle": "2025-02-18T10:19:44.205085Z",
     "shell.execute_reply": "2025-02-18T10:19:44.204477Z"
    }
   },
   "outputs": [],
   "source": [
    "# All items will be loaded on every turn.\n",
    "db._subscripts[NameConfig._requests_field] = \"__all__\""
   ]
  },
  {
   "cell_type": "code",
   "execution_count": 5,
   "id": "544c8e5e",
   "metadata": {
    "execution": {
     "iopub.execute_input": "2025-02-18T10:19:44.207367Z",
     "iopub.status.busy": "2025-02-18T10:19:44.206893Z",
     "iopub.status.idle": "2025-02-18T10:19:44.210037Z",
     "shell.execute_reply": "2025-02-18T10:19:44.209458Z"
    }
   },
   "outputs": [],
   "source": [
    "# 5 last items will be loaded on every turn.\n",
    "db._subscripts[NameConfig._requests_field] = 5"
   ]
  },
  {
   "cell_type": "code",
   "execution_count": 6,
   "id": "46ee864b",
   "metadata": {
    "execution": {
     "iopub.execute_input": "2025-02-18T10:19:44.212237Z",
     "iopub.status.busy": "2025-02-18T10:19:44.211786Z",
     "iopub.status.idle": "2025-02-18T10:19:44.214933Z",
     "shell.execute_reply": "2025-02-18T10:19:44.214294Z"
    }
   },
   "outputs": [],
   "source": [
    "# Items 1, 3, 5 and 7 will be loaded on every turn.\n",
    "db._subscripts[NameConfig._requests_field] = {1, 3, 5, 7}"
   ]
  },
  {
   "cell_type": "markdown",
   "id": "337f7254",
   "metadata": {
    "cell_marker": "\"\"\""
   },
   "source": [
    "Last but not least, comes `rewrite_existing` boolean flag.\n",
    "\n",
    "Without it any \"silent\" modifications to the values of `ContextDict` will be\n",
    "discarded at the end of each turn.\n",
    "\n",
    "I.e. explicit modification of values via methods such as `__setitem__`,\n",
    "`__delitem__` or `pop` will be kept track of and preserved, while\n",
    "implicit modification via object manipulation,\n",
    "e.g. ``ctx.last_request.text = \"new_text\"``, will be discarded.\n",
    "\n",
    "Turning the option on will enable calculating hashes for all items stored\n",
    "locally and comparing them at the end of every turn, updating any\n",
    "that were implicitly changed.\n",
    "\n",
    "NB! Keeping track of the modified elements comes with a price of calculating\n",
    "their hashes and comparing them, so in performance-critical environments\n",
    "this feature can be disabled by setting the flag to False."
   ]
  },
  {
   "cell_type": "code",
   "execution_count": 7,
   "id": "664221c6",
   "metadata": {
    "execution": {
     "iopub.execute_input": "2025-02-18T10:19:44.217077Z",
     "iopub.status.busy": "2025-02-18T10:19:44.216710Z",
     "iopub.status.idle": "2025-02-18T10:19:44.219637Z",
     "shell.execute_reply": "2025-02-18T10:19:44.219019Z"
    }
   },
   "outputs": [],
   "source": [
    "# Any modifications done to the elements already present in storage\n",
    "# will be preserved.\n",
    "db.rewrite_existing = True"
   ]
  },
  {
   "cell_type": "code",
   "execution_count": 8,
   "id": "be0163e4",
   "metadata": {
    "execution": {
     "iopub.execute_input": "2025-02-18T10:19:44.221842Z",
     "iopub.status.busy": "2025-02-18T10:19:44.221435Z",
     "iopub.status.idle": "2025-02-18T10:19:44.303623Z",
     "shell.execute_reply": "2025-02-18T10:19:44.303087Z"
    }
   },
   "outputs": [],
   "source": [
    "if __name__ == \"__main__\":\n",
    "    check_happy_path(pipeline, HAPPY_PATH)\n",
    "    # This is a function for automatic\n",
    "    # tutorial running (testing) with HAPPY_PATH\n",
    "\n",
    "    # This runs tutorial in interactive mode if not in IPython env\n",
    "    # and if `DISABLE_INTERACTIVE_MODE` is not set\n",
    "    if is_interactive_mode():\n",
    "        pipeline.run()  # This runs tutorial in interactive mode"
   ]
  }
 ],
 "metadata": {
  "jupytext": {
   "cell_metadata_filter": "-all",
   "main_language": "python",
   "notebook_metadata_filter": "-all",
   "text_representation": {
    "extension": ".py",
    "format_name": "percent"
   }
  },
  "language_info": {
   "codemirror_mode": {
    "name": "ipython",
    "version": 3
   },
   "file_extension": ".py",
   "mimetype": "text/x-python",
   "name": "python",
   "nbconvert_exporter": "python",
   "pygments_lexer": "ipython3",
   "version": "3.9.21"
  }
 },
 "nbformat": 4,
 "nbformat_minor": 5
}
