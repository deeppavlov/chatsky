{
 "cells": [
  {
   "cell_type": "markdown",
   "id": "5ef51dd7",
   "metadata": {
    "cell_marker": "\"\"\""
   },
   "source": [
    "# Core: 1. Basics\n",
    "\n",
    "This notebook shows a basic example of creating a simple dialog bot (agent).\n",
    "\n",
    "Here, basic usage of [Pipeline](../apiref/chatsky.core.pipeline.rst#chatsky.core.pipeline.Pipeline) is shown.\n",
    "\n",
    "Additionally, function [check_happy_path](../apiref/chatsky.utils.testing.common.rst#chatsky.utils.testing.common.check_happy_path)\n",
    "that can be used for Pipeline testing is presented.\n",
    "\n",
    "Let's do all the necessary imports from Chatsky:"
   ]
  },
  {
   "cell_type": "code",
   "execution_count": 1,
   "id": "5c4ec2e6",
   "metadata": {
    "execution": {
     "iopub.execute_input": "2025-02-18T09:57:43.881179Z",
     "iopub.status.busy": "2025-02-18T09:57:43.880634Z",
     "iopub.status.idle": "2025-02-18T09:57:45.150437Z",
     "shell.execute_reply": "2025-02-18T09:57:45.149645Z"
    }
   },
   "outputs": [
    {
     "name": "stdout",
     "output_type": "stream",
     "text": [
      "Note: you may need to restart the kernel to use updated packages.\n"
     ]
    }
   ],
   "source": [
    "# installing dependencies\n",
    "%pip install -q chatsky==0.10.0"
   ]
  },
  {
   "cell_type": "code",
   "execution_count": 2,
   "id": "e50478bb",
   "metadata": {
    "execution": {
     "iopub.execute_input": "2025-02-18T09:57:45.153021Z",
     "iopub.status.busy": "2025-02-18T09:57:45.152587Z",
     "iopub.status.idle": "2025-02-18T09:57:46.828085Z",
     "shell.execute_reply": "2025-02-18T09:57:46.827304Z"
    },
    "lines_to_next_cell": 2
   },
   "outputs": [],
   "source": [
    "from chatsky import (\n",
    "    TRANSITIONS,\n",
    "    RESPONSE,\n",
    "    Pipeline,\n",
    "    Transition as Tr,\n",
    "    conditions as cnd,\n",
    "    # all the aliases used in tutorials are available for direct import\n",
    "    # e.g. you can do `from chatsky import Tr` instead\n",
    ")\n",
    "\n",
    "from chatsky.utils.testing.common import (\n",
    "    check_happy_path,\n",
    "    is_interactive_mode,\n",
    ")"
   ]
  },
  {
   "cell_type": "markdown",
   "id": "36108eea",
   "metadata": {
    "cell_marker": "\"\"\"",
    "lines_to_next_cell": 2
   },
   "source": [
    "First of all, to create a dialog agent, we need to create a dialog script.\n",
    "Below script means a dialog script.\n",
    "\n",
    "A script is a dictionary, where the keys are the names of the flows.\n",
    "A script can contain multiple scripts, which is needed in order to divide\n",
    "a dialog into sub-dialogs and process them separately.\n",
    "\n",
    "For example, the separation can be tied to the topic of the dialog.\n",
    "In this tutorial there is one flow called `greeting_flow`.\n",
    "\n",
    "Flow describes a sub-dialog using linked nodes.\n",
    "Each node has the keywords `RESPONSE` and `TRANSITIONS`.\n",
    "\n",
    "* `RESPONSE` contains the response\n",
    "    that the agent will return from the current node.\n",
    "* `TRANSITIONS` is a list of [Transition](../apiref/chatsky.core.transition.rst#chatsky.core.transition.Transition)s\n",
    "    that describes possible transitions from the current node as well as their\n",
    "    conditions and priorities."
   ]
  },
  {
   "cell_type": "code",
   "execution_count": 3,
   "id": "efa4082f",
   "metadata": {
    "execution": {
     "iopub.execute_input": "2025-02-18T09:57:46.830913Z",
     "iopub.status.busy": "2025-02-18T09:57:46.830555Z",
     "iopub.status.idle": "2025-02-18T09:57:46.838331Z",
     "shell.execute_reply": "2025-02-18T09:57:46.837760Z"
    },
    "lines_to_next_cell": 2
   },
   "outputs": [],
   "source": [
    "toy_script = {\n",
    "    \"greeting_flow\": {\n",
    "        \"start_node\": {  # This is the initial node,\n",
    "            # it doesn't contain a `RESPONSE`.\n",
    "            TRANSITIONS: [Tr(dst=\"node1\", cnd=cnd.ExactMatch(\"Hi\"))],\n",
    "            # This transition means that the next node would be \"node1\"\n",
    "            # if user's message is \"Hi\"\n",
    "        },\n",
    "        \"node1\": {\n",
    "            RESPONSE: \"Hi, how are you?\",\n",
    "            # When the bot enters node1,\n",
    "            # return \"Hi, how are you?\".\n",
    "            TRANSITIONS: [\n",
    "                Tr(dst=\"node2\", cnd=cnd.ExactMatch(\"I'm fine, how are you?\"))\n",
    "            ],\n",
    "        },\n",
    "        \"node2\": {\n",
    "            RESPONSE: \"Good. What do you want to talk about?\",\n",
    "            TRANSITIONS: [\n",
    "                Tr(dst=\"node3\", cnd=cnd.ExactMatch(\"Let's talk about music.\"))\n",
    "            ],\n",
    "        },\n",
    "        \"node3\": {\n",
    "            RESPONSE: \"Sorry, I can not talk about music now.\",\n",
    "            TRANSITIONS: [Tr(dst=\"node4\", cnd=cnd.ExactMatch(\"Ok, goodbye.\"))],\n",
    "        },\n",
    "        \"node4\": {\n",
    "            RESPONSE: \"Bye\",\n",
    "            TRANSITIONS: [Tr(dst=\"node1\", cnd=cnd.ExactMatch(\"Hi\"))],\n",
    "        },\n",
    "        \"fallback_node\": {\n",
    "            # We get to this node if the conditions\n",
    "            # for switching to other nodes are not performed.\n",
    "            RESPONSE: \"Ooops\",\n",
    "            TRANSITIONS: [Tr(dst=\"node1\", cnd=cnd.ExactMatch(\"Hi\"))],\n",
    "        },\n",
    "    }\n",
    "}\n",
    "\n",
    "\n",
    "happy_path = (\n",
    "    (\n",
    "        \"Hi\",\n",
    "        \"Hi, how are you?\",\n",
    "    ),  # start_node -> node1\n",
    "    (\n",
    "        \"I'm fine, how are you?\",\n",
    "        \"Good. What do you want to talk about?\",\n",
    "    ),  # node1 -> node2\n",
    "    (\n",
    "        \"Let's talk about music.\",\n",
    "        \"Sorry, I can not talk about music now.\",\n",
    "    ),  # node2 -> node3\n",
    "    (\"Ok, goodbye.\", \"Bye\"),  # node3 -> node4\n",
    "    (\"Hi\", \"Hi, how are you?\"),  # node4 -> node1\n",
    "    (\"stop\", \"Ooops\"),  # node1 -> fallback_node\n",
    "    (\n",
    "        \"stop\",\n",
    "        \"Ooops\",\n",
    "    ),  # fallback_node -> fallback_node\n",
    "    (\n",
    "        \"Hi\",\n",
    "        \"Hi, how are you?\",\n",
    "    ),  # fallback_node -> node1\n",
    "    (\n",
    "        \"I'm fine, how are you?\",\n",
    "        \"Good. What do you want to talk about?\",\n",
    "    ),  # node1 -> node2\n",
    "    (\n",
    "        \"Let's talk about music.\",\n",
    "        \"Sorry, I can not talk about music now.\",\n",
    "    ),  # node2 -> node3\n",
    "    (\"Ok, goodbye.\", \"Bye\"),  # node3 -> node4\n",
    ")"
   ]
  },
  {
   "cell_type": "markdown",
   "id": "70139788",
   "metadata": {
    "cell_marker": "\"\"\"",
    "lines_to_next_cell": 2
   },
   "source": [
    "`Pipeline` is an object that processes user\n",
    "inputs and produces responses.\n",
    "\n",
    "To create the pipeline you need to pass the script (`script`),\n",
    "initial node (`start_label`) and\n",
    "the node to which the default transition will take place\n",
    "if none of the current conditions are met (`fallback_label`).\n",
    "\n",
    "If `fallback_label` is not set, it defaults to `start_label`.\n",
    "\n",
    "Roughly, the process is as follows:\n",
    "\n",
    "1. Pipeline receives a user request.\n",
    "2. The next node is determined with the help of `TRANSITIONS`.\n",
    "3. Response of the chosen node is sent to the user.\n",
    "\n",
    "For a more detailed description, see [here](\n",
    "../apiref/chatsky.core.pipeline.rst#chatsky.core.pipeline.Pipeline._run_pipeline\n",
    ")."
   ]
  },
  {
   "cell_type": "code",
   "execution_count": 4,
   "id": "2b5531eb",
   "metadata": {
    "execution": {
     "iopub.execute_input": "2025-02-18T09:57:46.840249Z",
     "iopub.status.busy": "2025-02-18T09:57:46.840055Z",
     "iopub.status.idle": "2025-02-18T09:57:46.877218Z",
     "shell.execute_reply": "2025-02-18T09:57:46.876607Z"
    }
   },
   "outputs": [
    {
     "name": "stdout",
     "output_type": "stream",
     "text": [
      "USER: text='Hi'\n",
      "BOT : text='Hi, how are you?'\n",
      "USER: text='I'm fine, how are you?'\n",
      "BOT : text='Good. What do you want to talk about?'\n",
      "USER: text='Let's talk about music.'\n",
      "BOT : text='Sorry, I can not talk about music now.'\n",
      "USER: text='Ok, goodbye.'\n",
      "BOT : text='Bye'\n",
      "USER: text='Hi'\n",
      "BOT : text='Hi, how are you?'\n",
      "USER: text='stop'\n",
      "BOT : text='Ooops'\n",
      "USER: text='stop'\n",
      "BOT : text='Ooops'\n",
      "USER: text='Hi'\n",
      "BOT : text='Hi, how are you?'\n",
      "USER: text='I'm fine, how are you?'\n",
      "BOT : text='Good. What do you want to talk about?'\n",
      "USER: text='Let's talk about music.'\n",
      "BOT : text='Sorry, I can not talk about music now.'\n",
      "USER: text='Ok, goodbye.'\n",
      "BOT : text='Bye'\n"
     ]
    }
   ],
   "source": [
    "pipeline = Pipeline(\n",
    "    script=toy_script,\n",
    "    start_label=(\"greeting_flow\", \"start_node\"),\n",
    "    fallback_label=(\"greeting_flow\", \"fallback_node\"),\n",
    ")\n",
    "\n",
    "if __name__ == \"__main__\":\n",
    "    check_happy_path(\n",
    "        pipeline,\n",
    "        happy_path,\n",
    "        printout=True,\n",
    "    )  # This is a function for automatic tutorial\n",
    "    # running (testing tutorial) with `happy_path`.\n",
    "\n",
    "    if is_interactive_mode():\n",
    "        pipeline.run()\n",
    "        # this method runs the pipeline with the preconfigured interface\n",
    "        # which is CLI by default: it allows chatting with the bot\n",
    "        # via command line"
   ]
  }
 ],
 "metadata": {
  "jupytext": {
   "cell_metadata_filter": "-all",
   "main_language": "python",
   "notebook_metadata_filter": "-all",
   "text_representation": {
    "extension": ".py",
    "format_name": "percent"
   }
  },
  "language_info": {
   "codemirror_mode": {
    "name": "ipython",
    "version": 3
   },
   "file_extension": ".py",
   "mimetype": "text/x-python",
   "name": "python",
   "nbconvert_exporter": "python",
   "pygments_lexer": "ipython3",
   "version": "3.9.21"
  }
 },
 "nbformat": 4,
 "nbformat_minor": 5
}
