{
 "cells": [
  {
   "cell_type": "markdown",
   "id": "515fdd9e",
   "metadata": {
    "cell_marker": "\"\"\""
   },
   "source": [
    "# 4. Conditions and paths\n",
    "\n",
    "This tutorial explains how a unique path is generated for each component\n",
    "and how to add a condition for component execution.\n",
    "\n",
    "[API ref for service conditions](../apiref/chatsky.conditions.service.rst)"
   ]
  },
  {
   "cell_type": "code",
   "execution_count": 1,
   "id": "ba5f15fa",
   "metadata": {
    "execution": {
     "iopub.execute_input": "2025-02-18T09:58:52.431362Z",
     "iopub.status.busy": "2025-02-18T09:58:52.431099Z",
     "iopub.status.idle": "2025-02-18T09:58:53.746540Z",
     "shell.execute_reply": "2025-02-18T09:58:53.745788Z"
    }
   },
   "outputs": [
    {
     "name": "stdout",
     "output_type": "stream",
     "text": [
      "Note: you may need to restart the kernel to use updated packages.\n"
     ]
    }
   ],
   "source": [
    "# installing dependencies\n",
    "%pip install -q chatsky==0.10.0"
   ]
  },
  {
   "cell_type": "code",
   "execution_count": 2,
   "id": "16672b15",
   "metadata": {
    "execution": {
     "iopub.execute_input": "2025-02-18T09:58:53.749350Z",
     "iopub.status.busy": "2025-02-18T09:58:53.748794Z",
     "iopub.status.idle": "2025-02-18T09:58:55.469908Z",
     "shell.execute_reply": "2025-02-18T09:58:55.469138Z"
    }
   },
   "outputs": [],
   "source": [
    "import logging\n",
    "import sys\n",
    "from importlib import reload\n",
    "\n",
    "from chatsky.conditions import Not, All, ServiceFinished\n",
    "from chatsky.core.service import Service, ServiceGroup\n",
    "from chatsky import Pipeline, Context, AnyCondition\n",
    "\n",
    "from chatsky.utils.testing.common import (\n",
    "    check_happy_path,\n",
    "    is_interactive_mode,\n",
    ")\n",
    "from chatsky.utils.testing.toy_script import HAPPY_PATH, TOY_SCRIPT_KWARGS\n",
    "\n",
    "reload(logging)\n",
    "logging.basicConfig(stream=sys.stdout, level=logging.INFO, format=\"\")\n",
    "logger = logging.getLogger(__name__)"
   ]
  },
  {
   "cell_type": "markdown",
   "id": "43f8a0b9",
   "metadata": {
    "cell_marker": "\"\"\""
   },
   "source": [
    "## Component paths\n",
    "\n",
    "Each component has a unique path that can be used as an ID for that component.\n",
    "\n",
    "A path of a component is a \".\" concatenation of names of service groups this\n",
    "component is in and the name of this component.\n",
    "\n",
    "For example, if component \"c\" is in group \"b\" which itself is in group \"a\"\n",
    "then path of \"c\" is \"a.b.c\".\n",
    "\n",
    "<div class=\"alert alert-warning\">\n",
    "\n",
    "Naming services\n",
    "\n",
    "When choosing a name for a component, keep in mind that\n",
    "it should be unique among other components in the same service group.\n",
    "\n",
    "</div>\n",
    "\n",
    "### Computed names\n",
    "\n",
    "If a component does not have a name, one is provided to it:\n",
    "\n",
    "1. Each component has `computed_name` property which returns a default name.\n",
    "    All service groups have \"service_group\" as their computed name.\n",
    "    For services the computed name is the name of the handler **or** of the\n",
    "    service class if handler is not present.\n",
    "\n",
    "    E.g. A service with handler `my_func` has computed name \"my_func\";\n",
    "    and if service `MyService` is a subclass of `Service` and does not\n",
    "    define `handler` its computed name is \"MyService\".\n",
    "2. If there are two or more components in a service group with the same\n",
    "    computed name, they are assigned names with an incrementing postfix.\n",
    "    For example, if there are two service groups with no name in pre-services\n",
    "    they will be named \"service_group#0\" and \"service_group#1\".\n",
    "\n",
    "### Names of basic components\n",
    "\n",
    "* Main component (pipeline) has an empty name;\n",
    "* Name of the pre services group is \"pre\";\n",
    "* Name of the post services group is \"post\";\n",
    "* Name of the actor service is \"actor\".\n",
    "\n",
    "For example, if you have `pre_services=[my_func]`, the full path of the\n",
    "`my_func` component is \".pre.my_func\".\n",
    "\n",
    "## Component start condition\n",
    "\n",
    "Any component (service or service group) can have a `start_condition`.\n",
    "\n",
    "Start condition is a `BaseCondition` that determines whether the component\n",
    "should be executed.\n",
    "\n",
    "For more information about conditions, see the [condition tutorial](\n",
    "../tutorials/tutorials.script.core.2_conditions.py).\n",
    "\n",
    "### Component status\n",
    "\n",
    "At any time each component has a certain status:\n",
    "\n",
    "* `NOT_RUN` - Component hasn't bee executed yet or\n",
    "    start condition returned False.\n",
    "* `RUNNING` - Component is currently being executed.\n",
    "* `FINISHED` - Component finished successfully.\n",
    "* `FAILED` - Component execution failed.\n",
    "\n",
    "For more information, see\n",
    "[service_states](../apiref/chatsky.core.ctx_utils.rst#chatsky.core.ctx_utils.FrameworkData.service_states).\n",
    "\n",
    "### ServiceFinished condition\n",
    "\n",
    "`ServiceFinished` is a condition that returns `True` if another service\n",
    "has the `FINISHED` status.\n",
    "\n",
    "`ServiceFinished` accepts the following constructor parameters:\n",
    "\n",
    "* `path` (required) - a path of another component.\n",
    "* `wait` - whether it should wait for the component to complete.\n",
    "    This means that the component status cannot be\n",
    "    `NOT_RUN` or `RUNNING` at the time of the check.\n",
    "    Defaults to `False`.\n",
    "\n",
    "<div class=\"alert alert-warning\">\n",
    "\n",
    "Warning!\n",
    "\n",
    "It is possible for the pipeline to get stuck in infinite waiting\n",
    "with the `ServiceFinished` condition.\n",
    "\n",
    "Either disable `wait` or set a timeout for the service.\n",
    "\n",
    "</div>\n",
    "\n",
    "For more information about `ServiceFinished`, see [API ref](\n",
    "../apiref/chatsky.conditions.service.rst#chatsky.conditions.service.ServiceFinished).\n",
    "\n",
    "## Code explanation\n",
    "\n",
    "In this example, two conditionally executed services are illustrated.\n",
    "\n",
    "The service named `running_service` is executed\n",
    "only if both `SimpleServices` in pre service group\n",
    "have finished successfully.\n",
    "\n",
    "`never_running_service` is executed only if `running_service` is not finished,\n",
    "which should never happen.\n",
    "\n",
    "Lastly, `context_printing_service` prints pipeline runtime information,\n",
    "that contains execution state of all previously run services."
   ]
  },
  {
   "cell_type": "code",
   "execution_count": 3,
   "id": "6b8a222a",
   "metadata": {
    "execution": {
     "iopub.execute_input": "2025-02-18T09:58:55.472702Z",
     "iopub.status.busy": "2025-02-18T09:58:55.472354Z",
     "iopub.status.idle": "2025-02-18T09:58:55.486183Z",
     "shell.execute_reply": "2025-02-18T09:58:55.485587Z"
    }
   },
   "outputs": [],
   "source": [
    "class SimpleService(Service):\n",
    "    async def call(self, _: Context):\n",
    "        logger.info(f\"Service '{self.name}' is running...\")\n",
    "\n",
    "\n",
    "class NeverRunningService(Service):\n",
    "    async def call(self, _: Context):\n",
    "        raise Exception(f\"Oh no! The '{self.name}' service is running!\")\n",
    "\n",
    "    start_condition: AnyCondition = Not(\n",
    "        ServiceFinished(\".post.named_group.running_service\", wait=True)\n",
    "    )\n",
    "\n",
    "\n",
    "class RuntimeInfoPrintingService(Service):\n",
    "    async def call(self, _: Context):\n",
    "        logger.info(\n",
    "            f\"Service '{self.name}' runtime execution info:\"\n",
    "            f\"{self.model_dump_json(indent=4)}\"\n",
    "        )"
   ]
  },
  {
   "cell_type": "code",
   "execution_count": 4,
   "id": "55238e91",
   "metadata": {
    "execution": {
     "iopub.execute_input": "2025-02-18T09:58:55.488464Z",
     "iopub.status.busy": "2025-02-18T09:58:55.487926Z",
     "iopub.status.idle": "2025-02-18T09:58:55.493709Z",
     "shell.execute_reply": "2025-02-18T09:58:55.492959Z"
    }
   },
   "outputs": [],
   "source": [
    "pipeline = Pipeline(\n",
    "    **TOY_SCRIPT_KWARGS,\n",
    "    pre_services=[\n",
    "        SimpleService(),\n",
    "        # This service will be named \"SimpleService#0\"\n",
    "        SimpleService(),\n",
    "        # This service will be named \"SimpleService#1\"\n",
    "    ],\n",
    "    # this group is named \"pre\"\n",
    "    post_services=[\n",
    "        ServiceGroup(\n",
    "            name=\"named_group\",\n",
    "            components=[\n",
    "                SimpleService(\n",
    "                    start_condition=All(\n",
    "                        ServiceFinished(\".pre.SimpleService#0\"),\n",
    "                        ServiceFinished(\".pre.SimpleService#1\"),\n",
    "                    ),\n",
    "                    # Alternative:\n",
    "                    # ServiceFinished(\".pre\")\n",
    "                    name=\"running_service\",\n",
    "                ),\n",
    "                # This simple service is named \"running_service\"\n",
    "                NeverRunningService(),\n",
    "                # this service will be named \"NeverRunningService\"\n",
    "            ],\n",
    "            fully_concurrent=True,\n",
    "            # Makes components in the group run asynchronously,\n",
    "            # unless one is waiting for another to complete,\n",
    "            # which is what happens with NeverRunningService.\n",
    "        ),\n",
    "        RuntimeInfoPrintingService(),\n",
    "    ],\n",
    ")"
   ]
  },
  {
   "cell_type": "code",
   "execution_count": 5,
   "id": "16e56dc9",
   "metadata": {
    "execution": {
     "iopub.execute_input": "2025-02-18T09:58:55.496051Z",
     "iopub.status.busy": "2025-02-18T09:58:55.495546Z",
     "iopub.status.idle": "2025-02-18T09:58:55.508242Z",
     "shell.execute_reply": "2025-02-18T09:58:55.507580Z"
    }
   },
   "outputs": [
    {
     "name": "stdout",
     "output_type": "stream",
     "text": [
      "USER: text='Hi'\n",
      "Service 'SimpleService#0' is running...\n"
     ]
    },
    {
     "name": "stdout",
     "output_type": "stream",
     "text": [
      "Service 'SimpleService#1' is running...\n"
     ]
    },
    {
     "name": "stdout",
     "output_type": "stream",
     "text": [
      "Service 'running_service' is running...\n"
     ]
    },
    {
     "name": "stdout",
     "output_type": "stream",
     "text": [
      "Service 'RuntimeInfoPrintingService' runtime execution info:{\n",
      "    \"before_handler\": {\n",
      "        \"functions\": [],\n",
      "        \"timeout\": null,\n",
      "        \"concurrent\": false\n",
      "    },\n",
      "    \"after_handler\": {\n",
      "        \"functions\": [],\n",
      "        \"timeout\": null,\n",
      "        \"concurrent\": false\n",
      "    },\n",
      "    \"timeout\": null,\n",
      "    \"concurrent\": false,\n",
      "    \"start_condition\": {\n",
      "        \"root\": true\n",
      "    },\n",
      "    \"name\": \"RuntimeInfoPrintingService\",\n",
      "    \"path\": \".post.RuntimeInfoPrintingService\",\n",
      "    \"handler\": null\n",
      "}\n"
     ]
    },
    {
     "name": "stdout",
     "output_type": "stream",
     "text": [
      "BOT : text='Hi, how are you?'\n"
     ]
    }
   ],
   "source": [
    "if __name__ == \"__main__\":\n",
    "    check_happy_path(pipeline, HAPPY_PATH[:1], printout=True)\n",
    "    if is_interactive_mode():\n",
    "        pipeline.run()"
   ]
  }
 ],
 "metadata": {
  "jupytext": {
   "cell_metadata_filter": "-all",
   "main_language": "python",
   "notebook_metadata_filter": "-all",
   "text_representation": {
    "extension": ".py",
    "format_name": "percent"
   }
  },
  "language_info": {
   "codemirror_mode": {
    "name": "ipython",
    "version": 3
   },
   "file_extension": ".py",
   "mimetype": "text/x-python",
   "name": "python",
   "nbconvert_exporter": "python",
   "pygments_lexer": "ipython3",
   "version": "3.9.21"
  }
 },
 "nbformat": 4,
 "nbformat_minor": 5
}
