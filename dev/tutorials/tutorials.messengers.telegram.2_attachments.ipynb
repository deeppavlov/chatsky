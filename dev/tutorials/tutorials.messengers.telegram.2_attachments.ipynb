{
 "cells": [
  {
   "cell_type": "markdown",
   "id": "41096b25",
   "metadata": {
    "cell_marker": "\"\"\""
   },
   "source": [
    "# Telegram: 2. Attachments\n",
    "\n",
    "The following tutorial shows how to send different attachments using\n",
    "telegram interfaces.\n",
    "\n",
    "Here, [LongpollingInterface](../apiref/chatsky.messengers.telegram.interface.rst#chatsky.messengers.telegram.interface.LongpollingInterface)\n",
    "class and [python-telegram-bot](https://docs.python-telegram-bot.org/)\n",
    "library are used for accessing telegram API in polling mode.\n",
    "\n",
    "Telegram API token is required to access telegram API."
   ]
  },
  {
   "cell_type": "code",
   "execution_count": 1,
   "id": "2227bf74",
   "metadata": {
    "execution": {
     "iopub.execute_input": "2025-02-18T09:48:37.483654Z",
     "iopub.status.busy": "2025-02-18T09:48:37.482906Z",
     "iopub.status.idle": "2025-02-18T09:48:38.864827Z",
     "shell.execute_reply": "2025-02-18T09:48:38.863971Z"
    }
   },
   "outputs": [
    {
     "name": "stdout",
     "output_type": "stream",
     "text": [
      "Note: you may need to restart the kernel to use updated packages.\n"
     ]
    }
   ],
   "source": [
    "# installing dependencies\n",
    "%pip install -q chatsky[telegram]==0.10.0"
   ]
  },
  {
   "cell_type": "code",
   "execution_count": 2,
   "id": "71db8a8f",
   "metadata": {
    "execution": {
     "iopub.execute_input": "2025-02-18T09:48:38.867354Z",
     "iopub.status.busy": "2025-02-18T09:48:38.867122Z",
     "iopub.status.idle": "2025-02-18T09:48:40.659626Z",
     "shell.execute_reply": "2025-02-18T09:48:40.658881Z"
    },
    "lines_to_next_cell": 2
   },
   "outputs": [],
   "source": [
    "import os\n",
    "\n",
    "from pydantic import HttpUrl\n",
    "\n",
    "from chatsky import (\n",
    "    GLOBAL,\n",
    "    RESPONSE,\n",
    "    TRANSITIONS,\n",
    "    Message,\n",
    "    Pipeline,\n",
    "    Transition as Tr,\n",
    "    conditions as cnd,\n",
    ")\n",
    "from chatsky.messengers.telegram import LongpollingInterface\n",
    "from chatsky.core.message import (\n",
    "    Animation,\n",
    "    Audio,\n",
    "    Contact,\n",
    "    Document,\n",
    "    Location,\n",
    "    Image,\n",
    "    MediaGroup,\n",
    "    Poll,\n",
    "    PollOption,\n",
    "    Sticker,\n",
    "    Video,\n",
    "    VideoMessage,\n",
    "    VoiceMessage,\n",
    ")\n",
    "from chatsky.utils.testing.common import is_interactive_mode"
   ]
  },
  {
   "cell_type": "markdown",
   "id": "3d874335",
   "metadata": {
    "cell_marker": "\"\"\""
   },
   "source": [
    "Example attachment data is specified below in form of dictionaries.\n",
    "List of attachments that telegram messenger interface can send can\n",
    "be found here:\n",
    "[supported_request_attachment_types](../apiref/chatsky.messengers.telegram.abstract.rst#chatsky.messengers.telegram.abstract._AbstractTelegramInterface.supported_request_attachment_types)."
   ]
  },
  {
   "cell_type": "code",
   "execution_count": 3,
   "id": "eca4e7dd",
   "metadata": {
    "execution": {
     "iopub.execute_input": "2025-02-18T09:48:40.663050Z",
     "iopub.status.busy": "2025-02-18T09:48:40.662344Z",
     "iopub.status.idle": "2025-02-18T09:48:40.670416Z",
     "shell.execute_reply": "2025-02-18T09:48:40.669682Z"
    },
    "lines_to_next_cell": 2
   },
   "outputs": [],
   "source": [
    "\n",
    "EXAMPLE_ATTACHMENT_SOURCE = (\n",
    "    \"https://github.com/deeppavlov/chatsky/wiki/example_attachments\"\n",
    ")\n",
    "\n",
    "location_data = {\"latitude\": 50.65, \"longitude\": 3.916667}\n",
    "\n",
    "contact_data = {\n",
    "    \"phone_number\": \"8-900-555-35-35\",\n",
    "    \"first_name\": \"Hope\",\n",
    "    \"last_name\": \"Credit\",\n",
    "}\n",
    "\n",
    "sticker_data = {\n",
    "    \"id\": (\n",
    "        \"CAACAgIAAxkBAAErAAFXZibO5ksphCKS\"\n",
    "        + \"XSe1CYiw5588yqsAAkEAAzyKVxogmx2BPCogYDQE\"\n",
    "    ),\n",
    "    \"caption\": \"A sticker I've just found\",\n",
    "}\n",
    "\n",
    "audio_data = {\n",
    "    \"source\": HttpUrl(\n",
    "        f\"{EXAMPLE_ATTACHMENT_SOURCE}/separation-william-king.mp3\"\n",
    "    ),\n",
    "    \"caption\": \"Separation melody by William King\",\n",
    "    \"filename\": \"separation-william-king.mp3\",\n",
    "}\n",
    "\n",
    "video_data = {\n",
    "    \"source\": HttpUrl(\n",
    "        f\"{EXAMPLE_ATTACHMENT_SOURCE}/crownfall-lags-nkognit0.mp4\"\n",
    "    ),\n",
    "    \"caption\": \"Epic Dota2 gameplay by Nkognit0\",\n",
    "    \"filename\": \"crownfall-lags-nkognit0.mp4\",\n",
    "}\n",
    "\n",
    "animation_data = {\n",
    "    # For some reason, if we don't define filename explicitly,\n",
    "    # animation is sent as file.\n",
    "    \"source\": HttpUrl(\n",
    "        f\"{EXAMPLE_ATTACHMENT_SOURCE}/hong-kong-simplyart4794.gif\"\n",
    "    ),\n",
    "    \"caption\": \"Hong Kong skyscraper views by Simplyart4794\",\n",
    "    \"filename\": \"hong-kong-simplyart4794.gif\",\n",
    "}\n",
    "\n",
    "image_data = {\n",
    "    \"source\": HttpUrl(f\"{EXAMPLE_ATTACHMENT_SOURCE}/deeppavlov.png\"),\n",
    "    \"caption\": \"DeepPavlov logo\",\n",
    "    \"filename\": \"deeppavlov.png\",\n",
    "}\n",
    "\n",
    "document_data = {\n",
    "    \"source\": HttpUrl(f\"{EXAMPLE_ATTACHMENT_SOURCE}/deeppavlov-article.pdf\"),\n",
    "    \"caption\": \"DeepPavlov article\",\n",
    "    \"filename\": \"deeppavlov-article.pdf\",\n",
    "}\n",
    "\n",
    "ATTACHMENTS = [\n",
    "    \"location\",\n",
    "    \"contact\",\n",
    "    \"poll\",\n",
    "    \"sticker\",\n",
    "    \"audio\",\n",
    "    \"video\",\n",
    "    \"animation\",\n",
    "    \"image\",\n",
    "    \"document\",\n",
    "    \"voice_message\",\n",
    "    \"video_message\",\n",
    "    \"media_group\",\n",
    "]\n",
    "\n",
    "QUOTED_ATTACHMENTS = [f'\"{attachment}\"' for attachment in ATTACHMENTS]"
   ]
  },
  {
   "cell_type": "markdown",
   "id": "5b6f1649",
   "metadata": {
    "cell_marker": "\"\"\""
   },
   "source": [
    "The bot below sends different attachments on request.\n",
    "\n",
    "[Here](../apiref/chatsky.core.message.rst) you can find\n",
    "all the attachment options available."
   ]
  },
  {
   "cell_type": "code",
   "execution_count": 4,
   "id": "e3a00b78",
   "metadata": {
    "execution": {
     "iopub.execute_input": "2025-02-18T09:48:40.673333Z",
     "iopub.status.busy": "2025-02-18T09:48:40.672779Z",
     "iopub.status.idle": "2025-02-18T09:48:40.687037Z",
     "shell.execute_reply": "2025-02-18T09:48:40.686336Z"
    },
    "lines_to_next_cell": 2
   },
   "outputs": [],
   "source": [
    "script = {\n",
    "    GLOBAL: {\n",
    "        TRANSITIONS: [\n",
    "            Tr(\n",
    "                dst=(\"main_flow\", f\"{attachment}_node\"),\n",
    "                cnd=cnd.ExactMatch(attachment),\n",
    "            )\n",
    "            for attachment in ATTACHMENTS\n",
    "        ]\n",
    "    },\n",
    "    \"main_flow\": {\n",
    "        \"start_node\": {\n",
    "            TRANSITIONS: [Tr(dst=\"intro_node\", cnd=cnd.ExactMatch(\"/start\"))],\n",
    "        },\n",
    "        \"intro_node\": {\n",
    "            RESPONSE: f'Type {\", \".join(QUOTED_ATTACHMENTS[:-1])}'\n",
    "            f\" or {QUOTED_ATTACHMENTS[-1]}\"\n",
    "            f\" to receive a corresponding attachment!\",\n",
    "        },\n",
    "        \"location_node\": {\n",
    "            RESPONSE: Message(\n",
    "                text=\"Here's your location!\",\n",
    "                attachments=[Location(**location_data)],\n",
    "            ),\n",
    "        },\n",
    "        \"contact_node\": {\n",
    "            RESPONSE: Message(\n",
    "                text=\"Here's your contact!\",\n",
    "                attachments=[Contact(**contact_data)],\n",
    "            ),\n",
    "        },\n",
    "        \"poll_node\": {\n",
    "            RESPONSE: Message(\n",
    "                text=\"Here's your poll!\",\n",
    "                attachments=[\n",
    "                    Poll(\n",
    "                        question=\"What is the poll question?\",\n",
    "                        options=[\n",
    "                            PollOption(text=\"This one!\"),\n",
    "                            PollOption(text=\"Not this one :(\"),\n",
    "                        ],\n",
    "                    ),\n",
    "                ],\n",
    "            ),\n",
    "        },\n",
    "        \"sticker_node\": {\n",
    "            RESPONSE: Message(\n",
    "                text=\"Here's your sticker!\",\n",
    "                attachments=[Sticker(**sticker_data)],\n",
    "            ),\n",
    "        },\n",
    "        \"audio_node\": {\n",
    "            RESPONSE: Message(\n",
    "                text=\"Here's your audio!\",\n",
    "                attachments=[Audio(**audio_data)],\n",
    "            ),\n",
    "        },\n",
    "        \"video_node\": {\n",
    "            RESPONSE: Message(\n",
    "                text=\"Here's your video!\",\n",
    "                attachments=[Video(**video_data)],\n",
    "            ),\n",
    "        },\n",
    "        \"animation_node\": {\n",
    "            RESPONSE: Message(\n",
    "                text=\"Here's your animation!\",\n",
    "                attachments=[Animation(**animation_data)],\n",
    "            ),\n",
    "        },\n",
    "        \"image_node\": {\n",
    "            RESPONSE: Message(\n",
    "                text=\"Here's your image!\",\n",
    "                attachments=[Image(**image_data)],\n",
    "            ),\n",
    "        },\n",
    "        \"document_node\": {\n",
    "            RESPONSE: Message(\n",
    "                text=\"Here's your document!\",\n",
    "                attachments=[Document(**document_data)],\n",
    "            ),\n",
    "        },\n",
    "        \"voice_message_node\": {\n",
    "            RESPONSE: Message(\n",
    "                text=\"Here's your voice message!\",\n",
    "                attachments=[VoiceMessage(source=audio_data[\"source\"])],\n",
    "            ),\n",
    "        },\n",
    "        \"video_message_node\": {\n",
    "            RESPONSE: Message(\n",
    "                text=\"Here's your video message!\",\n",
    "                attachments=[VideoMessage(source=video_data[\"source\"])],\n",
    "            ),\n",
    "        },\n",
    "        \"media_group_node\": {\n",
    "            RESPONSE: Message(\n",
    "                text=\"Here's your media group!\",\n",
    "                attachments=[\n",
    "                    MediaGroup(\n",
    "                        group=[\n",
    "                            Image(**image_data),\n",
    "                            Video(**video_data),\n",
    "                        ],\n",
    "                    )\n",
    "                ],\n",
    "            ),\n",
    "        },\n",
    "        \"fallback_node\": {\n",
    "            RESPONSE: f\"Unknown attachment type, try again! \"\n",
    "            f\"Supported attachments are: \"\n",
    "            f'{\", \".join(QUOTED_ATTACHMENTS[:-1])} '\n",
    "            f\"and {QUOTED_ATTACHMENTS[-1]}.\",\n",
    "        },\n",
    "    },\n",
    "}"
   ]
  },
  {
   "cell_type": "code",
   "execution_count": 5,
   "id": "23129e2e",
   "metadata": {
    "execution": {
     "iopub.execute_input": "2025-02-18T09:48:40.689668Z",
     "iopub.status.busy": "2025-02-18T09:48:40.689242Z",
     "iopub.status.idle": "2025-02-18T09:48:40.744117Z",
     "shell.execute_reply": "2025-02-18T09:48:40.743420Z"
    },
    "lines_to_next_cell": 2
   },
   "outputs": [],
   "source": [
    "interface = LongpollingInterface(token=os.environ[\"TG_BOT_TOKEN\"])"
   ]
  },
  {
   "cell_type": "code",
   "execution_count": 6,
   "id": "e47a6932",
   "metadata": {
    "execution": {
     "iopub.execute_input": "2025-02-18T09:48:40.746981Z",
     "iopub.status.busy": "2025-02-18T09:48:40.746392Z",
     "iopub.status.idle": "2025-02-18T09:48:40.751488Z",
     "shell.execute_reply": "2025-02-18T09:48:40.750873Z"
    }
   },
   "outputs": [],
   "source": [
    "pipeline = Pipeline(\n",
    "    script=script,\n",
    "    start_label=(\"main_flow\", \"start_node\"),\n",
    "    fallback_label=(\"main_flow\", \"fallback_node\"),\n",
    "    messenger_interface=interface,\n",
    "    # The interface can be passed as a pipeline argument.\n",
    ")\n",
    "\n",
    "\n",
    "if __name__ == \"__main__\":\n",
    "    if is_interactive_mode():\n",
    "        # prevent run during doc building\n",
    "        pipeline.run()"
   ]
  }
 ],
 "metadata": {
  "jupytext": {
   "cell_metadata_filter": "-all",
   "main_language": "python",
   "notebook_metadata_filter": "-all",
   "text_representation": {
    "extension": ".py",
    "format_name": "percent"
   }
  },
  "language_info": {
   "codemirror_mode": {
    "name": "ipython",
    "version": 3
   },
   "file_extension": ".py",
   "mimetype": "text/x-python",
   "name": "python",
   "nbconvert_exporter": "python",
   "pygments_lexer": "ipython3",
   "version": "3.9.21"
  }
 },
 "nbformat": 4,
 "nbformat_minor": 5
}
