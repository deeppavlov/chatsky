{
 "cells": [
  {
   "cell_type": "markdown",
   "id": "d49df1b8",
   "metadata": {
    "cell_marker": "\"\"\""
   },
   "source": [
    "# 2. Advanced services\n",
    "\n",
    "This tutorial demonstrates various configuration options for services.\n",
    "\n",
    "For more information, see\n",
    "[API ref](../apiref/chatsky.core.service.service.rst#chatsky.core.service.service.Service)."
   ]
  },
  {
   "cell_type": "code",
   "execution_count": 1,
   "id": "ff1d86c1",
   "metadata": {
    "execution": {
     "iopub.execute_input": "2025-02-18T09:58:42.444644Z",
     "iopub.status.busy": "2025-02-18T09:58:42.444045Z",
     "iopub.status.idle": "2025-02-18T09:58:43.668829Z",
     "shell.execute_reply": "2025-02-18T09:58:43.667971Z"
    }
   },
   "outputs": [
    {
     "name": "stdout",
     "output_type": "stream",
     "text": [
      "Note: you may need to restart the kernel to use updated packages.\n"
     ]
    }
   ],
   "source": [
    "# installing dependencies\n",
    "%pip install -q chatsky==0.10.0"
   ]
  },
  {
   "cell_type": "code",
   "execution_count": 2,
   "id": "76a53771",
   "metadata": {
    "execution": {
     "iopub.execute_input": "2025-02-18T09:58:43.671373Z",
     "iopub.status.busy": "2025-02-18T09:58:43.671132Z",
     "iopub.status.idle": "2025-02-18T09:58:45.354243Z",
     "shell.execute_reply": "2025-02-18T09:58:45.353495Z"
    }
   },
   "outputs": [],
   "source": [
    "import logging\n",
    "import sys\n",
    "from importlib import reload\n",
    "\n",
    "from chatsky import Context, Pipeline, BaseProcessing\n",
    "from chatsky.core.service import Service\n",
    "from chatsky.utils.testing.common import (\n",
    "    check_happy_path,\n",
    "    is_interactive_mode,\n",
    ")\n",
    "\n",
    "from chatsky.utils.testing.toy_script import TOY_SCRIPT_KWARGS, HAPPY_PATH\n",
    "\n",
    "reload(logging)\n",
    "logging.basicConfig(stream=sys.stdout, level=logging.INFO, format=\"\")\n",
    "logger = logging.getLogger(__name__)"
   ]
  },
  {
   "cell_type": "markdown",
   "id": "50f2bd0b",
   "metadata": {
    "cell_marker": "\"\"\"",
    "lines_to_next_cell": 2
   },
   "source": [
    "## Intro\n",
    "\n",
    "In the previous tutorial we used a function as a Service.\n",
    "Under the hood a function is converted to a `Service` object\n",
    "with the function as its `handler` argument.\n",
    "\n",
    "The `Service` model has other arguments that modify its execution.\n",
    "\n",
    "## Service Arguments\n",
    "\n",
    "* `handler` - Function or `BaseProcessing`.\n",
    "* `before_handler` - a list of functions that run before the service.\n",
    "        You can read more about the handlers in this [tutorial](\n",
    "        ../tutorials/tutorials.service.5_extra_handlers.py\n",
    "        ).\n",
    "* `after_handler` - a list of functions that run after the service.\n",
    "        You can read more about the handlers in this [tutorial](\n",
    "        ../tutorials/tutorials.service.5_extra_handlers.py\n",
    "        ).\n",
    "* `timeout` - service timeout.\n",
    "* `concurrent` - whether this service can run concurrently,\n",
    "        see [tutorial 3](\n",
    "        ../tutorials/tutorials.service.3_groups.py).\n",
    "* `start_condition` - service start condition, see [tutorial 4](\n",
    "        ../tutorials/tutorials.service.4_conditions_and_paths.py).\n",
    "* `name` - name of the service,\n",
    "        see [tutorial 4](\n",
    "        ../tutorials/tutorials.service.4_conditions_and_paths.py).\n",
    "\n",
    "## Service subclassing\n",
    "\n",
    "Services can also be defined as subclasses of `Service`,\n",
    "allowing access to all the fields described above via `self`.\n",
    "\n",
    "To do this, derive your class from `Service`,\n",
    "then implement an async `call` method which will\n",
    "now replace the `handler` (see the `PreProcess` example below).\n",
    "\n",
    "<div class=\"alert alert-info\">\n",
    "\n",
    "Tip\n",
    "\n",
    "When defining a service as a subclass of `Service`, you can also change\n",
    "default parameters such as `timeout` or `start_condition`.\n",
    "\n",
    "</div>\n",
    "\n",
    "## Code explanation\n",
    "\n",
    "In this example, pipeline contains three services,\n",
    "defined in three different ways.\n",
    "\n",
    "The first is defined as a Service with a function handler.\n",
    "\n",
    "The second derives from the `Service` class.\n",
    "\n",
    "The third is defined as a Service with a processing handler."
   ]
  },
  {
   "cell_type": "code",
   "execution_count": 3,
   "id": "4bd4c949",
   "metadata": {
    "execution": {
     "iopub.execute_input": "2025-02-18T09:58:45.357209Z",
     "iopub.status.busy": "2025-02-18T09:58:45.356765Z",
     "iopub.status.idle": "2025-02-18T09:58:45.367179Z",
     "shell.execute_reply": "2025-02-18T09:58:45.366547Z"
    },
    "lines_to_next_cell": 2
   },
   "outputs": [],
   "source": [
    "async def function_handler(ctx: Context):\n",
    "    logger.info(\n",
    "        \"function_handler running:\\n\"\n",
    "        \"timeout of this service cannot be determined\"\n",
    "    )\n",
    "\n",
    "\n",
    "class ServiceSubclass(Service):\n",
    "    async def call(self, ctx: Context):\n",
    "        logger.info(\n",
    "            f\"{self.name or self.computed_name} running:\\n\"\n",
    "            f\"timeout: {self.timeout}\"\n",
    "        )\n",
    "\n",
    "    timeout: float = 1.0\n",
    "    # this overrides the default `None` timeout,\n",
    "    # but can still be overridden in class instances\n",
    "\n",
    "\n",
    "class ProcessingService(BaseProcessing):\n",
    "    async def call(self, ctx: Context) -> None:\n",
    "        try:\n",
    "            logger.info(self.timeout)\n",
    "        except AttributeError:\n",
    "            # this is BaseProcessing not Service so there's no `timeout` field\n",
    "            logger.info(\n",
    "                \"ProcessingService running:\\n\"\n",
    "                \"timeout of this service cannot be determined\"\n",
    "            )\n",
    "\n",
    "\n",
    "pipeline = Pipeline(\n",
    "    **TOY_SCRIPT_KWARGS,\n",
    "    pre_services=[\n",
    "        Service(\n",
    "            handler=function_handler,\n",
    "            timeout=0.5,\n",
    "        ),\n",
    "        ServiceSubclass(name=\"ServiceSubclassWithCustomName\", timeout=100),\n",
    "        ServiceSubclass(),\n",
    "        Service(handler=ProcessingService(), timeout=4),\n",
    "    ],\n",
    ")"
   ]
  },
  {
   "cell_type": "code",
   "execution_count": 4,
   "id": "ab0089b7",
   "metadata": {
    "execution": {
     "iopub.execute_input": "2025-02-18T09:58:45.369263Z",
     "iopub.status.busy": "2025-02-18T09:58:45.369066Z",
     "iopub.status.idle": "2025-02-18T09:58:45.380666Z",
     "shell.execute_reply": "2025-02-18T09:58:45.380060Z"
    }
   },
   "outputs": [
    {
     "name": "stdout",
     "output_type": "stream",
     "text": [
      "USER: text='Hi'\n",
      "function_handler running:\n",
      "timeout of this service cannot be determined\n"
     ]
    },
    {
     "name": "stdout",
     "output_type": "stream",
     "text": [
      "ServiceSubclassWithCustomName running:\n",
      "timeout: 100.0\n"
     ]
    },
    {
     "name": "stdout",
     "output_type": "stream",
     "text": [
      "ServiceSubclass running:\n",
      "timeout: 1.0\n"
     ]
    },
    {
     "name": "stdout",
     "output_type": "stream",
     "text": [
      "ProcessingService running:\n",
      "timeout of this service cannot be determined\n"
     ]
    },
    {
     "name": "stdout",
     "output_type": "stream",
     "text": [
      "BOT : text='Hi, how are you?'\n"
     ]
    }
   ],
   "source": [
    "if __name__ == \"__main__\":\n",
    "    check_happy_path(pipeline, HAPPY_PATH[:1], printout=True)\n",
    "    if is_interactive_mode():\n",
    "        pipeline.run()"
   ]
  }
 ],
 "metadata": {
  "jupytext": {
   "cell_metadata_filter": "-all",
   "main_language": "python",
   "notebook_metadata_filter": "-all",
   "text_representation": {
    "extension": ".py",
    "format_name": "percent"
   }
  },
  "language_info": {
   "codemirror_mode": {
    "name": "ipython",
    "version": 3
   },
   "file_extension": ".py",
   "mimetype": "text/x-python",
   "name": "python",
   "nbconvert_exporter": "python",
   "pygments_lexer": "ipython3",
   "version": "3.9.21"
  }
 },
 "nbformat": 4,
 "nbformat_minor": 5
}
