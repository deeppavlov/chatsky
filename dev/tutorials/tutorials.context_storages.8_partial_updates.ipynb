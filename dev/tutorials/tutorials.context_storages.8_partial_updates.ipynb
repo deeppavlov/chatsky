{
 "cells": [
  {
   "cell_type": "markdown",
   "id": "402c7e3e",
   "metadata": {
    "cell_marker": "\"\"\""
   },
   "source": [
    "# 8. Partial context updates\n",
    "\n",
    "The following tutorial shows the advanced usage\n",
    "of context storage and context storage schema."
   ]
  },
  {
   "cell_type": "code",
   "execution_count": 1,
   "id": "01898dee",
   "metadata": {
    "execution": {
     "iopub.execute_input": "2025-02-18T09:47:16.901600Z",
     "iopub.status.busy": "2025-02-18T09:47:16.901256Z",
     "iopub.status.idle": "2025-02-18T09:47:18.191288Z",
     "shell.execute_reply": "2025-02-18T09:47:18.190296Z"
    }
   },
   "outputs": [
    {
     "name": "stdout",
     "output_type": "stream",
     "text": [
      "Note: you may need to restart the kernel to use updated packages.\n"
     ]
    }
   ],
   "source": [
    "# installing dependencies\n",
    "%pip install -q chatsky==0.10.0"
   ]
  },
  {
   "cell_type": "code",
   "execution_count": 2,
   "id": "53caaf4e",
   "metadata": {
    "execution": {
     "iopub.execute_input": "2025-02-18T09:47:18.194097Z",
     "iopub.status.busy": "2025-02-18T09:47:18.193546Z",
     "iopub.status.idle": "2025-02-18T09:47:19.914380Z",
     "shell.execute_reply": "2025-02-18T09:47:19.913708Z"
    }
   },
   "outputs": [],
   "source": [
    "from pathlib import Path\n",
    "\n",
    "from chatsky import Pipeline\n",
    "from chatsky.context_storages import context_storage_factory\n",
    "from chatsky.context_storages.database import NameConfig\n",
    "from chatsky.utils.testing.common import check_happy_path, is_interactive_mode\n",
    "from chatsky.utils.testing.toy_script import TOY_SCRIPT_KWARGS, HAPPY_PATH"
   ]
  },
  {
   "cell_type": "code",
   "execution_count": 3,
   "id": "b3d354e2",
   "metadata": {
    "execution": {
     "iopub.execute_input": "2025-02-18T09:47:19.917441Z",
     "iopub.status.busy": "2025-02-18T09:47:19.916792Z",
     "iopub.status.idle": "2025-02-18T09:47:19.921471Z",
     "shell.execute_reply": "2025-02-18T09:47:19.920803Z"
    }
   },
   "outputs": [],
   "source": [
    "Path(\"dbs\").mkdir(exist_ok=True)\n",
    "db = context_storage_factory(\"shelve://dbs/partly.shlv\")\n",
    "\n",
    "pipeline = Pipeline(**TOY_SCRIPT_KWARGS, context_storage=db)"
   ]
  },
  {
   "cell_type": "markdown",
   "id": "8576f124",
   "metadata": {
    "cell_marker": "\"\"\""
   },
   "source": [
    "Most of the `Context` fields, that might grow in size uncontrollably,\n",
    "are stored in a special structure, `ContextDict`.\n",
    "This structure can be used for fine-grained access to the underlying\n",
    "database, partial and asynchronous element loading.\n",
    "In particular, this is relevant for `labels`, `requests` and `responses`\n",
    "fields, while `misc` and `framework_data` are always loaded fully.\n",
    "\n",
    "How does that partial field writing work?\n",
    "\n",
    "In most cases, every context storage\n",
    "operates two \"tables\", \"dictionaries\", \"files\", etc.\n",
    "\n",
    "One of them is called `MAIN` and contains all the \"primitive\" `Context`\n",
    "data (and also the data that will be read and written completely every time) -\n",
    "that includes context `id`, `current_turn_id`, `_created_at`,\n",
    "`_updated_at`, `misc` and `framework_data` fields.\n",
    "\n",
    "The other one is called `TURNS` and contains triplets of the data generated on\n",
    "each conversation step: `label`, `request` and `response`.\n",
    "\n",
    "Whenever a context is loaded, all of its information from `MAIN` table\n",
    "and one to few items from `TURNS` table are loaded.\n",
    "More items from `TURNS` table can be loaded later on demand\n",
    "(via the `get` or `__getitem__` methods of corresponding fields)."
   ]
  },
  {
   "cell_type": "markdown",
   "id": "907893fe",
   "metadata": {
    "cell_marker": "\"\"\""
   },
   "source": [
    "Database table layout and default behavior are controlled by\n",
    "some special fields of the `DBContextStorage` class.\n",
    "\n",
    "All the table and field names are stored in a special `NameConfig`\n",
    "static class."
   ]
  },
  {
   "cell_type": "markdown",
   "id": "c3f86158",
   "metadata": {
    "cell_marker": "\"\"\""
   },
   "source": [
    "One of the important configuration options is `_subscripts`:\n",
    "this property controls the number of *last* dictionary items\n",
    "that will be read and written\n",
    "(the items are ordered by keys, ascending) - default value is 3.\n",
    "In order to read *all* items at once, the property\n",
    "can also be set to \"__all__\" literal.\n",
    "In order to read only a specific subset of keys, the property\n",
    "can be set to a set of desired integers."
   ]
  },
  {
   "cell_type": "code",
   "execution_count": 4,
   "id": "bb2c496a",
   "metadata": {
    "execution": {
     "iopub.execute_input": "2025-02-18T09:47:19.923737Z",
     "iopub.status.busy": "2025-02-18T09:47:19.923536Z",
     "iopub.status.idle": "2025-02-18T09:47:19.926751Z",
     "shell.execute_reply": "2025-02-18T09:47:19.926068Z"
    }
   },
   "outputs": [],
   "source": [
    "# All items will be loaded on every turn.\n",
    "db._subscripts[NameConfig._requests_field] = \"__all__\""
   ]
  },
  {
   "cell_type": "code",
   "execution_count": 5,
   "id": "1d4ce3b2",
   "metadata": {
    "execution": {
     "iopub.execute_input": "2025-02-18T09:47:19.929167Z",
     "iopub.status.busy": "2025-02-18T09:47:19.928603Z",
     "iopub.status.idle": "2025-02-18T09:47:19.931848Z",
     "shell.execute_reply": "2025-02-18T09:47:19.931161Z"
    }
   },
   "outputs": [],
   "source": [
    "# 5 last items will be loaded on every turn.\n",
    "db._subscripts[NameConfig._requests_field] = 5"
   ]
  },
  {
   "cell_type": "code",
   "execution_count": 6,
   "id": "92d11234",
   "metadata": {
    "execution": {
     "iopub.execute_input": "2025-02-18T09:47:19.934162Z",
     "iopub.status.busy": "2025-02-18T09:47:19.933725Z",
     "iopub.status.idle": "2025-02-18T09:47:19.937159Z",
     "shell.execute_reply": "2025-02-18T09:47:19.936419Z"
    }
   },
   "outputs": [],
   "source": [
    "# Items 1, 3, 5 and 7 will be loaded on every turn.\n",
    "db._subscripts[NameConfig._requests_field] = {1, 3, 5, 7}"
   ]
  },
  {
   "cell_type": "markdown",
   "id": "ce0aad26",
   "metadata": {
    "cell_marker": "\"\"\""
   },
   "source": [
    "Last but not least, comes `rewrite_existing` boolean flag.\n",
    "\n",
    "Without it any \"silent\" modifications to the values of `ContextDict` will be\n",
    "discarded at the end of each turn.\n",
    "\n",
    "I.e. explicit modification of values via methods such as `__setitem__`,\n",
    "`__delitem__` or `pop` will be kept track of and preserved, while\n",
    "implicit modification via object manipulation,\n",
    "e.g. ``ctx.last_request.text = \"new_text\"``, will be discarded.\n",
    "\n",
    "Turning the option on will enable calculating hashes for all items stored\n",
    "locally and comparing them at the end of every turn, updating any\n",
    "that were implicitly changed.\n",
    "\n",
    "NB! Keeping track of the modified elements comes with a price of calculating\n",
    "their hashes and comparing them, so in performance-critical environments\n",
    "this feature can be disabled by setting the flag to False."
   ]
  },
  {
   "cell_type": "code",
   "execution_count": 7,
   "id": "970f2002",
   "metadata": {
    "execution": {
     "iopub.execute_input": "2025-02-18T09:47:19.939638Z",
     "iopub.status.busy": "2025-02-18T09:47:19.939309Z",
     "iopub.status.idle": "2025-02-18T09:47:19.942529Z",
     "shell.execute_reply": "2025-02-18T09:47:19.941918Z"
    }
   },
   "outputs": [],
   "source": [
    "# Any modifications done to the elements already present in storage\n",
    "# will be preserved.\n",
    "db.rewrite_existing = True"
   ]
  },
  {
   "cell_type": "code",
   "execution_count": 8,
   "id": "637d4532",
   "metadata": {
    "execution": {
     "iopub.execute_input": "2025-02-18T09:47:19.944782Z",
     "iopub.status.busy": "2025-02-18T09:47:19.944361Z",
     "iopub.status.idle": "2025-02-18T09:47:20.055379Z",
     "shell.execute_reply": "2025-02-18T09:47:20.054517Z"
    }
   },
   "outputs": [],
   "source": [
    "if __name__ == \"__main__\":\n",
    "    check_happy_path(pipeline, HAPPY_PATH)\n",
    "    # This is a function for automatic\n",
    "    # tutorial running (testing) with HAPPY_PATH\n",
    "\n",
    "    # This runs tutorial in interactive mode if not in IPython env\n",
    "    # and if `DISABLE_INTERACTIVE_MODE` is not set\n",
    "    if is_interactive_mode():\n",
    "        pipeline.run()  # This runs tutorial in interactive mode"
   ]
  }
 ],
 "metadata": {
  "jupytext": {
   "cell_metadata_filter": "-all",
   "main_language": "python",
   "notebook_metadata_filter": "-all",
   "text_representation": {
    "extension": ".py",
    "format_name": "percent"
   }
  },
  "language_info": {
   "codemirror_mode": {
    "name": "ipython",
    "version": 3
   },
   "file_extension": ".py",
   "mimetype": "text/x-python",
   "name": "python",
   "nbconvert_exporter": "python",
   "pygments_lexer": "ipython3",
   "version": "3.9.21"
  }
 },
 "nbformat": 4,
 "nbformat_minor": 5
}
