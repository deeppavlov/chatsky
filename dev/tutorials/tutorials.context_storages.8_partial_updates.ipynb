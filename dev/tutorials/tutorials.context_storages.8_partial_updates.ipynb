{
 "cells": [
  {
   "cell_type": "markdown",
   "id": "7eb0d4a4",
   "metadata": {
    "cell_marker": "\"\"\""
   },
   "source": [
    "# 8. Partial context updates\n",
    "\n",
    "The following tutorial shows the advanced usage\n",
    "of context storage and context storage schema."
   ]
  },
  {
   "cell_type": "code",
   "execution_count": 1,
   "id": "c0da64b2",
   "metadata": {
    "execution": {
     "iopub.execute_input": "2025-02-18T09:20:16.990202Z",
     "iopub.status.busy": "2025-02-18T09:20:16.989942Z",
     "iopub.status.idle": "2025-02-18T09:20:18.235097Z",
     "shell.execute_reply": "2025-02-18T09:20:18.234312Z"
    }
   },
   "outputs": [
    {
     "name": "stdout",
     "output_type": "stream",
     "text": [
      "Note: you may need to restart the kernel to use updated packages.\n"
     ]
    }
   ],
   "source": [
    "# installing dependencies\n",
    "%pip install -q chatsky==0.10.0"
   ]
  },
  {
   "cell_type": "code",
   "execution_count": 2,
   "id": "41da45e7",
   "metadata": {
    "execution": {
     "iopub.execute_input": "2025-02-18T09:20:18.238101Z",
     "iopub.status.busy": "2025-02-18T09:20:18.237478Z",
     "iopub.status.idle": "2025-02-18T09:20:20.180033Z",
     "shell.execute_reply": "2025-02-18T09:20:20.179370Z"
    }
   },
   "outputs": [],
   "source": [
    "from pathlib import Path\n",
    "\n",
    "from chatsky import Pipeline\n",
    "from chatsky.context_storages import context_storage_factory\n",
    "from chatsky.context_storages.database import NameConfig\n",
    "from chatsky.utils.testing.common import check_happy_path, is_interactive_mode\n",
    "from chatsky.utils.testing.toy_script import TOY_SCRIPT_KWARGS, HAPPY_PATH"
   ]
  },
  {
   "cell_type": "code",
   "execution_count": 3,
   "id": "64cabfb9",
   "metadata": {
    "execution": {
     "iopub.execute_input": "2025-02-18T09:20:20.182912Z",
     "iopub.status.busy": "2025-02-18T09:20:20.182510Z",
     "iopub.status.idle": "2025-02-18T09:20:20.187313Z",
     "shell.execute_reply": "2025-02-18T09:20:20.186570Z"
    }
   },
   "outputs": [],
   "source": [
    "Path(\"dbs\").mkdir(exist_ok=True)\n",
    "db = context_storage_factory(\"shelve://dbs/partly.shlv\")\n",
    "\n",
    "pipeline = Pipeline(**TOY_SCRIPT_KWARGS, context_storage=db)"
   ]
  },
  {
   "cell_type": "markdown",
   "id": "75c862f2",
   "metadata": {
    "cell_marker": "\"\"\""
   },
   "source": [
    "Most of the `Context` fields, that might grow in size uncontrollably,\n",
    "are stored in a special structure, `ContextDict`.\n",
    "This structure can be used for fine-grained access to the underlying\n",
    "database, partial and asynchronous element loading.\n",
    "In particular, this is relevant for `labels`, `requests` and `responses`\n",
    "fields, while `misc` and `framework_data` are always loaded fully.\n",
    "\n",
    "How does that partial field writing work?\n",
    "\n",
    "In most cases, every context storage\n",
    "operates two \"tables\", \"dictionaries\", \"files\", etc.\n",
    "\n",
    "One of them is called `MAIN` and contains all the \"primitive\" `Context`\n",
    "data (and also the data that will be read and written completely every time) -\n",
    "that includes context `id`, `current_turn_id`, `_created_at`,\n",
    "`_updated_at`, `misc` and `framework_data` fields.\n",
    "\n",
    "The other one is called `TURNS` and contains triplets of the data generated on\n",
    "each conversation step: `label`, `request` and `response`.\n",
    "\n",
    "Whenever a context is loaded, all of its information from `MAIN` table\n",
    "and one to few items from `TURNS` table are loaded.\n",
    "More items from `TURNS` table can be loaded later on demand\n",
    "(via the `get` or `__getitem__` methods of corresponding fields)."
   ]
  },
  {
   "cell_type": "markdown",
   "id": "496e428d",
   "metadata": {
    "cell_marker": "\"\"\""
   },
   "source": [
    "Database table layout and default behavior are controlled by\n",
    "some special fields of the `DBContextStorage` class.\n",
    "\n",
    "All the table and field names are stored in a special `NameConfig`\n",
    "static class."
   ]
  },
  {
   "cell_type": "markdown",
   "id": "3bcae3df",
   "metadata": {
    "cell_marker": "\"\"\""
   },
   "source": [
    "One of the important configuration options is `_subscripts`:\n",
    "this property controls the number of *last* dictionary items\n",
    "that will be read and written\n",
    "(the items are ordered by keys, ascending) - default value is 3.\n",
    "In order to read *all* items at once, the property\n",
    "can also be set to \"__all__\" literal.\n",
    "In order to read only a specific subset of keys, the property\n",
    "can be set to a set of desired integers."
   ]
  },
  {
   "cell_type": "code",
   "execution_count": 4,
   "id": "ba086223",
   "metadata": {
    "execution": {
     "iopub.execute_input": "2025-02-18T09:20:20.189908Z",
     "iopub.status.busy": "2025-02-18T09:20:20.189456Z",
     "iopub.status.idle": "2025-02-18T09:20:20.192842Z",
     "shell.execute_reply": "2025-02-18T09:20:20.192124Z"
    }
   },
   "outputs": [],
   "source": [
    "# All items will be loaded on every turn.\n",
    "db._subscripts[NameConfig._requests_field] = \"__all__\""
   ]
  },
  {
   "cell_type": "code",
   "execution_count": 5,
   "id": "8a852800",
   "metadata": {
    "execution": {
     "iopub.execute_input": "2025-02-18T09:20:20.195247Z",
     "iopub.status.busy": "2025-02-18T09:20:20.194749Z",
     "iopub.status.idle": "2025-02-18T09:20:20.198115Z",
     "shell.execute_reply": "2025-02-18T09:20:20.197497Z"
    }
   },
   "outputs": [],
   "source": [
    "# 5 last items will be loaded on every turn.\n",
    "db._subscripts[NameConfig._requests_field] = 5"
   ]
  },
  {
   "cell_type": "code",
   "execution_count": 6,
   "id": "316e5047",
   "metadata": {
    "execution": {
     "iopub.execute_input": "2025-02-18T09:20:20.200561Z",
     "iopub.status.busy": "2025-02-18T09:20:20.200035Z",
     "iopub.status.idle": "2025-02-18T09:20:20.203469Z",
     "shell.execute_reply": "2025-02-18T09:20:20.202839Z"
    }
   },
   "outputs": [],
   "source": [
    "# Items 1, 3, 5 and 7 will be loaded on every turn.\n",
    "db._subscripts[NameConfig._requests_field] = {1, 3, 5, 7}"
   ]
  },
  {
   "cell_type": "markdown",
   "id": "521cdf90",
   "metadata": {
    "cell_marker": "\"\"\""
   },
   "source": [
    "Last but not least, comes `rewrite_existing` boolean flag.\n",
    "\n",
    "Without it any \"silent\" modifications to the values of `ContextDict` will be\n",
    "discarded at the end of each turn.\n",
    "\n",
    "I.e. explicit modification of values via methods such as `__setitem__`,\n",
    "`__delitem__` or `pop` will be kept track of and preserved, while\n",
    "implicit modification via object manipulation,\n",
    "e.g. ``ctx.last_request.text = \"new_text\"``, will be discarded.\n",
    "\n",
    "Turning the option on will enable calculating hashes for all items stored\n",
    "locally and comparing them at the end of every turn, updating any\n",
    "that were implicitly changed.\n",
    "\n",
    "NB! Keeping track of the modified elements comes with a price of calculating\n",
    "their hashes and comparing them, so in performance-critical environments\n",
    "this feature can be disabled by setting the flag to False."
   ]
  },
  {
   "cell_type": "code",
   "execution_count": 7,
   "id": "68799bd3",
   "metadata": {
    "execution": {
     "iopub.execute_input": "2025-02-18T09:20:20.205532Z",
     "iopub.status.busy": "2025-02-18T09:20:20.205309Z",
     "iopub.status.idle": "2025-02-18T09:20:20.208558Z",
     "shell.execute_reply": "2025-02-18T09:20:20.207956Z"
    }
   },
   "outputs": [],
   "source": [
    "# Any modifications done to the elements already present in storage\n",
    "# will be preserved.\n",
    "db.rewrite_existing = True"
   ]
  },
  {
   "cell_type": "code",
   "execution_count": 8,
   "id": "18e5fc05",
   "metadata": {
    "execution": {
     "iopub.execute_input": "2025-02-18T09:20:20.210727Z",
     "iopub.status.busy": "2025-02-18T09:20:20.210509Z",
     "iopub.status.idle": "2025-02-18T09:20:20.355071Z",
     "shell.execute_reply": "2025-02-18T09:20:20.354385Z"
    }
   },
   "outputs": [],
   "source": [
    "if __name__ == \"__main__\":\n",
    "    check_happy_path(pipeline, HAPPY_PATH)\n",
    "    # This is a function for automatic\n",
    "    # tutorial running (testing) with HAPPY_PATH\n",
    "\n",
    "    # This runs tutorial in interactive mode if not in IPython env\n",
    "    # and if `DISABLE_INTERACTIVE_MODE` is not set\n",
    "    if is_interactive_mode():\n",
    "        pipeline.run()  # This runs tutorial in interactive mode"
   ]
  }
 ],
 "metadata": {
  "jupytext": {
   "cell_metadata_filter": "-all",
   "main_language": "python",
   "notebook_metadata_filter": "-all",
   "text_representation": {
    "extension": ".py",
    "format_name": "percent"
   }
  },
  "language_info": {
   "codemirror_mode": {
    "name": "ipython",
    "version": 3
   },
   "file_extension": ".py",
   "mimetype": "text/x-python",
   "name": "python",
   "nbconvert_exporter": "python",
   "pygments_lexer": "ipython3",
   "version": "3.9.21"
  }
 },
 "nbformat": 4,
 "nbformat_minor": 5
}
