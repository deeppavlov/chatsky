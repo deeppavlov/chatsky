{
 "cells": [
  {
   "cell_type": "markdown",
   "id": "e163cd42",
   "metadata": {
    "cell_marker": "\"\"\""
   },
   "source": [
    "# Telegram: 2. Attachments\n",
    "\n",
    "The following tutorial shows how to send different attachments using\n",
    "telegram interfaces.\n",
    "\n",
    "Here, [LongpollingInterface](../apiref/chatsky.messengers.telegram.interface.rst#chatsky.messengers.telegram.interface.LongpollingInterface)\n",
    "class and [python-telegram-bot](https://docs.python-telegram-bot.org/)\n",
    "library are used for accessing telegram API in polling mode.\n",
    "\n",
    "Telegram API token is required to access telegram API."
   ]
  },
  {
   "cell_type": "code",
   "execution_count": 1,
   "id": "9d7c82c3",
   "metadata": {
    "execution": {
     "iopub.execute_input": "2025-02-18T09:21:38.553705Z",
     "iopub.status.busy": "2025-02-18T09:21:38.553443Z",
     "iopub.status.idle": "2025-02-18T09:21:39.836990Z",
     "shell.execute_reply": "2025-02-18T09:21:39.836126Z"
    }
   },
   "outputs": [
    {
     "name": "stdout",
     "output_type": "stream",
     "text": [
      "Note: you may need to restart the kernel to use updated packages.\n"
     ]
    }
   ],
   "source": [
    "# installing dependencies\n",
    "%pip install -q chatsky[telegram]==0.10.0"
   ]
  },
  {
   "cell_type": "code",
   "execution_count": 2,
   "id": "9c837e84",
   "metadata": {
    "execution": {
     "iopub.execute_input": "2025-02-18T09:21:39.839973Z",
     "iopub.status.busy": "2025-02-18T09:21:39.839411Z",
     "iopub.status.idle": "2025-02-18T09:21:41.710907Z",
     "shell.execute_reply": "2025-02-18T09:21:41.710224Z"
    },
    "lines_to_next_cell": 2
   },
   "outputs": [],
   "source": [
    "import os\n",
    "\n",
    "from pydantic import HttpUrl\n",
    "\n",
    "from chatsky import (\n",
    "    GLOBAL,\n",
    "    RESPONSE,\n",
    "    TRANSITIONS,\n",
    "    Message,\n",
    "    Pipeline,\n",
    "    Transition as Tr,\n",
    "    conditions as cnd,\n",
    ")\n",
    "from chatsky.messengers.telegram import LongpollingInterface\n",
    "from chatsky.core.message import (\n",
    "    Animation,\n",
    "    Audio,\n",
    "    Contact,\n",
    "    Document,\n",
    "    Location,\n",
    "    Image,\n",
    "    MediaGroup,\n",
    "    Poll,\n",
    "    PollOption,\n",
    "    Sticker,\n",
    "    Video,\n",
    "    VideoMessage,\n",
    "    VoiceMessage,\n",
    ")\n",
    "from chatsky.utils.testing.common import is_interactive_mode"
   ]
  },
  {
   "cell_type": "markdown",
   "id": "e572ea33",
   "metadata": {
    "cell_marker": "\"\"\""
   },
   "source": [
    "Example attachment data is specified below in form of dictionaries.\n",
    "List of attachments that telegram messenger interface can send can\n",
    "be found here:\n",
    "[supported_request_attachment_types](../apiref/chatsky.messengers.telegram.abstract.rst#chatsky.messengers.telegram.abstract._AbstractTelegramInterface.supported_request_attachment_types)."
   ]
  },
  {
   "cell_type": "code",
   "execution_count": 3,
   "id": "4bc6a332",
   "metadata": {
    "execution": {
     "iopub.execute_input": "2025-02-18T09:21:41.713797Z",
     "iopub.status.busy": "2025-02-18T09:21:41.713412Z",
     "iopub.status.idle": "2025-02-18T09:21:41.720993Z",
     "shell.execute_reply": "2025-02-18T09:21:41.720381Z"
    },
    "lines_to_next_cell": 2
   },
   "outputs": [],
   "source": [
    "\n",
    "EXAMPLE_ATTACHMENT_SOURCE = (\n",
    "    \"https://github.com/deeppavlov/chatsky/wiki/example_attachments\"\n",
    ")\n",
    "\n",
    "location_data = {\"latitude\": 50.65, \"longitude\": 3.916667}\n",
    "\n",
    "contact_data = {\n",
    "    \"phone_number\": \"8-900-555-35-35\",\n",
    "    \"first_name\": \"Hope\",\n",
    "    \"last_name\": \"Credit\",\n",
    "}\n",
    "\n",
    "sticker_data = {\n",
    "    \"id\": (\n",
    "        \"CAACAgIAAxkBAAErAAFXZibO5ksphCKS\"\n",
    "        + \"XSe1CYiw5588yqsAAkEAAzyKVxogmx2BPCogYDQE\"\n",
    "    ),\n",
    "    \"caption\": \"A sticker I've just found\",\n",
    "}\n",
    "\n",
    "audio_data = {\n",
    "    \"source\": HttpUrl(\n",
    "        f\"{EXAMPLE_ATTACHMENT_SOURCE}/separation-william-king.mp3\"\n",
    "    ),\n",
    "    \"caption\": \"Separation melody by William King\",\n",
    "    \"filename\": \"separation-william-king.mp3\",\n",
    "}\n",
    "\n",
    "video_data = {\n",
    "    \"source\": HttpUrl(\n",
    "        f\"{EXAMPLE_ATTACHMENT_SOURCE}/crownfall-lags-nkognit0.mp4\"\n",
    "    ),\n",
    "    \"caption\": \"Epic Dota2 gameplay by Nkognit0\",\n",
    "    \"filename\": \"crownfall-lags-nkognit0.mp4\",\n",
    "}\n",
    "\n",
    "animation_data = {\n",
    "    # For some reason, if we don't define filename explicitly,\n",
    "    # animation is sent as file.\n",
    "    \"source\": HttpUrl(\n",
    "        f\"{EXAMPLE_ATTACHMENT_SOURCE}/hong-kong-simplyart4794.gif\"\n",
    "    ),\n",
    "    \"caption\": \"Hong Kong skyscraper views by Simplyart4794\",\n",
    "    \"filename\": \"hong-kong-simplyart4794.gif\",\n",
    "}\n",
    "\n",
    "image_data = {\n",
    "    \"source\": HttpUrl(f\"{EXAMPLE_ATTACHMENT_SOURCE}/deeppavlov.png\"),\n",
    "    \"caption\": \"DeepPavlov logo\",\n",
    "    \"filename\": \"deeppavlov.png\",\n",
    "}\n",
    "\n",
    "document_data = {\n",
    "    \"source\": HttpUrl(f\"{EXAMPLE_ATTACHMENT_SOURCE}/deeppavlov-article.pdf\"),\n",
    "    \"caption\": \"DeepPavlov article\",\n",
    "    \"filename\": \"deeppavlov-article.pdf\",\n",
    "}\n",
    "\n",
    "ATTACHMENTS = [\n",
    "    \"location\",\n",
    "    \"contact\",\n",
    "    \"poll\",\n",
    "    \"sticker\",\n",
    "    \"audio\",\n",
    "    \"video\",\n",
    "    \"animation\",\n",
    "    \"image\",\n",
    "    \"document\",\n",
    "    \"voice_message\",\n",
    "    \"video_message\",\n",
    "    \"media_group\",\n",
    "]\n",
    "\n",
    "QUOTED_ATTACHMENTS = [f'\"{attachment}\"' for attachment in ATTACHMENTS]"
   ]
  },
  {
   "cell_type": "markdown",
   "id": "ac68e822",
   "metadata": {
    "cell_marker": "\"\"\""
   },
   "source": [
    "The bot below sends different attachments on request.\n",
    "\n",
    "[Here](../apiref/chatsky.core.message.rst) you can find\n",
    "all the attachment options available."
   ]
  },
  {
   "cell_type": "code",
   "execution_count": 4,
   "id": "9701793d",
   "metadata": {
    "execution": {
     "iopub.execute_input": "2025-02-18T09:21:41.723429Z",
     "iopub.status.busy": "2025-02-18T09:21:41.722999Z",
     "iopub.status.idle": "2025-02-18T09:21:41.737342Z",
     "shell.execute_reply": "2025-02-18T09:21:41.736547Z"
    },
    "lines_to_next_cell": 2
   },
   "outputs": [],
   "source": [
    "script = {\n",
    "    GLOBAL: {\n",
    "        TRANSITIONS: [\n",
    "            Tr(\n",
    "                dst=(\"main_flow\", f\"{attachment}_node\"),\n",
    "                cnd=cnd.ExactMatch(attachment),\n",
    "            )\n",
    "            for attachment in ATTACHMENTS\n",
    "        ]\n",
    "    },\n",
    "    \"main_flow\": {\n",
    "        \"start_node\": {\n",
    "            TRANSITIONS: [Tr(dst=\"intro_node\", cnd=cnd.ExactMatch(\"/start\"))],\n",
    "        },\n",
    "        \"intro_node\": {\n",
    "            RESPONSE: f'Type {\", \".join(QUOTED_ATTACHMENTS[:-1])}'\n",
    "            f\" or {QUOTED_ATTACHMENTS[-1]}\"\n",
    "            f\" to receive a corresponding attachment!\",\n",
    "        },\n",
    "        \"location_node\": {\n",
    "            RESPONSE: Message(\n",
    "                text=\"Here's your location!\",\n",
    "                attachments=[Location(**location_data)],\n",
    "            ),\n",
    "        },\n",
    "        \"contact_node\": {\n",
    "            RESPONSE: Message(\n",
    "                text=\"Here's your contact!\",\n",
    "                attachments=[Contact(**contact_data)],\n",
    "            ),\n",
    "        },\n",
    "        \"poll_node\": {\n",
    "            RESPONSE: Message(\n",
    "                text=\"Here's your poll!\",\n",
    "                attachments=[\n",
    "                    Poll(\n",
    "                        question=\"What is the poll question?\",\n",
    "                        options=[\n",
    "                            PollOption(text=\"This one!\"),\n",
    "                            PollOption(text=\"Not this one :(\"),\n",
    "                        ],\n",
    "                    ),\n",
    "                ],\n",
    "            ),\n",
    "        },\n",
    "        \"sticker_node\": {\n",
    "            RESPONSE: Message(\n",
    "                text=\"Here's your sticker!\",\n",
    "                attachments=[Sticker(**sticker_data)],\n",
    "            ),\n",
    "        },\n",
    "        \"audio_node\": {\n",
    "            RESPONSE: Message(\n",
    "                text=\"Here's your audio!\",\n",
    "                attachments=[Audio(**audio_data)],\n",
    "            ),\n",
    "        },\n",
    "        \"video_node\": {\n",
    "            RESPONSE: Message(\n",
    "                text=\"Here's your video!\",\n",
    "                attachments=[Video(**video_data)],\n",
    "            ),\n",
    "        },\n",
    "        \"animation_node\": {\n",
    "            RESPONSE: Message(\n",
    "                text=\"Here's your animation!\",\n",
    "                attachments=[Animation(**animation_data)],\n",
    "            ),\n",
    "        },\n",
    "        \"image_node\": {\n",
    "            RESPONSE: Message(\n",
    "                text=\"Here's your image!\",\n",
    "                attachments=[Image(**image_data)],\n",
    "            ),\n",
    "        },\n",
    "        \"document_node\": {\n",
    "            RESPONSE: Message(\n",
    "                text=\"Here's your document!\",\n",
    "                attachments=[Document(**document_data)],\n",
    "            ),\n",
    "        },\n",
    "        \"voice_message_node\": {\n",
    "            RESPONSE: Message(\n",
    "                text=\"Here's your voice message!\",\n",
    "                attachments=[VoiceMessage(source=audio_data[\"source\"])],\n",
    "            ),\n",
    "        },\n",
    "        \"video_message_node\": {\n",
    "            RESPONSE: Message(\n",
    "                text=\"Here's your video message!\",\n",
    "                attachments=[VideoMessage(source=video_data[\"source\"])],\n",
    "            ),\n",
    "        },\n",
    "        \"media_group_node\": {\n",
    "            RESPONSE: Message(\n",
    "                text=\"Here's your media group!\",\n",
    "                attachments=[\n",
    "                    MediaGroup(\n",
    "                        group=[\n",
    "                            Image(**image_data),\n",
    "                            Video(**video_data),\n",
    "                        ],\n",
    "                    )\n",
    "                ],\n",
    "            ),\n",
    "        },\n",
    "        \"fallback_node\": {\n",
    "            RESPONSE: f\"Unknown attachment type, try again! \"\n",
    "            f\"Supported attachments are: \"\n",
    "            f'{\", \".join(QUOTED_ATTACHMENTS[:-1])} '\n",
    "            f\"and {QUOTED_ATTACHMENTS[-1]}.\",\n",
    "        },\n",
    "    },\n",
    "}"
   ]
  },
  {
   "cell_type": "code",
   "execution_count": 5,
   "id": "2a1048bc",
   "metadata": {
    "execution": {
     "iopub.execute_input": "2025-02-18T09:21:41.739928Z",
     "iopub.status.busy": "2025-02-18T09:21:41.739471Z",
     "iopub.status.idle": "2025-02-18T09:21:41.793943Z",
     "shell.execute_reply": "2025-02-18T09:21:41.793287Z"
    },
    "lines_to_next_cell": 2
   },
   "outputs": [],
   "source": [
    "interface = LongpollingInterface(token=os.environ[\"TG_BOT_TOKEN\"])"
   ]
  },
  {
   "cell_type": "code",
   "execution_count": 6,
   "id": "7d3574bf",
   "metadata": {
    "execution": {
     "iopub.execute_input": "2025-02-18T09:21:41.796841Z",
     "iopub.status.busy": "2025-02-18T09:21:41.796270Z",
     "iopub.status.idle": "2025-02-18T09:21:41.801485Z",
     "shell.execute_reply": "2025-02-18T09:21:41.800802Z"
    }
   },
   "outputs": [],
   "source": [
    "pipeline = Pipeline(\n",
    "    script=script,\n",
    "    start_label=(\"main_flow\", \"start_node\"),\n",
    "    fallback_label=(\"main_flow\", \"fallback_node\"),\n",
    "    messenger_interface=interface,\n",
    "    # The interface can be passed as a pipeline argument.\n",
    ")\n",
    "\n",
    "\n",
    "if __name__ == \"__main__\":\n",
    "    if is_interactive_mode():\n",
    "        # prevent run during doc building\n",
    "        pipeline.run()"
   ]
  }
 ],
 "metadata": {
  "jupytext": {
   "cell_metadata_filter": "-all",
   "main_language": "python",
   "notebook_metadata_filter": "-all",
   "text_representation": {
    "extension": ".py",
    "format_name": "percent"
   }
  },
  "language_info": {
   "codemirror_mode": {
    "name": "ipython",
    "version": 3
   },
   "file_extension": ".py",
   "mimetype": "text/x-python",
   "name": "python",
   "nbconvert_exporter": "python",
   "pygments_lexer": "ipython3",
   "version": "3.9.21"
  }
 },
 "nbformat": 4,
 "nbformat_minor": 5
}
