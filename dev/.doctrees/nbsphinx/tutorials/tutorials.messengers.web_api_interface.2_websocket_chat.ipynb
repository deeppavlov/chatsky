{
 "cells": [
  {
   "cell_type": "markdown",
   "id": "72e3406b",
   "metadata": {
    "cell_marker": "\"\"\""
   },
   "source": [
    "# Web API: 2. WebSocket Chat\n",
    "\n",
    "This tutorial shows how to create a Web chat on FastAPI using websockets.\n",
    "\n",
    "You can see the result at http://127.0.0.1:8000/.\n",
    "\n",
    "This tutorial is a modified version of the FastAPI tutorial on WebSockets:\n",
    "https://fastapi.tiangolo.com/advanced/websockets/.\n",
    "\n",
    "As mentioned in that tutorial,\n",
    "\n",
    "> ... for this example, we'll use a very simple HTML document\n",
    "> with some JavaScript, all inside a long string.\n",
    "> This, of course, is not optimal and you wouldn't use it for production.\n",
    "\n",
    "Here, [CallbackMessengerInterface](../apiref/chatsky.messengers.common.interface.rst#chatsky.messengers.common.interface.CallbackMessengerInterface)\n",
    "is used to process requests.\n",
    "\n",
    "[Message](../apiref/chatsky.core.message.rst#chatsky.core.message.Message) is used to represent text messages."
   ]
  },
  {
   "cell_type": "code",
   "execution_count": 1,
   "id": "dfed4142",
   "metadata": {
    "execution": {
     "iopub.execute_input": "2025-02-18T09:21:54.444517Z",
     "iopub.status.busy": "2025-02-18T09:21:54.444307Z",
     "iopub.status.idle": "2025-02-18T09:21:55.635157Z",
     "shell.execute_reply": "2025-02-18T09:21:55.634351Z"
    }
   },
   "outputs": [
    {
     "name": "stdout",
     "output_type": "stream",
     "text": [
      "Note: you may need to restart the kernel to use updated packages.\n"
     ]
    }
   ],
   "source": [
    "# installing dependencies\n",
    "%pip install -q chatsky==0.10.0 uvicorn==0.32.0 fastapi==0.115.5"
   ]
  },
  {
   "cell_type": "code",
   "execution_count": 2,
   "id": "dc68bf70",
   "metadata": {
    "execution": {
     "iopub.execute_input": "2025-02-18T09:21:55.637519Z",
     "iopub.status.busy": "2025-02-18T09:21:55.637304Z",
     "iopub.status.idle": "2025-02-18T09:21:57.648178Z",
     "shell.execute_reply": "2025-02-18T09:21:57.647321Z"
    },
    "lines_to_next_cell": 2
   },
   "outputs": [],
   "source": [
    "from chatsky.messengers.common.interface import CallbackMessengerInterface\n",
    "from chatsky import Message, Pipeline\n",
    "from chatsky.utils.testing import TOY_SCRIPT_KWARGS, is_interactive_mode\n",
    "\n",
    "import uvicorn\n",
    "from fastapi import FastAPI, WebSocket, WebSocketDisconnect\n",
    "from fastapi.responses import HTMLResponse"
   ]
  },
  {
   "cell_type": "code",
   "execution_count": 3,
   "id": "5fa43472",
   "metadata": {
    "execution": {
     "iopub.execute_input": "2025-02-18T09:21:57.652377Z",
     "iopub.status.busy": "2025-02-18T09:21:57.651509Z",
     "iopub.status.idle": "2025-02-18T09:21:57.658009Z",
     "shell.execute_reply": "2025-02-18T09:21:57.656957Z"
    },
    "lines_to_next_cell": 2
   },
   "outputs": [],
   "source": [
    "messenger_interface = CallbackMessengerInterface()\n",
    "pipeline = Pipeline(\n",
    "    **TOY_SCRIPT_KWARGS, messenger_interface=messenger_interface\n",
    ")"
   ]
  },
  {
   "cell_type": "code",
   "execution_count": 4,
   "id": "3ad37f23",
   "metadata": {
    "execution": {
     "iopub.execute_input": "2025-02-18T09:21:57.661192Z",
     "iopub.status.busy": "2025-02-18T09:21:57.660871Z",
     "iopub.status.idle": "2025-02-18T09:21:57.672533Z",
     "shell.execute_reply": "2025-02-18T09:21:57.671712Z"
    },
    "lines_to_next_cell": 2
   },
   "outputs": [],
   "source": [
    "app = FastAPI()\n",
    "PORT = 8000\n",
    "\n",
    "html = f\"\"\"\n",
    "<!DOCTYPE html>\n",
    "<html>\n",
    "    <head>\n",
    "        <title>Chat</title>\n",
    "    </head>\n",
    "    <body>\n",
    "        <h1>WebSocket Chat</h1>\n",
    "        <form action=\"\" onsubmit=\"sendMessage(event)\">\n",
    "            <input type=\"text\" id=\"messageText\" autocomplete=\"off\"/>\n",
    "            <button>Send</button>\n",
    "        </form>\n",
    "        <ul id='messages'>\n",
    "        </ul>\n",
    "        <script>\n",
    "            var client_id = Date.now();\n",
    "            var ws = new WebSocket(`ws://localhost:{PORT}/ws/${{client_id}}`);\n",
    "            ws.onmessage = function(event) {{\n",
    "                var messages = document.getElementById('messages')\n",
    "                var message = document.createElement('li')\n",
    "                var content = document.createTextNode(event.data)\n",
    "                message.appendChild(content)\n",
    "                messages.appendChild(message)\n",
    "            }};\n",
    "            function sendMessage(event) {{\n",
    "                var input = document.getElementById(\"messageText\")\n",
    "                ws.send(input.value)\n",
    "                input.value = ''\n",
    "                event.preventDefault()\n",
    "            }}\n",
    "        </script>\n",
    "    </body>\n",
    "</html>\n",
    "\"\"\"\n",
    "\n",
    "\n",
    "@app.get(\"/\")\n",
    "async def get():\n",
    "    return HTMLResponse(html)\n",
    "\n",
    "\n",
    "@app.websocket(\"/ws/{client_id}\")\n",
    "async def websocket_endpoint(websocket: WebSocket, client_id: int):\n",
    "    await websocket.accept()\n",
    "    try:\n",
    "        while True:\n",
    "            data = await websocket.receive_text()\n",
    "            await websocket.send_text(f\"User: {data}\")\n",
    "            request = Message(data)\n",
    "            context = await messenger_interface.on_request_async(\n",
    "                request, client_id\n",
    "            )\n",
    "            response = context.last_response.text\n",
    "            if response is not None:\n",
    "                await websocket.send_text(f\"Bot: {response}\")\n",
    "            else:\n",
    "                await websocket.send_text(\"Bot did not return text.\")\n",
    "    except WebSocketDisconnect:  # ignore disconnections\n",
    "        pass"
   ]
  },
  {
   "cell_type": "code",
   "execution_count": 5,
   "id": "a7839dc3",
   "metadata": {
    "execution": {
     "iopub.execute_input": "2025-02-18T09:21:57.675259Z",
     "iopub.status.busy": "2025-02-18T09:21:57.674704Z",
     "iopub.status.idle": "2025-02-18T09:21:57.679587Z",
     "shell.execute_reply": "2025-02-18T09:21:57.678799Z"
    }
   },
   "outputs": [],
   "source": [
    "if __name__ == \"__main__\":\n",
    "    if is_interactive_mode():  # do not run this during doc building\n",
    "        pipeline.run()\n",
    "        uvicorn.run(\n",
    "            app,\n",
    "            host=\"127.0.0.1\",\n",
    "            port=PORT,\n",
    "        )"
   ]
  }
 ],
 "metadata": {
  "jupytext": {
   "cell_metadata_filter": "-all",
   "main_language": "python",
   "notebook_metadata_filter": "-all",
   "text_representation": {
    "extension": ".py",
    "format_name": "percent"
   }
  },
  "language_info": {
   "codemirror_mode": {
    "name": "ipython",
    "version": 3
   },
   "file_extension": ".py",
   "mimetype": "text/x-python",
   "name": "python",
   "nbconvert_exporter": "python",
   "pygments_lexer": "ipython3",
   "version": "3.9.21"
  }
 },
 "nbformat": 4,
 "nbformat_minor": 5
}
