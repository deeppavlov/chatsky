{
 "cells": [
  {
   "cell_type": "markdown",
   "id": "380f69b8",
   "metadata": {
    "cell_marker": "\"\"\""
   },
   "source": [
    "# 3. Service Groups\n",
    "\n",
    "The following tutorial shows how to group multiple services.\n",
    "\n",
    "For more information, see\n",
    "[API ref](../apiref/chatsky.core.service.group.rst#chatsky.core.service.group.ServiceGroup)."
   ]
  },
  {
   "cell_type": "code",
   "execution_count": 1,
   "id": "7a326bf9",
   "metadata": {
    "execution": {
     "iopub.execute_input": "2025-02-18T09:58:47.193095Z",
     "iopub.status.busy": "2025-02-18T09:58:47.192870Z",
     "iopub.status.idle": "2025-02-18T09:58:48.470239Z",
     "shell.execute_reply": "2025-02-18T09:58:48.469366Z"
    }
   },
   "outputs": [
    {
     "name": "stdout",
     "output_type": "stream",
     "text": [
      "Note: you may need to restart the kernel to use updated packages.\n"
     ]
    }
   ],
   "source": [
    "# installing dependencies\n",
    "%pip install -q chatsky==0.10.0"
   ]
  },
  {
   "cell_type": "code",
   "execution_count": 2,
   "id": "912388c6",
   "metadata": {
    "execution": {
     "iopub.execute_input": "2025-02-18T09:58:48.473156Z",
     "iopub.status.busy": "2025-02-18T09:58:48.472759Z",
     "iopub.status.idle": "2025-02-18T09:58:50.171989Z",
     "shell.execute_reply": "2025-02-18T09:58:50.171314Z"
    }
   },
   "outputs": [],
   "source": [
    "import asyncio\n",
    "import logging\n",
    "import sys\n",
    "from importlib import reload\n",
    "\n",
    "from chatsky.core import Context, Pipeline\n",
    "from chatsky.core.service import ServiceGroup\n",
    "\n",
    "from chatsky.utils.testing.common import (\n",
    "    check_happy_path,\n",
    "    is_interactive_mode,\n",
    ")\n",
    "from chatsky.utils.testing.toy_script import HAPPY_PATH, TOY_SCRIPT_KWARGS\n",
    "\n",
    "reload(logging)\n",
    "logging.basicConfig(stream=sys.stdout, level=logging.INFO, format=\"\")\n",
    "logger = logging.getLogger(__name__)"
   ]
  },
  {
   "cell_type": "markdown",
   "id": "eda41d17",
   "metadata": {
    "cell_marker": "\"\"\"",
    "lines_to_next_cell": 2
   },
   "source": [
    "## Intro\n",
    "\n",
    "Service groups are used to combine several services\n",
    "(or service groups) into one.\n",
    "\n",
    "Both services and service groups inherit interface from `PipelineComponent`\n",
    "class which defines all the fields described in the [previous tutorial](\n",
    "../tutorials/tutorials.service.2_advanced.py)\n",
    "except `handler`.\n",
    "\n",
    "Instead of `handler` service group defines `components`:\n",
    "a list of services or service groups.\n",
    "\n",
    "Pipeline pre-services and post-services are actually service groups\n",
    "and you can pass a ServiceGroup instead of a list when initializing Pipeline.\n",
    "\n",
    "## Component execution\n",
    "\n",
    "Components inside a service group are executed sequentially, except for\n",
    "components with the `concurrent` attribute set to `True`:\n",
    "Continuous sequences of concurrent components are executed concurrently\n",
    "(via `asyncio.gather`).\n",
    "\n",
    "For example, if components are `[1, 1, 0, 0, 1, 1, 1, 0]` where\n",
    "\"1\" indicates a concurrent component, the components are executed as follows:\n",
    "\n",
    "1. Components 1 and 2 (concurrently);\n",
    "2. Component 3;\n",
    "3. Component 4;\n",
    "4. Components 5, 6 and 7 (concurrently);\n",
    "5. Component 8.\n",
    "\n",
    "<div class=\"alert alert-info\">\n",
    "\n",
    "Note\n",
    "\n",
    "Components processing different contexts are always executed independently\n",
    "of each other.\n",
    "\n",
    "</div>\n",
    "\n",
    "### Fully concurrent flag\n",
    "\n",
    "Service groups have a `fully_concurrent` flag which makes it treat\n",
    "every component inside it as concurrent,\n",
    "running all components simultaneously.\n",
    "\n",
    "This is convenient if you have a bunch of functions,\n",
    "that you want to run simultaneously,\n",
    "but don't want to make a service for each of them.\n",
    "\n",
    "## Code explanation\n",
    "\n",
    "In this example, we define `pre_services` as a `ServiceGroup` instead of a list.\n",
    "This allows us to set the `fully_concurrent` flag to `True`.\n",
    "The service group consists of 10 services that sleep 0.01 seconds each.\n",
    "But since they are executed concurrently, the entire service group\n",
    "takes much less time than 0.1 seconds.\n",
    "\n",
    "To further demonstrate ServiceGroup's execution logic,\n",
    "`post_services` is a ServiceGroup with concurrent components 'A' and 'B',\n",
    "which execute simultaneously, and also one regular component 'C' at the end.\n",
    "\n",
    "If 'A' and 'B' weren't concurrent, all steps for component 'A' would complete\n",
    "before component 'B' begins its execution, but instead they start\n",
    "at the same time. Only after both of them have finished,\n",
    "does component 'C' start working."
   ]
  },
  {
   "cell_type": "code",
   "execution_count": 3,
   "id": "f09badbf",
   "metadata": {
    "execution": {
     "iopub.execute_input": "2025-02-18T09:58:50.174951Z",
     "iopub.status.busy": "2025-02-18T09:58:50.174384Z",
     "iopub.status.idle": "2025-02-18T09:58:50.181977Z",
     "shell.execute_reply": "2025-02-18T09:58:50.181321Z"
    },
    "lines_to_next_cell": 2
   },
   "outputs": [],
   "source": [
    "async def time_consuming_service(_):\n",
    "    await asyncio.sleep(0.01)\n",
    "\n",
    "\n",
    "def interact(stage: str, service: str):\n",
    "    async def slow_service(_: Context):\n",
    "        logger.info(f\"{stage} with service {service}\")\n",
    "        await asyncio.sleep(0.1)\n",
    "\n",
    "    return slow_service\n",
    "\n",
    "\n",
    "pipeline = Pipeline(\n",
    "    **TOY_SCRIPT_KWARGS,\n",
    "    pre_services=ServiceGroup(\n",
    "        components=[time_consuming_service for _ in range(0, 10)],\n",
    "        fully_concurrent=True,\n",
    "    ),\n",
    "    post_services=[\n",
    "        ServiceGroup(\n",
    "            name=\"InteractWithServiceA\",\n",
    "            components=[\n",
    "                interact(\"Starting interaction\", \"A\"),\n",
    "                interact(\"Finishing interaction\", \"A\"),\n",
    "            ],\n",
    "            concurrent=True,\n",
    "        ),\n",
    "        ServiceGroup(\n",
    "            name=\"InteractWithServiceB\",\n",
    "            components=[\n",
    "                interact(\"Starting interaction\", \"B\"),\n",
    "                interact(\"Finishing interaction\", \"B\"),\n",
    "            ],\n",
    "            concurrent=True,\n",
    "        ),\n",
    "        ServiceGroup(\n",
    "            name=\"InteractWithServiceC\",\n",
    "            components=[\n",
    "                interact(\"Starting interaction\", \"C\"),\n",
    "                interact(\"Finishing interaction\", \"C\"),\n",
    "            ],\n",
    "            concurrent=False,\n",
    "        ),\n",
    "    ],\n",
    ")"
   ]
  },
  {
   "cell_type": "code",
   "execution_count": 4,
   "id": "05ea9b00",
   "metadata": {
    "execution": {
     "iopub.execute_input": "2025-02-18T09:58:50.184533Z",
     "iopub.status.busy": "2025-02-18T09:58:50.183986Z",
     "iopub.status.idle": "2025-02-18T09:58:50.610942Z",
     "shell.execute_reply": "2025-02-18T09:58:50.610182Z"
    }
   },
   "outputs": [
    {
     "name": "stdout",
     "output_type": "stream",
     "text": [
      "USER: text='Hi'\n",
      "Starting interaction with service A\n"
     ]
    },
    {
     "name": "stdout",
     "output_type": "stream",
     "text": [
      "Starting interaction with service B\n"
     ]
    },
    {
     "name": "stdout",
     "output_type": "stream",
     "text": [
      "Finishing interaction with service A\n"
     ]
    },
    {
     "name": "stdout",
     "output_type": "stream",
     "text": [
      "Finishing interaction with service B\n"
     ]
    },
    {
     "name": "stdout",
     "output_type": "stream",
     "text": [
      "Starting interaction with service C\n"
     ]
    },
    {
     "name": "stdout",
     "output_type": "stream",
     "text": [
      "Finishing interaction with service C\n"
     ]
    },
    {
     "name": "stdout",
     "output_type": "stream",
     "text": [
      "BOT : text='Hi, how are you?'\n"
     ]
    }
   ],
   "source": [
    "if __name__ == \"__main__\":\n",
    "    check_happy_path(pipeline, HAPPY_PATH[:1], printout=True)\n",
    "    if is_interactive_mode():\n",
    "        pipeline.run()"
   ]
  }
 ],
 "metadata": {
  "jupytext": {
   "cell_metadata_filter": "-all",
   "main_language": "python",
   "notebook_metadata_filter": "-all",
   "text_representation": {
    "extension": ".py",
    "format_name": "percent"
   }
  },
  "language_info": {
   "codemirror_mode": {
    "name": "ipython",
    "version": 3
   },
   "file_extension": ".py",
   "mimetype": "text/x-python",
   "name": "python",
   "nbconvert_exporter": "python",
   "pygments_lexer": "ipython3",
   "version": "3.9.21"
  }
 },
 "nbformat": 4,
 "nbformat_minor": 5
}
