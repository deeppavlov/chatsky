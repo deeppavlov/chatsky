{
 "cells": [
  {
   "cell_type": "markdown",
   "id": "740338d0",
   "metadata": {
    "cell_marker": "\"\"\""
   },
   "source": [
    "# 5. Extra handlers\n",
    "\n",
    "This tutorial shows usage of extra handlers:\n",
    "functions that run before/after components.\n",
    "\n",
    "For API ref, see:\n",
    "\n",
    "* [BeforeHandler](../apiref/chatsky.core.service.extra.rst#chatsky.core.service.extra.BeforeHandler)\n",
    "* [AfterHandler](../apiref/chatsky.core.service.extra.rst#chatsky.core.service.extra.AfterHandler)."
   ]
  },
  {
   "cell_type": "code",
   "execution_count": 1,
   "id": "305fa6af",
   "metadata": {
    "execution": {
     "iopub.execute_input": "2025-02-18T09:23:26.705751Z",
     "iopub.status.busy": "2025-02-18T09:23:26.705264Z",
     "iopub.status.idle": "2025-02-18T09:23:27.921283Z",
     "shell.execute_reply": "2025-02-18T09:23:27.920432Z"
    }
   },
   "outputs": [
    {
     "name": "stdout",
     "output_type": "stream",
     "text": [
      "Note: you may need to restart the kernel to use updated packages.\n"
     ]
    }
   ],
   "source": [
    "# installing dependencies\n",
    "%pip install -q chatsky==0.10.0"
   ]
  },
  {
   "cell_type": "code",
   "execution_count": 2,
   "id": "d57251fa",
   "metadata": {
    "execution": {
     "iopub.execute_input": "2025-02-18T09:23:27.923977Z",
     "iopub.status.busy": "2025-02-18T09:23:27.923555Z",
     "iopub.status.idle": "2025-02-18T09:23:29.595567Z",
     "shell.execute_reply": "2025-02-18T09:23:29.594864Z"
    }
   },
   "outputs": [],
   "source": [
    "import asyncio\n",
    "import json\n",
    "import random\n",
    "import logging\n",
    "import sys\n",
    "from importlib import reload\n",
    "from datetime import datetime\n",
    "\n",
    "from chatsky.core.service import (\n",
    "    ServiceGroup,\n",
    "    ExtraHandlerRuntimeInfo,\n",
    ")\n",
    "from chatsky import Context, Pipeline\n",
    "from chatsky.utils.testing.common import (\n",
    "    check_happy_path,\n",
    "    is_interactive_mode,\n",
    ")\n",
    "from chatsky.utils.testing.toy_script import HAPPY_PATH, TOY_SCRIPT_KWARGS\n",
    "\n",
    "reload(logging)\n",
    "logging.basicConfig(stream=sys.stdout, level=logging.INFO, format=\"\")\n",
    "logger = logging.getLogger(__name__)\n",
    "\n",
    "random.seed(0)"
   ]
  },
  {
   "cell_type": "markdown",
   "id": "3311618e",
   "metadata": {
    "cell_marker": "\"\"\""
   },
   "source": [
    "## Intro\n",
    "\n",
    "Extra handlers are additional function\n",
    "lists (before-functions and/or after-functions)\n",
    "that can be added to any pipeline components (service and service groups).\n",
    "\n",
    "Extra handlers main purpose should be statistics collection.\n",
    "\n",
    "## Usage\n",
    "\n",
    "Extra handlers can be attached to pipeline component using\n",
    "`before_handler` and `after_handler` constructor parameter.\n",
    "\n",
    "Extra handler callable signature can be one of the following:\n",
    "`[ctx]` or `[ctx, info]`, where:\n",
    "\n",
    "* `ctx` - `Context` of the current dialog.\n",
    "* `info` - Dictionary, containing information about current extra handler\n",
    "    and the pipeline component that called this.\n",
    "\n",
    "    For example, `info.stage` will tell you if this Extra Handler is a\n",
    "    BeforeHandler or AfterHandler; `info.component.name` will give\n",
    "    you the component's name; `info.component.get_state(ctx)` will\n",
    "    return the component's execution state (which is `NOT_RUN` for\n",
    "    before handlers and `FINISHED` for after handlers).\n",
    "\n",
    "### Extra Handler configuration\n",
    "\n",
    "Instead of passing a list of functions as extra handler you can pass an instance\n",
    "of either [BeforeHandler](../apiref/chatsky.core.service.extra.rst#chatsky.core.service.extra.BeforeHandler) or\n",
    "[AfterHandler](../apiref/chatsky.core.service.extra.rst#chatsky.core.service.extra.AfterHandler).\n",
    "\n",
    "This allows changing the `timeout` and `concurrent` options to change\n",
    "the way extra handlers are executed.\n",
    "\n",
    "### Mass extra handler addition\n",
    "\n",
    "You can use [add_extra_handler](../apiref/chatsky.core.service.group.rst#chatsky.core.service.group.ServiceGroup.add_extra_handler)\n",
    "to add a function as an extra handler to a service group and if you pass\n",
    "a `condition` function it will also add the extra handler to all its\n",
    "subcomponents that satisfy the condition function.\n",
    "\n",
    "## Code explanation\n",
    "\n",
    "Here 5 `heavy_service`s are run in a single concurrent service group.\n",
    "Each of them sleeps for random a amount of seconds (between 0 and 0.05).\n",
    "\n",
    "To each of them (as well as the group)\n",
    "time measurement extra handler is attached,\n",
    "that writes execution time to `ctx.misc`.\n",
    "\n",
    "In the end `ctx.misc` is logged to info channel."
   ]
  },
  {
   "cell_type": "code",
   "execution_count": 3,
   "id": "e1997189",
   "metadata": {
    "execution": {
     "iopub.execute_input": "2025-02-18T09:23:29.598608Z",
     "iopub.status.busy": "2025-02-18T09:23:29.597918Z",
     "iopub.status.idle": "2025-02-18T09:23:29.603423Z",
     "shell.execute_reply": "2025-02-18T09:23:29.602730Z"
    }
   },
   "outputs": [],
   "source": [
    "def collect_timestamp_before(ctx: Context, info: ExtraHandlerRuntimeInfo):\n",
    "    ctx.misc.update({f\"{info.component.path}\": datetime.now()})\n",
    "\n",
    "\n",
    "def collect_timestamp_after(ctx: Context, info: ExtraHandlerRuntimeInfo):\n",
    "    ctx.misc.update(\n",
    "        {\n",
    "            f\"{info.component.path}\": datetime.now()\n",
    "            - ctx.misc[f\"{info.component.path}\"]\n",
    "        }\n",
    "    )\n",
    "\n",
    "\n",
    "async def heavy_service(_):\n",
    "    await asyncio.sleep(random.randint(0, 5) / 100)\n",
    "\n",
    "\n",
    "def logging_service(ctx: Context):\n",
    "    logger.info(f\"Context misc: {json.dumps(ctx.misc, indent=4, default=str)}\")"
   ]
  },
  {
   "cell_type": "code",
   "execution_count": 4,
   "id": "063ee855",
   "metadata": {
    "execution": {
     "iopub.execute_input": "2025-02-18T09:23:29.605671Z",
     "iopub.status.busy": "2025-02-18T09:23:29.605174Z",
     "iopub.status.idle": "2025-02-18T09:23:29.610638Z",
     "shell.execute_reply": "2025-02-18T09:23:29.610063Z"
    }
   },
   "outputs": [],
   "source": [
    "pipeline = Pipeline(\n",
    "    **TOY_SCRIPT_KWARGS,\n",
    "    pre_services=ServiceGroup(\n",
    "        before_handler=[collect_timestamp_before],\n",
    "        after_handler=[collect_timestamp_after],\n",
    "        components=[\n",
    "            {\n",
    "                \"handler\": heavy_service,\n",
    "                \"before_handler\": [collect_timestamp_before],\n",
    "                \"after_handler\": [collect_timestamp_after],\n",
    "            }\n",
    "        ]\n",
    "        * 5,\n",
    "    ),\n",
    "    post_services=[logging_service],\n",
    ")"
   ]
  },
  {
   "cell_type": "code",
   "execution_count": 5,
   "id": "49821677",
   "metadata": {
    "execution": {
     "iopub.execute_input": "2025-02-18T09:23:29.612708Z",
     "iopub.status.busy": "2025-02-18T09:23:29.612309Z",
     "iopub.status.idle": "2025-02-18T09:23:29.742420Z",
     "shell.execute_reply": "2025-02-18T09:23:29.741689Z"
    }
   },
   "outputs": [
    {
     "name": "stdout",
     "output_type": "stream",
     "text": [
      "USER: text='Hi'\n",
      "Context misc: {\n",
      "    \".pre\": \"0:00:00.121921\",\n",
      "    \".pre.heavy_service#0\": \"0:00:00.030299\",\n",
      "    \".pre.heavy_service#1\": \"0:00:00.030257\",\n",
      "    \".pre.heavy_service#2\": \"0:00:00.000133\",\n",
      "    \".pre.heavy_service#3\": \"0:00:00.020238\",\n",
      "    \".pre.heavy_service#4\": \"0:00:00.040282\"\n",
      "}\n"
     ]
    },
    {
     "name": "stdout",
     "output_type": "stream",
     "text": [
      "BOT : text='Hi, how are you?'\n"
     ]
    }
   ],
   "source": [
    "if __name__ == \"__main__\":\n",
    "    check_happy_path(pipeline, HAPPY_PATH[:1], printout=True)\n",
    "    if is_interactive_mode():\n",
    "        pipeline.run()"
   ]
  }
 ],
 "metadata": {
  "jupytext": {
   "cell_metadata_filter": "-all",
   "main_language": "python",
   "notebook_metadata_filter": "-all",
   "text_representation": {
    "extension": ".py",
    "format_name": "percent"
   }
  },
  "language_info": {
   "codemirror_mode": {
    "name": "ipython",
    "version": 3
   },
   "file_extension": ".py",
   "mimetype": "text/x-python",
   "name": "python",
   "nbconvert_exporter": "python",
   "pygments_lexer": "ipython3",
   "version": "3.9.21"
  }
 },
 "nbformat": 4,
 "nbformat_minor": 5
}
