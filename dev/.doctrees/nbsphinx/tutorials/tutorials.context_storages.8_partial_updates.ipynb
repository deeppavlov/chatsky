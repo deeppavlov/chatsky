{
 "cells": [
  {
   "cell_type": "markdown",
   "id": "2affee83",
   "metadata": {
    "cell_marker": "\"\"\""
   },
   "source": [
    "# 8. Partial context updates\n",
    "\n",
    "The following tutorial shows the advanced usage\n",
    "of context storage and context storage schema."
   ]
  },
  {
   "cell_type": "code",
   "execution_count": 1,
   "id": "179d25e5",
   "metadata": {
    "execution": {
     "iopub.execute_input": "2025-02-18T09:55:54.214516Z",
     "iopub.status.busy": "2025-02-18T09:55:54.214141Z",
     "iopub.status.idle": "2025-02-18T09:55:55.487948Z",
     "shell.execute_reply": "2025-02-18T09:55:55.487127Z"
    }
   },
   "outputs": [
    {
     "name": "stdout",
     "output_type": "stream",
     "text": [
      "Note: you may need to restart the kernel to use updated packages.\n"
     ]
    }
   ],
   "source": [
    "# installing dependencies\n",
    "%pip install -q chatsky==0.10.0"
   ]
  },
  {
   "cell_type": "code",
   "execution_count": 2,
   "id": "adb65074",
   "metadata": {
    "execution": {
     "iopub.execute_input": "2025-02-18T09:55:55.490523Z",
     "iopub.status.busy": "2025-02-18T09:55:55.490301Z",
     "iopub.status.idle": "2025-02-18T09:55:57.276616Z",
     "shell.execute_reply": "2025-02-18T09:55:57.275933Z"
    }
   },
   "outputs": [],
   "source": [
    "from pathlib import Path\n",
    "\n",
    "from chatsky import Pipeline\n",
    "from chatsky.context_storages import context_storage_factory\n",
    "from chatsky.context_storages.database import NameConfig\n",
    "from chatsky.utils.testing.common import check_happy_path, is_interactive_mode\n",
    "from chatsky.utils.testing.toy_script import TOY_SCRIPT_KWARGS, HAPPY_PATH"
   ]
  },
  {
   "cell_type": "code",
   "execution_count": 3,
   "id": "eca7d394",
   "metadata": {
    "execution": {
     "iopub.execute_input": "2025-02-18T09:55:57.279395Z",
     "iopub.status.busy": "2025-02-18T09:55:57.278826Z",
     "iopub.status.idle": "2025-02-18T09:55:57.283196Z",
     "shell.execute_reply": "2025-02-18T09:55:57.282633Z"
    }
   },
   "outputs": [],
   "source": [
    "Path(\"dbs\").mkdir(exist_ok=True)\n",
    "db = context_storage_factory(\"shelve://dbs/partly.shlv\")\n",
    "\n",
    "pipeline = Pipeline(**TOY_SCRIPT_KWARGS, context_storage=db)"
   ]
  },
  {
   "cell_type": "markdown",
   "id": "f286e90f",
   "metadata": {
    "cell_marker": "\"\"\""
   },
   "source": [
    "Most of the `Context` fields, that might grow in size uncontrollably,\n",
    "are stored in a special structure, `ContextDict`.\n",
    "This structure can be used for fine-grained access to the underlying\n",
    "database, partial and asynchronous element loading.\n",
    "In particular, this is relevant for `labels`, `requests` and `responses`\n",
    "fields, while `misc` and `framework_data` are always loaded fully.\n",
    "\n",
    "How does that partial field writing work?\n",
    "\n",
    "In most cases, every context storage\n",
    "operates two \"tables\", \"dictionaries\", \"files\", etc.\n",
    "\n",
    "One of them is called `MAIN` and contains all the \"primitive\" `Context`\n",
    "data (and also the data that will be read and written completely every time) -\n",
    "that includes context `id`, `current_turn_id`, `_created_at`,\n",
    "`_updated_at`, `misc` and `framework_data` fields.\n",
    "\n",
    "The other one is called `TURNS` and contains triplets of the data generated on\n",
    "each conversation step: `label`, `request` and `response`.\n",
    "\n",
    "Whenever a context is loaded, all of its information from `MAIN` table\n",
    "and one to few items from `TURNS` table are loaded.\n",
    "More items from `TURNS` table can be loaded later on demand\n",
    "(via the `get` or `__getitem__` methods of corresponding fields)."
   ]
  },
  {
   "cell_type": "markdown",
   "id": "e38ec632",
   "metadata": {
    "cell_marker": "\"\"\""
   },
   "source": [
    "Database table layout and default behavior are controlled by\n",
    "some special fields of the `DBContextStorage` class.\n",
    "\n",
    "All the table and field names are stored in a special `NameConfig`\n",
    "static class."
   ]
  },
  {
   "cell_type": "markdown",
   "id": "4c2ab958",
   "metadata": {
    "cell_marker": "\"\"\""
   },
   "source": [
    "One of the important configuration options is `_subscripts`:\n",
    "this property controls the number of *last* dictionary items\n",
    "that will be read and written\n",
    "(the items are ordered by keys, ascending) - default value is 3.\n",
    "In order to read *all* items at once, the property\n",
    "can also be set to \"__all__\" literal.\n",
    "In order to read only a specific subset of keys, the property\n",
    "can be set to a set of desired integers."
   ]
  },
  {
   "cell_type": "code",
   "execution_count": 4,
   "id": "6121db87",
   "metadata": {
    "execution": {
     "iopub.execute_input": "2025-02-18T09:55:57.285680Z",
     "iopub.status.busy": "2025-02-18T09:55:57.285217Z",
     "iopub.status.idle": "2025-02-18T09:55:57.288193Z",
     "shell.execute_reply": "2025-02-18T09:55:57.287647Z"
    }
   },
   "outputs": [],
   "source": [
    "# All items will be loaded on every turn.\n",
    "db._subscripts[NameConfig._requests_field] = \"__all__\""
   ]
  },
  {
   "cell_type": "code",
   "execution_count": 5,
   "id": "96b96381",
   "metadata": {
    "execution": {
     "iopub.execute_input": "2025-02-18T09:55:57.290361Z",
     "iopub.status.busy": "2025-02-18T09:55:57.289929Z",
     "iopub.status.idle": "2025-02-18T09:55:57.293074Z",
     "shell.execute_reply": "2025-02-18T09:55:57.292519Z"
    }
   },
   "outputs": [],
   "source": [
    "# 5 last items will be loaded on every turn.\n",
    "db._subscripts[NameConfig._requests_field] = 5"
   ]
  },
  {
   "cell_type": "code",
   "execution_count": 6,
   "id": "0d00e738",
   "metadata": {
    "execution": {
     "iopub.execute_input": "2025-02-18T09:55:57.295316Z",
     "iopub.status.busy": "2025-02-18T09:55:57.294898Z",
     "iopub.status.idle": "2025-02-18T09:55:57.297991Z",
     "shell.execute_reply": "2025-02-18T09:55:57.297431Z"
    }
   },
   "outputs": [],
   "source": [
    "# Items 1, 3, 5 and 7 will be loaded on every turn.\n",
    "db._subscripts[NameConfig._requests_field] = {1, 3, 5, 7}"
   ]
  },
  {
   "cell_type": "markdown",
   "id": "dc1baa54",
   "metadata": {
    "cell_marker": "\"\"\""
   },
   "source": [
    "Last but not least, comes `rewrite_existing` boolean flag.\n",
    "\n",
    "Without it any \"silent\" modifications to the values of `ContextDict` will be\n",
    "discarded at the end of each turn.\n",
    "\n",
    "I.e. explicit modification of values via methods such as `__setitem__`,\n",
    "`__delitem__` or `pop` will be kept track of and preserved, while\n",
    "implicit modification via object manipulation,\n",
    "e.g. ``ctx.last_request.text = \"new_text\"``, will be discarded.\n",
    "\n",
    "Turning the option on will enable calculating hashes for all items stored\n",
    "locally and comparing them at the end of every turn, updating any\n",
    "that were implicitly changed.\n",
    "\n",
    "NB! Keeping track of the modified elements comes with a price of calculating\n",
    "their hashes and comparing them, so in performance-critical environments\n",
    "this feature can be disabled by setting the flag to False."
   ]
  },
  {
   "cell_type": "code",
   "execution_count": 7,
   "id": "b05c8148",
   "metadata": {
    "execution": {
     "iopub.execute_input": "2025-02-18T09:55:57.300136Z",
     "iopub.status.busy": "2025-02-18T09:55:57.299743Z",
     "iopub.status.idle": "2025-02-18T09:55:57.302876Z",
     "shell.execute_reply": "2025-02-18T09:55:57.302198Z"
    }
   },
   "outputs": [],
   "source": [
    "# Any modifications done to the elements already present in storage\n",
    "# will be preserved.\n",
    "db.rewrite_existing = True"
   ]
  },
  {
   "cell_type": "code",
   "execution_count": 8,
   "id": "edc10404",
   "metadata": {
    "execution": {
     "iopub.execute_input": "2025-02-18T09:55:57.304987Z",
     "iopub.status.busy": "2025-02-18T09:55:57.304579Z",
     "iopub.status.idle": "2025-02-18T09:55:57.390950Z",
     "shell.execute_reply": "2025-02-18T09:55:57.390314Z"
    }
   },
   "outputs": [],
   "source": [
    "if __name__ == \"__main__\":\n",
    "    check_happy_path(pipeline, HAPPY_PATH)\n",
    "    # This is a function for automatic\n",
    "    # tutorial running (testing) with HAPPY_PATH\n",
    "\n",
    "    # This runs tutorial in interactive mode if not in IPython env\n",
    "    # and if `DISABLE_INTERACTIVE_MODE` is not set\n",
    "    if is_interactive_mode():\n",
    "        pipeline.run()  # This runs tutorial in interactive mode"
   ]
  }
 ],
 "metadata": {
  "jupytext": {
   "cell_metadata_filter": "-all",
   "main_language": "python",
   "notebook_metadata_filter": "-all",
   "text_representation": {
    "extension": ".py",
    "format_name": "percent"
   }
  },
  "language_info": {
   "codemirror_mode": {
    "name": "ipython",
    "version": 3
   },
   "file_extension": ".py",
   "mimetype": "text/x-python",
   "name": "python",
   "nbconvert_exporter": "python",
   "pygments_lexer": "ipython3",
   "version": "3.9.21"
  }
 },
 "nbformat": 4,
 "nbformat_minor": 5
}
