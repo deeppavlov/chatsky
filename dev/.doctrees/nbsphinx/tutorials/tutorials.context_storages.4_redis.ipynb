{
 "cells": [
  {
   "cell_type": "markdown",
   "id": "d75168ac",
   "metadata": {
    "cell_marker": "\"\"\""
   },
   "source": [
    "# 4. Redis\n",
    "\n",
    "This is a tutorial on using Redis.\n",
    "\n",
    "See [RedisContextStorage](../apiref/chatsky.context_storages.redis.rst#chatsky.context_storages.redis.RedisContextStorage) class\n",
    "for storing you users' contexts in Redis database.\n",
    "\n",
    "Chatsky uses [redis.asyncio](https://redis.readthedocs.io/en/latest/)\n",
    "library for asynchronous access to Redis DB."
   ]
  },
  {
   "cell_type": "code",
   "execution_count": 1,
   "id": "7090d149",
   "metadata": {
    "execution": {
     "iopub.execute_input": "2025-02-18T09:19:56.224478Z",
     "iopub.status.busy": "2025-02-18T09:19:56.223846Z",
     "iopub.status.idle": "2025-02-18T09:19:57.492168Z",
     "shell.execute_reply": "2025-02-18T09:19:57.491394Z"
    }
   },
   "outputs": [
    {
     "name": "stdout",
     "output_type": "stream",
     "text": [
      "Note: you may need to restart the kernel to use updated packages.\n"
     ]
    }
   ],
   "source": [
    "# installing dependencies\n",
    "%pip install -q chatsky[redis]==0.10.0"
   ]
  },
  {
   "cell_type": "code",
   "execution_count": 2,
   "id": "f001864e",
   "metadata": {
    "execution": {
     "iopub.execute_input": "2025-02-18T09:19:57.494806Z",
     "iopub.status.busy": "2025-02-18T09:19:57.494349Z",
     "iopub.status.idle": "2025-02-18T09:19:59.175125Z",
     "shell.execute_reply": "2025-02-18T09:19:59.174346Z"
    },
    "lines_to_next_cell": 2
   },
   "outputs": [],
   "source": [
    "import os\n",
    "\n",
    "from chatsky.context_storages import context_storage_factory\n",
    "\n",
    "from chatsky import Pipeline\n",
    "from chatsky.utils.testing.common import (\n",
    "    check_happy_path,\n",
    "    is_interactive_mode,\n",
    ")\n",
    "from chatsky.utils.testing.toy_script import TOY_SCRIPT_KWARGS, HAPPY_PATH"
   ]
  },
  {
   "cell_type": "code",
   "execution_count": 3,
   "id": "bce401e8",
   "metadata": {
    "execution": {
     "iopub.execute_input": "2025-02-18T09:19:59.177977Z",
     "iopub.status.busy": "2025-02-18T09:19:59.177631Z",
     "iopub.status.idle": "2025-02-18T09:19:59.182595Z",
     "shell.execute_reply": "2025-02-18T09:19:59.181937Z"
    },
    "lines_to_next_cell": 2
   },
   "outputs": [],
   "source": [
    "db_uri = \"redis://{}:{}@localhost:6379/{}\".format(\n",
    "    \"\", os.environ[\"REDIS_PASSWORD\"], \"0\"\n",
    ")\n",
    "db = context_storage_factory(db_uri)\n",
    "\n",
    "\n",
    "pipeline = Pipeline(**TOY_SCRIPT_KWARGS, context_storage=db)"
   ]
  },
  {
   "cell_type": "code",
   "execution_count": 4,
   "id": "1df09e21",
   "metadata": {
    "execution": {
     "iopub.execute_input": "2025-02-18T09:19:59.184709Z",
     "iopub.status.busy": "2025-02-18T09:19:59.184498Z",
     "iopub.status.idle": "2025-02-18T09:19:59.246732Z",
     "shell.execute_reply": "2025-02-18T09:19:59.245979Z"
    }
   },
   "outputs": [
    {
     "name": "stdout",
     "output_type": "stream",
     "text": [
      "USER: text='Hi'\n",
      "BOT : text='Hi, how are you?'\n",
      "USER: text='i'm fine, how are you?'\n",
      "BOT : text='Good. What do you want to talk about?'\n",
      "USER: text='Let's talk about music.'\n",
      "BOT : text='Sorry, I can not talk about music now.'\n",
      "USER: text='Ok, goodbye.'\n",
      "BOT : text='bye'\n",
      "USER: text='Hi'\n",
      "BOT : text='Hi, how are you?'\n"
     ]
    }
   ],
   "source": [
    "if __name__ == \"__main__\":\n",
    "    check_happy_path(pipeline, HAPPY_PATH, printout=True)\n",
    "    if is_interactive_mode():\n",
    "        pipeline.run()"
   ]
  }
 ],
 "metadata": {
  "jupytext": {
   "cell_metadata_filter": "-all",
   "main_language": "python",
   "notebook_metadata_filter": "-all",
   "text_representation": {
    "extension": ".py",
    "format_name": "percent"
   }
  },
  "language_info": {
   "codemirror_mode": {
    "name": "ipython",
    "version": 3
   },
   "file_extension": ".py",
   "mimetype": "text/x-python",
   "name": "python",
   "nbconvert_exporter": "python",
   "pygments_lexer": "ipython3",
   "version": "3.9.21"
  }
 },
 "nbformat": 4,
 "nbformat_minor": 5
}
