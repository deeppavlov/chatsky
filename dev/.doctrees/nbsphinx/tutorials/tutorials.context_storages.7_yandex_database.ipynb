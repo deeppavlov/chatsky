{
 "cells": [
  {
   "cell_type": "markdown",
   "id": "11884998",
   "metadata": {
    "cell_marker": "\"\"\""
   },
   "source": [
    "# 7. Yandex DataBase\n",
    "\n",
    "This is a tutorial on how to use Yandex DataBase.\n",
    "\n",
    "See [YDBContextStorage](../apiref/chatsky.context_storages.ydb.rst#chatsky.context_storages.ydb.YDBContextStorage) class\n",
    "for storing you users' contexts in Yandex database.\n",
    "\n",
    "Chatsky uses [ydb.aio](https://ydb.tech/en/docs/)\n",
    "library for asynchronous access to Yandex DB."
   ]
  },
  {
   "cell_type": "code",
   "execution_count": 1,
   "id": "81e35d73",
   "metadata": {
    "execution": {
     "iopub.execute_input": "2025-02-18T09:55:49.010448Z",
     "iopub.status.busy": "2025-02-18T09:55:49.010197Z",
     "iopub.status.idle": "2025-02-18T09:55:50.288158Z",
     "shell.execute_reply": "2025-02-18T09:55:50.287311Z"
    }
   },
   "outputs": [
    {
     "name": "stdout",
     "output_type": "stream",
     "text": [
      "Note: you may need to restart the kernel to use updated packages.\n"
     ]
    }
   ],
   "source": [
    "# installing dependencies\n",
    "%pip install -q chatsky[ydb]==0.10.0"
   ]
  },
  {
   "cell_type": "code",
   "execution_count": 2,
   "id": "9d8a0880",
   "metadata": {
    "execution": {
     "iopub.execute_input": "2025-02-18T09:55:50.290767Z",
     "iopub.status.busy": "2025-02-18T09:55:50.290504Z",
     "iopub.status.idle": "2025-02-18T09:55:52.115434Z",
     "shell.execute_reply": "2025-02-18T09:55:52.114653Z"
    },
    "lines_to_next_cell": 2
   },
   "outputs": [],
   "source": [
    "import os\n",
    "\n",
    "from chatsky.context_storages import context_storage_factory\n",
    "\n",
    "from chatsky import Pipeline\n",
    "from chatsky.utils.testing.common import (\n",
    "    check_happy_path,\n",
    "    is_interactive_mode,\n",
    ")\n",
    "from chatsky.utils.testing.toy_script import TOY_SCRIPT_KWARGS, HAPPY_PATH"
   ]
  },
  {
   "cell_type": "code",
   "execution_count": 3,
   "id": "3d15fd7b",
   "metadata": {
    "execution": {
     "iopub.execute_input": "2025-02-18T09:55:52.118464Z",
     "iopub.status.busy": "2025-02-18T09:55:52.117737Z",
     "iopub.status.idle": "2025-02-18T09:55:52.122762Z",
     "shell.execute_reply": "2025-02-18T09:55:52.122060Z"
    },
    "lines_to_next_cell": 2
   },
   "outputs": [],
   "source": [
    "# ##### Connecting to yandex cloud\n",
    "# https://github.com/zinal/ydb-python-sdk/blob/ex_basic-example_p1/examples/basic_example_v1/README.md\n",
    "# export YDB_SERVICE_ACCOUNT_KEY_FILE_CREDENTIALS=$HOME/key-ydb-sa-0.json\n",
    "# export YDB_ENDPOINT=grpcs://ydb.serverless.yandexcloud.net:2135\n",
    "# export YDB_DATABASE=/ru-central1/qwertyuiopasdfgh/123456789qwertyui\n",
    "# ##### or use local-ydb with variables from .env_file\n",
    "# db_uri=\"grpc://localhost:2136/local\"\n",
    "\n",
    "db_uri = \"{}{}\".format(\n",
    "    os.environ[\"YDB_ENDPOINT\"],\n",
    "    os.environ[\"YDB_DATABASE\"],\n",
    ")\n",
    "db = context_storage_factory(db_uri)\n",
    "\n",
    "pipeline = Pipeline(**TOY_SCRIPT_KWARGS, context_storage=db)"
   ]
  },
  {
   "cell_type": "code",
   "execution_count": 4,
   "id": "27b64014",
   "metadata": {
    "execution": {
     "iopub.execute_input": "2025-02-18T09:55:52.124857Z",
     "iopub.status.busy": "2025-02-18T09:55:52.124633Z",
     "iopub.status.idle": "2025-02-18T09:55:52.376433Z",
     "shell.execute_reply": "2025-02-18T09:55:52.375657Z"
    }
   },
   "outputs": [
    {
     "name": "stdout",
     "output_type": "stream",
     "text": [
      "USER: text='Hi'\n",
      "BOT : text='Hi, how are you?'\n",
      "USER: text='i'm fine, how are you?'\n",
      "BOT : text='Good. What do you want to talk about?'\n",
      "USER: text='Let's talk about music.'\n",
      "BOT : text='Sorry, I can not talk about music now.'\n",
      "USER: text='Ok, goodbye.'\n"
     ]
    },
    {
     "name": "stdout",
     "output_type": "stream",
     "text": [
      "BOT : text='bye'\n",
      "USER: text='Hi'\n",
      "BOT : text='Hi, how are you?'\n"
     ]
    }
   ],
   "source": [
    "if __name__ == \"__main__\":\n",
    "    check_happy_path(pipeline, HAPPY_PATH, printout=True)\n",
    "    if is_interactive_mode():\n",
    "        pipeline.run()"
   ]
  }
 ],
 "metadata": {
  "jupytext": {
   "cell_metadata_filter": "-all",
   "main_language": "python",
   "notebook_metadata_filter": "-all",
   "text_representation": {
    "extension": ".py",
    "format_name": "percent"
   }
  },
  "language_info": {
   "codemirror_mode": {
    "name": "ipython",
    "version": 3
   },
   "file_extension": ".py",
   "mimetype": "text/x-python",
   "name": "python",
   "nbconvert_exporter": "python",
   "pygments_lexer": "ipython3",
   "version": "3.9.21"
  }
 },
 "nbformat": 4,
 "nbformat_minor": 5
}
