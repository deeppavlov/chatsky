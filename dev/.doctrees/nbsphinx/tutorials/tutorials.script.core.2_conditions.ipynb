{
 "cells": [
  {
   "cell_type": "markdown",
   "id": "fd95fbb2",
   "metadata": {
    "cell_marker": "\"\"\""
   },
   "source": [
    "# Core: 2. Conditions\n",
    "\n",
    "This tutorial shows different options for\n",
    "setting transition conditions from one node to another.\n",
    "\n",
    "Here, [conditions](../apiref/chatsky.conditions.standard.rst)\n",
    "for script transitions are shown."
   ]
  },
  {
   "cell_type": "code",
   "execution_count": 1,
   "id": "8b0ad990",
   "metadata": {
    "execution": {
     "iopub.execute_input": "2025-02-18T09:57:48.756068Z",
     "iopub.status.busy": "2025-02-18T09:57:48.755850Z",
     "iopub.status.idle": "2025-02-18T09:57:49.928502Z",
     "shell.execute_reply": "2025-02-18T09:57:49.927734Z"
    }
   },
   "outputs": [
    {
     "name": "stdout",
     "output_type": "stream",
     "text": [
      "Note: you may need to restart the kernel to use updated packages.\n"
     ]
    }
   ],
   "source": [
    "# installing dependencies\n",
    "%pip install -q chatsky==0.10.0"
   ]
  },
  {
   "cell_type": "code",
   "execution_count": 2,
   "id": "e42e4e95",
   "metadata": {
    "execution": {
     "iopub.execute_input": "2025-02-18T09:57:49.931321Z",
     "iopub.status.busy": "2025-02-18T09:57:49.930715Z",
     "iopub.status.idle": "2025-02-18T09:57:51.635077Z",
     "shell.execute_reply": "2025-02-18T09:57:51.634424Z"
    }
   },
   "outputs": [],
   "source": [
    "import re\n",
    "\n",
    "from chatsky import (\n",
    "    Context,\n",
    "    TRANSITIONS,\n",
    "    RESPONSE,\n",
    "    Message,\n",
    "    Pipeline,\n",
    "    BaseCondition,\n",
    "    Transition as Tr,\n",
    "    conditions as cnd,\n",
    ")\n",
    "\n",
    "from chatsky.utils.testing.common import (\n",
    "    check_happy_path,\n",
    "    is_interactive_mode,\n",
    ")"
   ]
  },
  {
   "cell_type": "markdown",
   "id": "df21c206",
   "metadata": {
    "cell_marker": "\"\"\""
   },
   "source": [
    "The transition condition is determined by\n",
    "[BaseCondition](../apiref/chatsky.core.script_function.rst#chatsky.core.script_function.BaseCondition).\n",
    "\n",
    "If this function returns `True`,\n",
    "then the corresponding transition is considered possible.\n",
    "\n",
    "Condition functions have signature\n",
    "\n",
    "    class MyCondition(BaseCondition):\n",
    "        async def call(self, ctx: Context) -> bool:\n",
    "\n",
    "This script covers the following pre-defined conditions:\n",
    "\n",
    "- `ExactMatch` returns `True` if the user's request completely\n",
    "    matches the value passed to the function.\n",
    "- `Regexp` returns `True` if the pattern matches the user's request.\n",
    "    `Regexp` has same signature as `re.compile` function.\n",
    "- `Any` returns `True` if one element of input sequence of conditions is `True`.\n",
    "- `All` returns `True` if All elements of input\n",
    "    sequence of conditions are `True`.\n",
    "\n",
    "For a full list of available conditions see\n",
    "[here](../apiref/chatsky.conditions.standard.rst).\n",
    "\n",
    "The `cnd` field of `Transition` may also be a constant bool value."
   ]
  },
  {
   "cell_type": "code",
   "execution_count": 3,
   "id": "1df753c1",
   "metadata": {
    "execution": {
     "iopub.execute_input": "2025-02-18T09:57:51.638028Z",
     "iopub.status.busy": "2025-02-18T09:57:51.637385Z",
     "iopub.status.idle": "2025-02-18T09:57:51.642189Z",
     "shell.execute_reply": "2025-02-18T09:57:51.641505Z"
    }
   },
   "outputs": [],
   "source": [
    "class HiLowerCase(BaseCondition):\n",
    "    \"\"\"\n",
    "    Return True if `hi` in both uppercase and lowercase\n",
    "    letters is contained in the user request.\n",
    "    \"\"\"\n",
    "\n",
    "    async def call(self, ctx: Context) -> bool:\n",
    "        request = ctx.last_request\n",
    "        return \"hi\" in request.text.lower()"
   ]
  },
  {
   "cell_type": "markdown",
   "id": "3c8535b8",
   "metadata": {
    "cell_marker": "\"\"\""
   },
   "source": [
    "Conditions are subclasses of `pydantic.BaseModel`.\n",
    "\n",
    "You can define custom fields to make them more customizable:"
   ]
  },
  {
   "cell_type": "code",
   "execution_count": 4,
   "id": "054d7305",
   "metadata": {
    "execution": {
     "iopub.execute_input": "2025-02-18T09:57:51.644416Z",
     "iopub.status.busy": "2025-02-18T09:57:51.644015Z",
     "iopub.status.idle": "2025-02-18T09:57:51.648918Z",
     "shell.execute_reply": "2025-02-18T09:57:51.648227Z"
    },
    "lines_to_next_cell": 2
   },
   "outputs": [],
   "source": [
    "class ComplexUserAnswer(BaseCondition):\n",
    "    \"\"\"\n",
    "    Checks if the misc field of the last message is of a certain value.\n",
    "\n",
    "    Messages are more complex than just strings.\n",
    "    The misc field can be used to store metadata about the message.\n",
    "    More on that in the next tutorial.\n",
    "    \"\"\"\n",
    "\n",
    "    value: dict\n",
    "\n",
    "    async def call(self, ctx: Context) -> bool:\n",
    "        request = ctx.last_request\n",
    "        return request.misc == self.value\n",
    "\n",
    "\n",
    "customized_condition = ComplexUserAnswer(value={\"some_key\": \"some_value\"})"
   ]
  },
  {
   "cell_type": "code",
   "execution_count": 5,
   "id": "850e2851",
   "metadata": {
    "execution": {
     "iopub.execute_input": "2025-02-18T09:57:51.650930Z",
     "iopub.status.busy": "2025-02-18T09:57:51.650737Z",
     "iopub.status.idle": "2025-02-18T09:57:51.659845Z",
     "shell.execute_reply": "2025-02-18T09:57:51.659297Z"
    }
   },
   "outputs": [],
   "source": [
    "toy_script = {\n",
    "    \"greeting_flow\": {\n",
    "        \"start_node\": {\n",
    "            TRANSITIONS: [Tr(dst=\"node1\", cnd=cnd.ExactMatch(\"Hi\"))],\n",
    "            # If \"Hi\" == request of user then we make the transition\n",
    "        },\n",
    "        \"node1\": {\n",
    "            RESPONSE: \"Hi, how are you?\",\n",
    "            TRANSITIONS: [\n",
    "                Tr(\n",
    "                    dst=\"node2\",\n",
    "                    cnd=cnd.Regexp(r\".*how are you\", flags=re.IGNORECASE),\n",
    "                )\n",
    "            ],\n",
    "            # pattern matching\n",
    "        },\n",
    "        \"node2\": {\n",
    "            RESPONSE: \"Good. What do you want to talk about?\",\n",
    "            TRANSITIONS: [\n",
    "                Tr(\n",
    "                    dst=\"node3\",\n",
    "                    cnd=cnd.All(\n",
    "                        cnd.Regexp(r\"talk\"), cnd.Regexp(r\"about.*music\")\n",
    "                    ),\n",
    "                )\n",
    "            ],\n",
    "            # Combine sequences of conditions with `cnd.All`\n",
    "        },\n",
    "        \"node3\": {\n",
    "            RESPONSE: \"Sorry, I can not talk about music now.\",\n",
    "            TRANSITIONS: [\n",
    "                Tr(dst=\"node4\", cnd=cnd.Regexp(re.compile(r\"Ok, goodbye.\")))\n",
    "            ],\n",
    "        },\n",
    "        \"node4\": {\n",
    "            RESPONSE: \"bye\",\n",
    "            TRANSITIONS: [\n",
    "                Tr(\n",
    "                    dst=\"node1\",\n",
    "                    cnd=cnd.Any(\n",
    "                        HiLowerCase(),\n",
    "                        cnd.ExactMatch(\"hello\"),\n",
    "                    ),\n",
    "                )\n",
    "            ],\n",
    "            # Combine sequences of conditions with `cnd.Any`\n",
    "        },\n",
    "        \"fallback_node\": {  # We get to this node\n",
    "            # if no suitable transition was found\n",
    "            RESPONSE: \"Ooops\",\n",
    "            TRANSITIONS: [\n",
    "                Tr(dst=\"node1\", cnd=customized_condition),\n",
    "                # use a previously instantiated condition here\n",
    "                Tr(dst=\"start_node\", cnd=False),\n",
    "                # This transition will never be made\n",
    "                Tr(dst=\"fallback_node\"),\n",
    "                # `True` is the default value of `cnd`\n",
    "                # this transition will always be valid\n",
    "            ],\n",
    "        },\n",
    "    }\n",
    "}\n",
    "\n",
    "# testing\n",
    "happy_path = (\n",
    "    (\n",
    "        \"Hi\",\n",
    "        \"Hi, how are you?\",\n",
    "    ),  # start_node -> node1\n",
    "    (\n",
    "        \"i'm fine, how are you?\",\n",
    "        \"Good. What do you want to talk about?\",\n",
    "    ),  # node1 -> node2\n",
    "    (\n",
    "        \"Let's talk about music.\",\n",
    "        \"Sorry, I can not talk about music now.\",\n",
    "    ),  # node2 -> node3\n",
    "    (\"Ok, goodbye.\", \"bye\"),  # node3 -> node4\n",
    "    (\"Hi\", \"Hi, how are you?\"),  # node4 -> node1\n",
    "    (\"stop\", \"Ooops\"),  # node1 -> fallback_node\n",
    "    (\n",
    "        \"one\",\n",
    "        \"Ooops\",\n",
    "    ),  # fallback_node -> fallback_node\n",
    "    (\n",
    "        \"help\",\n",
    "        \"Ooops\",\n",
    "    ),  # fallback_node -> fallback_node\n",
    "    (\n",
    "        \"nope\",\n",
    "        \"Ooops\",\n",
    "    ),  # fallback_node -> fallback_node\n",
    "    (\n",
    "        Message(misc={\"some_key\": \"some_value\"}),\n",
    "        \"Hi, how are you?\",\n",
    "    ),  # fallback_node -> node1\n",
    "    (\n",
    "        \"i'm fine, how are you?\",\n",
    "        \"Good. What do you want to talk about?\",\n",
    "    ),  # node1 -> node2\n",
    "    (\n",
    "        \"Let's talk about music.\",\n",
    "        \"Sorry, I can not talk about music now.\",\n",
    "    ),  # node2 -> node3\n",
    "    (\"Ok, goodbye.\", \"bye\"),  # node3 -> node4\n",
    ")"
   ]
  },
  {
   "cell_type": "code",
   "execution_count": 6,
   "id": "57fe0d53",
   "metadata": {
    "execution": {
     "iopub.execute_input": "2025-02-18T09:57:51.661798Z",
     "iopub.status.busy": "2025-02-18T09:57:51.661584Z",
     "iopub.status.idle": "2025-02-18T09:57:51.704432Z",
     "shell.execute_reply": "2025-02-18T09:57:51.703809Z"
    }
   },
   "outputs": [
    {
     "name": "stdout",
     "output_type": "stream",
     "text": [
      "USER: text='Hi'\n",
      "BOT : text='Hi, how are you?'\n",
      "USER: text='i'm fine, how are you?'\n",
      "BOT : text='Good. What do you want to talk about?'\n",
      "USER: text='Let's talk about music.'\n",
      "BOT : text='Sorry, I can not talk about music now.'\n",
      "USER: text='Ok, goodbye.'\n",
      "BOT : text='bye'\n",
      "USER: text='Hi'\n",
      "BOT : text='Hi, how are you?'\n",
      "USER: text='stop'\n",
      "BOT : text='Ooops'\n",
      "USER: text='one'\n",
      "BOT : text='Ooops'\n",
      "USER: text='help'\n",
      "BOT : text='Ooops'\n",
      "USER: text='nope'\n",
      "BOT : text='Ooops'\n",
      "USER: misc='{'some_key': 'some_value'}'\n",
      "BOT : text='Hi, how are you?'\n",
      "USER: text='i'm fine, how are you?'\n",
      "BOT : text='Good. What do you want to talk about?'\n",
      "USER: text='Let's talk about music.'\n",
      "BOT : text='Sorry, I can not talk about music now.'\n",
      "USER: text='Ok, goodbye.'\n",
      "BOT : text='bye'\n"
     ]
    }
   ],
   "source": [
    "pipeline = Pipeline(\n",
    "    script=toy_script,\n",
    "    start_label=(\"greeting_flow\", \"start_node\"),\n",
    "    fallback_label=(\"greeting_flow\", \"fallback_node\"),\n",
    ")\n",
    "\n",
    "if __name__ == \"__main__\":\n",
    "    check_happy_path(pipeline, happy_path, printout=True)\n",
    "    if is_interactive_mode():\n",
    "        pipeline.run()"
   ]
  }
 ],
 "metadata": {
  "jupytext": {
   "cell_metadata_filter": "-all",
   "main_language": "python",
   "notebook_metadata_filter": "-all",
   "text_representation": {
    "extension": ".py",
    "format_name": "percent"
   }
  },
  "language_info": {
   "codemirror_mode": {
    "name": "ipython",
    "version": 3
   },
   "file_extension": ".py",
   "mimetype": "text/x-python",
   "name": "python",
   "nbconvert_exporter": "python",
   "pygments_lexer": "ipython3",
   "version": "3.9.21"
  }
 },
 "nbformat": 4,
 "nbformat_minor": 5
}
