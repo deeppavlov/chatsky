{
  "nbformat": 4,
  "nbformat_minor": 0,
  "metadata": {
    "colab": {
      "provenance": [],
      "mount_file_id": "1K8dSq-mrFOR44N6CwDp8WiqVDHdtDHJQ",
      "authorship_tag": "ABX9TyP5keJL46m+Vgb5Qj+tw1SA",
      "include_colab_link": true
    },
    "kernelspec": {
      "name": "python3",
      "display_name": "Python 3"
    },
    "language_info": {
      "name": "python"
    },
    "accelerator": "GPU",
    "gpuClass": "standard"
  },
  "cells": [
    {
      "cell_type": "markdown",
      "metadata": {
        "id": "view-in-github",
        "colab_type": "text"
      },
      "source": [
        "<a href=\"https://colab.research.google.com/github/ruthenian8/forhse2/blob/master/Training_intent_catcher.ipynb\" target=\"_parent\"><img src=\"https://colab.research.google.com/assets/colab-badge.svg\" alt=\"Open In Colab\"/></a>"
      ]
    },
    {
      "cell_type": "code",
      "source": [
        "!pip install --upgrade pip"
      ],
      "metadata": {
        "colab": {
          "base_uri": "https://localhost:8080/"
        },
        "id": "rY6UASGLpmt6",
        "outputId": "f44435da-8658-43f2-f56d-e8987663663c"
      },
      "execution_count": null,
      "outputs": [
        {
          "output_type": "stream",
          "name": "stdout",
          "text": [
            "Looking in indexes: https://pypi.org/simple, https://us-python.pkg.dev/colab-wheels/public/simple/\n",
            "Requirement already satisfied: pip in /usr/local/lib/python3.10/dist-packages (23.1.2)\n"
          ]
        }
      ]
    },
    {
      "cell_type": "code",
      "source": [
        "!pip install deeppavlov"
      ],
      "metadata": {
        "id": "RboxW9XRp57X"
      },
      "execution_count": null,
      "outputs": []
    },
    {
      "cell_type": "code",
      "source": [
        "!curl --proto '=https' --tlsv1.2 -sSf https://sh.rustup.rs | sh -s -- -y\n",
        "# The required version of 'tokenizers' library depends on a Rust compiler."
      ],
      "metadata": {
        "id": "BfpE0tExLbN2"
      },
      "execution_count": null,
      "outputs": []
    },
    {
      "cell_type": "code",
      "source": [
        "!export PATH=\"/$HOME/.cargo/bin:${PATH}\" && pip install 'tokenizers==0.10.3'\n",
        "# Before installing 'tokenizers', we ensure system-wide Rust compiler availability."
      ],
      "metadata": {
        "id": "aDJWGvk0tU1-"
      },
      "execution_count": null,
      "outputs": []
    },
    {
      "cell_type": "code",
      "execution_count": null,
      "metadata": {
        "id": "Fl7obdeKFomg"
      },
      "outputs": [],
      "source": [
        "!git clone https://github.com/deeppavlov/dream.git"
      ]
    },
    {
      "cell_type": "code",
      "source": [
        "!pip install 'xeger==0.3.5'\n",
        "!pip install 'transformers==4.6.0'"
      ],
      "metadata": {
        "id": "Gl9xIpKFqiLs"
      },
      "execution_count": null,
      "outputs": []
    },
    {
      "cell_type": "code",
      "source": [
        "# In order to train the model with custom classes, we need to modify the 'intent_phrases.json' file.\n",
        "# Each intent in the json structure includes a 'phrases' section.\n",
        "# Regular expressions from that section will be used to generate the data used during training.\n",
        "import json\n",
        "INTENT_PHRASES = './dream/annotators/IntentCatcherTransformers/intent_phrases.json'\n",
        "\n",
        "with open(INTENT_PHRASES, 'r') as file:\n",
        "    intents = json.load(file)\n",
        "\n",
        "intents['purchase'] = {\n",
        "    \"phrases\": [\n",
        "        \"i think i'll ((order)|(purchase)|(buy)) a book\",\n",
        "        \"i plan on ((buying)|(purchasing)|(ordering)) a book\",\n",
        "        \"i would ((love)|(like)) to ((order)|(purchase)|(buy)) a book\",\n",
        "        \"i'm interested in ((buying)|(purchasing)|(ordering)) a book\",\n",
        "        \"do you have this book in stock\",\n",
        "        \"i'm looking to ((order)|(purchase)|(buy)) a book\",\n",
        "        \"add this to my cart\",\n",
        "        \"i want to make an order\"\n",
        "    ],\n",
        "    \"reg_phrases\": [\n",
        "        \"i want to buy a book\",\n",
        "        \"order an item\",\n",
        "        \"order a book\"\n",
        "    ],\n",
        "    \"min_precision\": 0.94,\n",
        "    \"punctuation\": [\n",
        "        \".\",\n",
        "        \"?\"\n",
        "    ]\n",
        "}\n",
        "\n",
        "with open(INTENT_PHRASES, 'w') as file:\n",
        "    json.dump(itents, file)"
      ],
      "metadata": {
        "id": "d26Ko8xFF6sH"
      },
      "execution_count": null,
      "outputs": []
    },
    {
      "cell_type": "code",
      "source": [
        "!cd /content/dream/annotators/IntentCatcherTransformers/ && export CUDA_VISIBLE_DEVICES=0 && python -m deeppavlov train intents_model_dp_config.json\n",
        "# CUDA_VISIBLE_DEVICES variable is required for GPU-powered training with DeepPavlov."
      ],
      "metadata": {
        "id": "lOmGOt6Wllly"
      },
      "execution_count": null,
      "outputs": []
    },
    {
      "cell_type": "code",
      "source": [
        "!cp /root/.deeppavlov/models/classifiers/intents_model_v2/model.pth.tar /content/drive/MyDrive/\n",
        "!cp /root/.deeppavlov/models/classifiers/intents_model_v2/classes.dict /content/drive/MyDrive/\n",
        "# Weights and metadata produced during training can be copied to mounted Google drive."
      ],
      "metadata": {
        "id": "YUeJ67-CeuX5"
      },
      "execution_count": null,
      "outputs": []
    }
  ]
}
